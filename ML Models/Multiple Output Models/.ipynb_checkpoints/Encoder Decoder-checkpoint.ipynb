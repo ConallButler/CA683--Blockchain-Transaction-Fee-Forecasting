{
 "cells": [
  {
   "cell_type": "markdown",
   "id": "ed254beb-b30d-40dd-b1ab-1675290adaa0",
   "metadata": {},
   "source": [
    "# Direct Multistep Ensemble, Multivarite"
   ]
  },
  {
   "cell_type": "markdown",
   "id": "273cf8a4-056b-49a8-8123-cc15d8f2f71b",
   "metadata": {},
   "source": [
    "We are training a seperate model for each timestep in the lookahead window"
   ]
  },
  {
   "cell_type": "code",
   "execution_count": 26,
   "id": "2243fdcb-c389-4556-be27-9373234fc591",
   "metadata": {},
   "outputs": [],
   "source": [
    "import pandas as pd\n",
    "import numpy as np\n",
    "from numpy import array\n",
    "from numpy import mean\n",
    "from numpy import std\n",
    "import keras\n",
    "from keras.models import Sequential\n",
    "from tensorflow.keras.layers import LSTM\n",
    "from keras.layers import Dense\n",
    "import matplotlib.pyplot as plt\n",
    "from keras.layers import TimeDistributed\n",
    "from sklearn.preprocessing import MinMaxScaler"
   ]
  },
  {
   "cell_type": "code",
   "execution_count": 2,
   "id": "fd68e3ae-22e3-43af-b5e2-abdca3c87420",
   "metadata": {},
   "outputs": [],
   "source": [
    "def split_sequence(sequence, n_steps_in, n_steps_out, step_interval, n_step_lookahead):\n",
    "    X, y = list(), list()\n",
    "    example_count = int((len(sequence)/step_interval))\n",
    "    for i in range(example_count):\n",
    "        # find the end of this pattern\n",
    "        end_ix = (i*step_interval) + n_steps_in\n",
    "        out_start_ix = end_ix + n_step_lookahead -1\n",
    "        out_end_ix = end_ix + n_steps_out + n_step_lookahead -1\n",
    "        # check if we are beyond the sequence\n",
    "        if out_end_ix > len(sequence):\n",
    "            break\n",
    "        # gather input and output parts of the pattern\n",
    "        seq_x, seq_y = sequence[(i*step_interval):end_ix], sequence[out_start_ix:out_end_ix]\n",
    "        X.append(seq_x)\n",
    "        y.append(seq_y)\n",
    "    return array(X), array(y)"
   ]
  },
  {
   "cell_type": "code",
   "execution_count": 3,
   "id": "479cb03e-33f8-4df8-afe6-82b2351713ed",
   "metadata": {},
   "outputs": [
    {
     "data": {
      "text/plain": [
       "(array([[0, 1, 2, 3, 4],\n",
       "        [1, 2, 3, 4, 5],\n",
       "        [2, 3, 4, 5, 6],\n",
       "        [3, 4, 5, 6, 7]]),\n",
       " array([[ 9],\n",
       "        [10],\n",
       "        [11],\n",
       "        [12]]))"
      ]
     },
     "execution_count": 3,
     "metadata": {},
     "output_type": "execute_result"
    }
   ],
   "source": [
    "#To demonstrate above function\n",
    "sequence = range(0,13)\n",
    "n_steps_in = 1\n",
    "n_steps_in = 5\n",
    "n_steps_out =1\n",
    "step_interval =1\n",
    "n_step_lookahead=5\n",
    "split_sequence(sequence, n_steps_in, n_steps_out, step_interval, n_step_lookahead)"
   ]
  },
  {
   "cell_type": "markdown",
   "id": "9123a9bf",
   "metadata": {},
   "source": [
    "Load data, datetime to index, downsample with left edge label, convert wei to gwei"
   ]
  },
  {
   "cell_type": "code",
   "execution_count": 4,
   "id": "ac449a8e",
   "metadata": {},
   "outputs": [],
   "source": [
    "def generate_training_val_examples():\n",
    "    #Load data as float, datetime to index\n",
    "    data = pd.read_csv (r'C:\\Users\\conal\\Desktop\\MCM\\Practicum\\data\\ETH,gas,usage merged 11-26 to 01-26.csv', header=0)\n",
    "    data['datetime'] = pd.to_datetime(data['datetime'], format = '%Y-%m-%d %H:%M:%S')\n",
    "    data = data.set_index('datetime')\n",
    "    data = data.squeeze()\n",
    "    data = data.astype('float')\n",
    "\n",
    "    #Resample with left edge label i.e min 1-5 mean labelled as min1\n",
    "    data = data.resample(resample_rate).mean()\n",
    "\n",
    "    #Add 24hr lag for min gas price\n",
    "    data['min_gas_price_24hr_lag'] = data['min_gas_price'].shift(288)\n",
    "    data = data[288:]\n",
    "\n",
    "    #Convert to gwei\n",
    "    data = data.apply(lambda x: x/1000000000)\n",
    "    data =data[inputs]\n",
    "\n",
    "    #Filter inputs\n",
    "    data =data[inputs]\n",
    "    scaler = MinMaxScaler()\n",
    "    data[inputs] = scaler.fit_transform(data[inputs])\n",
    "    \n",
    "\n",
    "    #Creat input:output examples\n",
    "    data = data[start_date:end_date].to_numpy()\n",
    "    X, y = split_sequence(data, n_steps_in, n_steps_out, step_interval, n_step_lookahead)\n",
    "    y = y[:, :, :1]\n",
    "    X_train, X_val = np.split(X, [int(0.7 * len(X))])\n",
    "    #we are only lookign to forecast the min gas price\n",
    "    y_train, y_val = np.split(y, [int(0.7 * len(X))])\n",
    "\n",
    "    \n",
    "    #Reshape to 3D for LSTM\n",
    "    X_train = X_train.reshape((X_train.shape[0], X_train.shape[1], len(inputs)))\n",
    "    y_train =y_train.reshape((y_train.shape[0], y_train.shape[1], 1))\n",
    "    X_val = X_val.reshape((X_val.shape[0], X_val.shape[1], len(inputs)))\n",
    "    y_val = y_val.reshape((y_val.shape[0], y_val.shape[1], 1))\n",
    "    return X_train, y_train, X_val, y_val\n",
    "\n"
   ]
  },
  {
   "cell_type": "code",
   "execution_count": 7,
   "id": "34d8e23f-0232-4580-abc7-f2bae6d359e1",
   "metadata": {},
   "outputs": [],
   "source": [
    "#Create Training Examples for all lookaheads\n",
    "resample_rate = '5T'\n",
    "start_date='2021-11-26 00:00:00'\n",
    "end_date='2022-01-26 23:55:00' \n",
    "inputs = ['min_gas_price', 'max_gas_price', 'min_gas_price_24hr_lag', 'Open']\n",
    "#No of timesteps behind to forecast on, no of timesteps to forecast ahead\n",
    "n_steps_in = 2016\n",
    "n_steps_out = 1\n",
    "#How many timesteps between start of training examples\n",
    "step_interval = 1\n",
    "n_step_lookahead = 1"
   ]
  },
  {
   "cell_type": "code",
   "execution_count": 9,
   "id": "f07cd239",
   "metadata": {
    "collapsed": true,
    "jupyter": {
     "outputs_hidden": true
    },
    "tags": []
   },
   "outputs": [
    {
     "name": "stdout",
     "output_type": "stream",
     "text": [
      "Epoch 1/10\n",
      "341/341 [==============================] - 82s 234ms/step - loss: 6.9214e-04\n",
      "Epoch 2/10\n",
      "341/341 [==============================] - 57s 168ms/step - loss: 4.2897e-04\n",
      "Epoch 3/10\n",
      "341/341 [==============================] - 56s 164ms/step - loss: 3.7343e-04\n",
      "Epoch 4/10\n",
      "341/341 [==============================] - 56s 165ms/step - loss: 3.6374e-04\n",
      "Epoch 5/10\n",
      "341/341 [==============================] - 55s 162ms/step - loss: 3.5879e-04\n",
      "Epoch 6/10\n",
      "341/341 [==============================] - 56s 164ms/step - loss: 3.5751e-04\n",
      "Epoch 7/10\n",
      "341/341 [==============================] - 57s 166ms/step - loss: 3.6662e-04\n",
      "Epoch 8/10\n",
      "341/341 [==============================] - 55s 161ms/step - loss: 3.5722e-04\n",
      "Epoch 9/10\n",
      "341/341 [==============================] - 55s 162ms/step - loss: 3.5488e-04\n",
      "Epoch 10/10\n",
      "341/341 [==============================] - 56s 164ms/step - loss: 3.5965e-04\n"
     ]
    },
    {
     "name": "stderr",
     "output_type": "stream",
     "text": [
      "WARNING:absl:Found untraced functions such as lstm_cell_1_layer_call_fn, lstm_cell_1_layer_call_and_return_conditional_losses while saving (showing 2 of 2). These functions will not be directly callable after loading.\n"
     ]
    },
    {
     "name": "stdout",
     "output_type": "stream",
     "text": [
      "INFO:tensorflow:Assets written to: Direct_Multivariate_Ensemble, n_outputs=1/1_step_lookahead_Direct_Multivariate\\assets\n"
     ]
    },
    {
     "name": "stderr",
     "output_type": "stream",
     "text": [
      "INFO:tensorflow:Assets written to: Direct_Multivariate_Ensemble, n_outputs=1/1_step_lookahead_Direct_Multivariate\\assets\n",
      "WARNING:absl:<keras.layers.recurrent.LSTMCell object at 0x000001AF9266D9A0> has the same name 'LSTMCell' as a built-in Keras object. Consider renaming <class 'keras.layers.recurrent.LSTMCell'> to avoid naming conflicts when loading with `tf.keras.models.load_model`. If renaming is not possible, pass the object in the `custom_objects` parameter of the load function.\n"
     ]
    },
    {
     "name": "stdout",
     "output_type": "stream",
     "text": [
      "Epoch 1/10\n",
      "341/341 [==============================] - 58s 164ms/step - loss: 0.0010\n",
      "Epoch 2/10\n",
      "341/341 [==============================] - 56s 164ms/step - loss: 6.0711e-04\n",
      "Epoch 3/10\n",
      "341/341 [==============================] - 56s 163ms/step - loss: 6.0480e-04\n",
      "Epoch 4/10\n",
      "341/341 [==============================] - 62s 182ms/step - loss: 6.0598e-04\n",
      "Epoch 5/10\n",
      "341/341 [==============================] - 53s 155ms/step - loss: 5.9216e-04\n",
      "Epoch 6/10\n",
      "341/341 [==============================] - 53s 156ms/step - loss: 5.8718e-04\n",
      "Epoch 7/10\n",
      "341/341 [==============================] - 53s 154ms/step - loss: 5.8902e-04\n",
      "Epoch 8/10\n",
      "341/341 [==============================] - 54s 159ms/step - loss: 5.8590e-04\n",
      "Epoch 9/10\n",
      "341/341 [==============================] - 53s 156ms/step - loss: 5.8639e-04\n",
      "Epoch 10/10\n",
      "341/341 [==============================] - 52s 154ms/step - loss: 5.8578e-04\n"
     ]
    },
    {
     "name": "stderr",
     "output_type": "stream",
     "text": [
      "WARNING:absl:Found untraced functions such as lstm_cell_2_layer_call_fn, lstm_cell_2_layer_call_and_return_conditional_losses while saving (showing 2 of 2). These functions will not be directly callable after loading.\n"
     ]
    },
    {
     "name": "stdout",
     "output_type": "stream",
     "text": [
      "INFO:tensorflow:Assets written to: Direct_Multivariate_Ensemble, n_outputs=1/2_step_lookahead_Direct_Multivariate\\assets\n"
     ]
    },
    {
     "name": "stderr",
     "output_type": "stream",
     "text": [
      "INFO:tensorflow:Assets written to: Direct_Multivariate_Ensemble, n_outputs=1/2_step_lookahead_Direct_Multivariate\\assets\n",
      "WARNING:absl:<keras.layers.recurrent.LSTMCell object at 0x000001AFDE1B3190> has the same name 'LSTMCell' as a built-in Keras object. Consider renaming <class 'keras.layers.recurrent.LSTMCell'> to avoid naming conflicts when loading with `tf.keras.models.load_model`. If renaming is not possible, pass the object in the `custom_objects` parameter of the load function.\n"
     ]
    },
    {
     "name": "stdout",
     "output_type": "stream",
     "text": [
      "Epoch 1/10\n",
      "341/341 [==============================] - 56s 159ms/step - loss: 0.0014\n",
      "Epoch 2/10\n",
      "341/341 [==============================] - 53s 155ms/step - loss: 9.2964e-04\n",
      "Epoch 3/10\n",
      "341/341 [==============================] - 53s 155ms/step - loss: 7.4730e-04\n",
      "Epoch 4/10\n",
      "341/341 [==============================] - 53s 154ms/step - loss: 7.0220e-04\n",
      "Epoch 5/10\n",
      "341/341 [==============================] - 52s 153ms/step - loss: 6.8763e-04\n",
      "Epoch 6/10\n",
      "341/341 [==============================] - 52s 153ms/step - loss: 6.7363e-04\n",
      "Epoch 7/10\n",
      "341/341 [==============================] - 52s 154ms/step - loss: 6.6586e-04\n",
      "Epoch 8/10\n",
      "341/341 [==============================] - 53s 155ms/step - loss: 6.6278e-04\n",
      "Epoch 9/10\n",
      "341/341 [==============================] - 52s 154ms/step - loss: 6.5709e-04\n",
      "Epoch 10/10\n",
      "341/341 [==============================] - 52s 153ms/step - loss: 6.5149e-04\n"
     ]
    },
    {
     "name": "stderr",
     "output_type": "stream",
     "text": [
      "WARNING:absl:Found untraced functions such as lstm_cell_3_layer_call_fn, lstm_cell_3_layer_call_and_return_conditional_losses while saving (showing 2 of 2). These functions will not be directly callable after loading.\n"
     ]
    },
    {
     "name": "stdout",
     "output_type": "stream",
     "text": [
      "INFO:tensorflow:Assets written to: Direct_Multivariate_Ensemble, n_outputs=1/3_step_lookahead_Direct_Multivariate\\assets\n"
     ]
    },
    {
     "name": "stderr",
     "output_type": "stream",
     "text": [
      "INFO:tensorflow:Assets written to: Direct_Multivariate_Ensemble, n_outputs=1/3_step_lookahead_Direct_Multivariate\\assets\n",
      "WARNING:absl:<keras.layers.recurrent.LSTMCell object at 0x000001B2FAB34BB0> has the same name 'LSTMCell' as a built-in Keras object. Consider renaming <class 'keras.layers.recurrent.LSTMCell'> to avoid naming conflicts when loading with `tf.keras.models.load_model`. If renaming is not possible, pass the object in the `custom_objects` parameter of the load function.\n"
     ]
    },
    {
     "name": "stdout",
     "output_type": "stream",
     "text": [
      "Epoch 1/10\n",
      "341/341 [==============================] - 55s 154ms/step - loss: 0.0012\n",
      "Epoch 2/10\n",
      "341/341 [==============================] - 52s 153ms/step - loss: 7.5136e-04\n",
      "Epoch 3/10\n",
      "341/341 [==============================] - 84s 245ms/step - loss: 7.3393e-04\n",
      "Epoch 4/10\n",
      "341/341 [==============================] - 53s 155ms/step - loss: 7.3441e-04\n",
      "Epoch 5/10\n",
      "341/341 [==============================] - 53s 155ms/step - loss: 7.3017e-04\n",
      "Epoch 6/10\n",
      "341/341 [==============================] - 53s 155ms/step - loss: 7.2770e-04\n",
      "Epoch 7/10\n",
      "341/341 [==============================] - 53s 154ms/step - loss: 7.2906e-04\n",
      "Epoch 8/10\n",
      "341/341 [==============================] - 55s 161ms/step - loss: 7.1815e-04\n",
      "Epoch 9/10\n",
      "341/341 [==============================] - 54s 158ms/step - loss: 7.2670e-04\n",
      "Epoch 10/10\n",
      "341/341 [==============================] - 53s 155ms/step - loss: 7.2140e-04\n"
     ]
    },
    {
     "name": "stderr",
     "output_type": "stream",
     "text": [
      "WARNING:absl:Found untraced functions such as lstm_cell_4_layer_call_fn, lstm_cell_4_layer_call_and_return_conditional_losses while saving (showing 2 of 2). These functions will not be directly callable after loading.\n"
     ]
    },
    {
     "name": "stdout",
     "output_type": "stream",
     "text": [
      "INFO:tensorflow:Assets written to: Direct_Multivariate_Ensemble, n_outputs=1/4_step_lookahead_Direct_Multivariate\\assets\n"
     ]
    },
    {
     "name": "stderr",
     "output_type": "stream",
     "text": [
      "INFO:tensorflow:Assets written to: Direct_Multivariate_Ensemble, n_outputs=1/4_step_lookahead_Direct_Multivariate\\assets\n",
      "WARNING:absl:<keras.layers.recurrent.LSTMCell object at 0x000001B2CF55ADF0> has the same name 'LSTMCell' as a built-in Keras object. Consider renaming <class 'keras.layers.recurrent.LSTMCell'> to avoid naming conflicts when loading with `tf.keras.models.load_model`. If renaming is not possible, pass the object in the `custom_objects` parameter of the load function.\n"
     ]
    },
    {
     "name": "stdout",
     "output_type": "stream",
     "text": [
      "Epoch 1/10\n",
      "341/341 [==============================] - 57s 159ms/step - loss: 9.7792e-04\n",
      "Epoch 2/10\n",
      "341/341 [==============================] - 52s 151ms/step - loss: 7.7628e-04\n",
      "Epoch 3/10\n",
      "341/341 [==============================] - 53s 154ms/step - loss: 7.7267e-04\n",
      "Epoch 4/10\n",
      "341/341 [==============================] - 53s 156ms/step - loss: 7.5627e-04\n",
      "Epoch 5/10\n",
      "341/341 [==============================] - 52s 153ms/step - loss: 7.5755e-04\n",
      "Epoch 6/10\n",
      "341/341 [==============================] - 54s 158ms/step - loss: 7.6515e-04\n",
      "Epoch 7/10\n",
      "341/341 [==============================] - 52s 152ms/step - loss: 7.6007e-04\n",
      "Epoch 8/10\n",
      "341/341 [==============================] - 53s 156ms/step - loss: 7.4792e-04\n",
      "Epoch 9/10\n",
      "341/341 [==============================] - 52s 151ms/step - loss: 7.5383e-04\n",
      "Epoch 10/10\n",
      "341/341 [==============================] - 52s 151ms/step - loss: 7.5106e-04\n"
     ]
    },
    {
     "name": "stderr",
     "output_type": "stream",
     "text": [
      "WARNING:absl:Found untraced functions such as lstm_cell_5_layer_call_fn, lstm_cell_5_layer_call_and_return_conditional_losses while saving (showing 2 of 2). These functions will not be directly callable after loading.\n"
     ]
    },
    {
     "name": "stdout",
     "output_type": "stream",
     "text": [
      "INFO:tensorflow:Assets written to: Direct_Multivariate_Ensemble, n_outputs=1/5_step_lookahead_Direct_Multivariate\\assets\n"
     ]
    },
    {
     "name": "stderr",
     "output_type": "stream",
     "text": [
      "INFO:tensorflow:Assets written to: Direct_Multivariate_Ensemble, n_outputs=1/5_step_lookahead_Direct_Multivariate\\assets\n",
      "WARNING:absl:<keras.layers.recurrent.LSTMCell object at 0x000001B2C476F190> has the same name 'LSTMCell' as a built-in Keras object. Consider renaming <class 'keras.layers.recurrent.LSTMCell'> to avoid naming conflicts when loading with `tf.keras.models.load_model`. If renaming is not possible, pass the object in the `custom_objects` parameter of the load function.\n"
     ]
    },
    {
     "name": "stdout",
     "output_type": "stream",
     "text": [
      "Epoch 1/10\n",
      "341/341 [==============================] - 56s 155ms/step - loss: 0.0010\n",
      "Epoch 2/10\n",
      "341/341 [==============================] - 54s 159ms/step - loss: 8.2366e-04\n",
      "Epoch 3/10\n",
      "341/341 [==============================] - 54s 157ms/step - loss: 7.9291e-04\n",
      "Epoch 4/10\n",
      "341/341 [==============================] - 53s 156ms/step - loss: 7.8465e-04\n",
      "Epoch 5/10\n",
      "341/341 [==============================] - 53s 156ms/step - loss: 7.7488e-04\n",
      "Epoch 6/10\n",
      "341/341 [==============================] - 53s 155ms/step - loss: 7.7179e-04\n",
      "Epoch 7/10\n",
      "341/341 [==============================] - 53s 156ms/step - loss: 7.6901e-04\n",
      "Epoch 8/10\n",
      "341/341 [==============================] - 54s 157ms/step - loss: 7.6693e-04\n",
      "Epoch 9/10\n",
      "341/341 [==============================] - 53s 156ms/step - loss: 7.6416e-04\n",
      "Epoch 10/10\n",
      "341/341 [==============================] - 53s 156ms/step - loss: 7.6205e-04\n"
     ]
    },
    {
     "name": "stderr",
     "output_type": "stream",
     "text": [
      "WARNING:absl:Found untraced functions such as lstm_cell_6_layer_call_fn, lstm_cell_6_layer_call_and_return_conditional_losses while saving (showing 2 of 2). These functions will not be directly callable after loading.\n"
     ]
    },
    {
     "name": "stdout",
     "output_type": "stream",
     "text": [
      "INFO:tensorflow:Assets written to: Direct_Multivariate_Ensemble, n_outputs=1/6_step_lookahead_Direct_Multivariate\\assets\n"
     ]
    },
    {
     "name": "stderr",
     "output_type": "stream",
     "text": [
      "INFO:tensorflow:Assets written to: Direct_Multivariate_Ensemble, n_outputs=1/6_step_lookahead_Direct_Multivariate\\assets\n",
      "WARNING:absl:<keras.layers.recurrent.LSTMCell object at 0x000001B34FDEA9D0> has the same name 'LSTMCell' as a built-in Keras object. Consider renaming <class 'keras.layers.recurrent.LSTMCell'> to avoid naming conflicts when loading with `tf.keras.models.load_model`. If renaming is not possible, pass the object in the `custom_objects` parameter of the load function.\n"
     ]
    },
    {
     "name": "stdout",
     "output_type": "stream",
     "text": [
      "Epoch 1/10\n",
      "341/341 [==============================] - 55s 154ms/step - loss: 0.0011\n",
      "Epoch 2/10\n",
      "341/341 [==============================] - 53s 155ms/step - loss: 8.3175e-04\n",
      "Epoch 3/10\n",
      "341/341 [==============================] - 52s 153ms/step - loss: 8.1397e-04\n",
      "Epoch 4/10\n",
      "341/341 [==============================] - 53s 156ms/step - loss: 8.2394e-04\n",
      "Epoch 5/10\n",
      "341/341 [==============================] - 53s 157ms/step - loss: 8.0677e-04\n",
      "Epoch 6/10\n",
      "341/341 [==============================] - 54s 157ms/step - loss: 7.9885e-04\n",
      "Epoch 7/10\n",
      "341/341 [==============================] - 54s 158ms/step - loss: 8.0435e-04\n",
      "Epoch 8/10\n",
      "341/341 [==============================] - 53s 156ms/step - loss: 7.9685e-04\n",
      "Epoch 9/10\n",
      "341/341 [==============================] - 53s 156ms/step - loss: 7.9857e-04\n",
      "Epoch 10/10\n",
      "341/341 [==============================] - 53s 156ms/step - loss: 7.8968e-04\n"
     ]
    },
    {
     "name": "stderr",
     "output_type": "stream",
     "text": [
      "WARNING:absl:Found untraced functions such as lstm_cell_7_layer_call_fn, lstm_cell_7_layer_call_and_return_conditional_losses while saving (showing 2 of 2). These functions will not be directly callable after loading.\n"
     ]
    },
    {
     "name": "stdout",
     "output_type": "stream",
     "text": [
      "INFO:tensorflow:Assets written to: Direct_Multivariate_Ensemble, n_outputs=1/7_step_lookahead_Direct_Multivariate\\assets\n"
     ]
    },
    {
     "name": "stderr",
     "output_type": "stream",
     "text": [
      "INFO:tensorflow:Assets written to: Direct_Multivariate_Ensemble, n_outputs=1/7_step_lookahead_Direct_Multivariate\\assets\n",
      "WARNING:absl:<keras.layers.recurrent.LSTMCell object at 0x000001B2BB3BBB80> has the same name 'LSTMCell' as a built-in Keras object. Consider renaming <class 'keras.layers.recurrent.LSTMCell'> to avoid naming conflicts when loading with `tf.keras.models.load_model`. If renaming is not possible, pass the object in the `custom_objects` parameter of the load function.\n"
     ]
    },
    {
     "name": "stdout",
     "output_type": "stream",
     "text": [
      "Epoch 1/10\n",
      "341/341 [==============================] - 55s 155ms/step - loss: 0.0011\n",
      "Epoch 2/10\n",
      "341/341 [==============================] - 52s 153ms/step - loss: 8.5018e-04\n",
      "Epoch 3/10\n",
      "341/341 [==============================] - 52s 153ms/step - loss: 8.5717e-04\n",
      "Epoch 4/10\n",
      "341/341 [==============================] - 52s 151ms/step - loss: 8.3153e-04\n",
      "Epoch 5/10\n",
      "341/341 [==============================] - 51s 151ms/step - loss: 8.3780e-04\n",
      "Epoch 6/10\n",
      "341/341 [==============================] - 53s 154ms/step - loss: 8.1524e-04\n",
      "Epoch 7/10\n",
      "341/341 [==============================] - 54s 158ms/step - loss: 8.2360e-04\n",
      "Epoch 8/10\n",
      "341/341 [==============================] - 55s 161ms/step - loss: 8.1397e-04\n",
      "Epoch 9/10\n",
      "341/341 [==============================] - 52s 153ms/step - loss: 8.5719e-04\n",
      "Epoch 10/10\n",
      "341/341 [==============================] - 53s 155ms/step - loss: 8.1242e-04\n"
     ]
    },
    {
     "name": "stderr",
     "output_type": "stream",
     "text": [
      "WARNING:absl:Found untraced functions such as lstm_cell_8_layer_call_fn, lstm_cell_8_layer_call_and_return_conditional_losses while saving (showing 2 of 2). These functions will not be directly callable after loading.\n"
     ]
    },
    {
     "name": "stdout",
     "output_type": "stream",
     "text": [
      "INFO:tensorflow:Assets written to: Direct_Multivariate_Ensemble, n_outputs=1/8_step_lookahead_Direct_Multivariate\\assets\n"
     ]
    },
    {
     "name": "stderr",
     "output_type": "stream",
     "text": [
      "INFO:tensorflow:Assets written to: Direct_Multivariate_Ensemble, n_outputs=1/8_step_lookahead_Direct_Multivariate\\assets\n",
      "WARNING:absl:<keras.layers.recurrent.LSTMCell object at 0x000001B0006DB970> has the same name 'LSTMCell' as a built-in Keras object. Consider renaming <class 'keras.layers.recurrent.LSTMCell'> to avoid naming conflicts when loading with `tf.keras.models.load_model`. If renaming is not possible, pass the object in the `custom_objects` parameter of the load function.\n"
     ]
    },
    {
     "name": "stdout",
     "output_type": "stream",
     "text": [
      "Epoch 1/10\n",
      "340/340 [==============================] - 53s 151ms/step - loss: 9.9236e-04\n",
      "Epoch 2/10\n",
      "340/340 [==============================] - 52s 153ms/step - loss: 8.5758e-04\n",
      "Epoch 3/10\n",
      "340/340 [==============================] - 52s 153ms/step - loss: 8.4982e-04\n",
      "Epoch 4/10\n",
      "340/340 [==============================] - 51s 151ms/step - loss: 8.4181e-04\n",
      "Epoch 5/10\n",
      "340/340 [==============================] - 52s 154ms/step - loss: 8.4207e-04\n",
      "Epoch 6/10\n",
      "340/340 [==============================] - 52s 152ms/step - loss: 8.3304e-04\n",
      "Epoch 7/10\n",
      "340/340 [==============================] - 52s 154ms/step - loss: 8.2857e-04\n",
      "Epoch 8/10\n",
      "340/340 [==============================] - 53s 155ms/step - loss: 8.2411e-04\n",
      "Epoch 9/10\n",
      "340/340 [==============================] - 52s 154ms/step - loss: 8.2602e-04\n",
      "Epoch 10/10\n",
      "340/340 [==============================] - 53s 157ms/step - loss: 8.1757e-04\n"
     ]
    },
    {
     "name": "stderr",
     "output_type": "stream",
     "text": [
      "WARNING:absl:Found untraced functions such as lstm_cell_9_layer_call_fn, lstm_cell_9_layer_call_and_return_conditional_losses while saving (showing 2 of 2). These functions will not be directly callable after loading.\n"
     ]
    },
    {
     "name": "stdout",
     "output_type": "stream",
     "text": [
      "INFO:tensorflow:Assets written to: Direct_Multivariate_Ensemble, n_outputs=1/9_step_lookahead_Direct_Multivariate\\assets\n"
     ]
    },
    {
     "name": "stderr",
     "output_type": "stream",
     "text": [
      "INFO:tensorflow:Assets written to: Direct_Multivariate_Ensemble, n_outputs=1/9_step_lookahead_Direct_Multivariate\\assets\n",
      "WARNING:absl:<keras.layers.recurrent.LSTMCell object at 0x000001AFC7AC6C40> has the same name 'LSTMCell' as a built-in Keras object. Consider renaming <class 'keras.layers.recurrent.LSTMCell'> to avoid naming conflicts when loading with `tf.keras.models.load_model`. If renaming is not possible, pass the object in the `custom_objects` parameter of the load function.\n"
     ]
    }
   ],
   "source": [
    "\n",
    "for i in range(1,10):\n",
    "    n_step_lookahead = i\n",
    "    X_train, y_train, X_val, y_val = generate_training_val_examples()\n",
    "\n",
    "    \n",
    "\n",
    "    model = Sequential()\n",
    "    model.add(LSTM(512, activation='tanh', input_shape=(n_steps_in, len(inputs))))\n",
    "    model.add(Dense(n_steps_out))\n",
    "    model.add(Dense(n_steps_out))\n",
    "    model.compile(optimizer='adam', loss='mse')\n",
    "\n",
    "    model.fit(X_train, y_train, epochs=10, verbose=1)\n",
    "    model.save(('Direct_Multivariate_Ensemble, n_outputs=1/' + str(i) + '_step_lookahead_Direct_Multivariate'))"
   ]
  },
  {
   "cell_type": "markdown",
   "id": "52a3aaef",
   "metadata": {},
   "source": [
    "## Evaluate 19 step lookahead\n"
   ]
  },
  {
   "cell_type": "code",
   "execution_count": 13,
   "id": "0ec655c8",
   "metadata": {},
   "outputs": [
    {
     "name": "stdout",
     "output_type": "stream",
     "text": [
      "146/146 [==============================] - 10s 65ms/step\n"
     ]
    }
   ],
   "source": [
    "from sklearn.preprocessing import MinMaxScaler\n",
    "from sklearn.metrics import r2_score\n",
    "from sklearn.metrics import mean_squared_error\n",
    "from sklearn.metrics import mean_absolute_error\n",
    "from sklearn.metrics import mean_absolute_percentage_error\n",
    "yhat = model.predict(X_val, verbose=1)\n",
    "\n",
    "\n"
   ]
  },
  {
   "cell_type": "code",
   "execution_count": 14,
   "id": "5511b9cf-f728-4930-a4d4-a359e1c99ebf",
   "metadata": {},
   "outputs": [
    {
     "ename": "NameError",
     "evalue": "name 'scaler' is not defined",
     "output_type": "error",
     "traceback": [
      "\u001b[1;31m---------------------------------------------------------------------------\u001b[0m",
      "\u001b[1;31mNameError\u001b[0m                                 Traceback (most recent call last)",
      "\u001b[1;32m~\\AppData\\Local\\Temp/ipykernel_30616/730274840.py\u001b[0m in \u001b[0;36m<module>\u001b[1;34m\u001b[0m\n\u001b[1;32m----> 1\u001b[1;33m \u001b[0mscaler\u001b[0m\u001b[1;33m\u001b[0m\u001b[1;33m\u001b[0m\u001b[0m\n\u001b[0m",
      "\u001b[1;31mNameError\u001b[0m: name 'scaler' is not defined"
     ]
    }
   ],
   "source": [
    "scaler"
   ]
  },
  {
   "cell_type": "markdown",
   "id": "4b71867c-b942-43c5-ba9e-d5144cf1432a",
   "metadata": {},
   "source": [
    "## We need to define the min max scaler outside of the fucntion so we can revert the transform;"
   ]
  },
  {
   "cell_type": "code",
   "execution_count": 20,
   "id": "e9c77119-20c0-4772-8379-f4480a7f3621",
   "metadata": {
    "tags": []
   },
   "outputs": [],
   "source": [
    " #Load data as float, datetime to index\n",
    "data = pd.read_csv (r'C:\\Users\\conal\\Desktop\\MCM\\Practicum\\data\\ETH,gas,usage merged 11-26 to 01-26.csv', header=0)\n",
    "data['datetime'] = pd.to_datetime(data['datetime'], format = '%Y-%m-%d %H:%M:%S')\n",
    "data = data.set_index('datetime')\n",
    "data = data.squeeze()\n",
    "data = data.astype('float')\n",
    "\n",
    "#Resample with left edge label i.e min 1-5 mean labelled as min1\n",
    "data = data.resample(resample_rate).mean()\n",
    "\n",
    "#Add 24hr lag for min gas price\n",
    "data['min_gas_price_24hr_lag'] = data['min_gas_price'].shift(288)\n",
    "data = data[288:]\n",
    "\n",
    "#Convert to gwei\n",
    "data = data.apply(lambda x: x/1000000000)\n",
    "data =data[inputs]\n",
    "\n",
    "#Filter inputs\n",
    "data =data[inputs]\n",
    "scaler = MinMaxScaler()\n",
    "data[inputs] = scaler.fit_transform(data[inputs])"
   ]
  },
  {
   "cell_type": "code",
   "execution_count": 41,
   "id": "546dc7bc-5d82-412f-aa25-90a5d928b978",
   "metadata": {},
   "outputs": [],
   "source": [
    "pred_descaled= (scaler.inverse_transform(array([yhat,]*(len(inputs))).transpose()[0]))[:, :1]"
   ]
  },
  {
   "cell_type": "code",
   "execution_count": 21,
   "id": "716123c3",
   "metadata": {},
   "outputs": [
    {
     "name": "stdout",
     "output_type": "stream",
     "text": [
      "RMSE 6.222864067640287e-08\n",
      "MAE 4.191639274220145e-08\n",
      "MAPE 0.3041528904611323\n",
      "R^2 0.08755642538220876\n"
     ]
    },
    {
     "data": {
      "image/png": "[encoded data removed]",
      "text/plain": [
       "<Figure size 1440x1080 with 3 Axes>"
      ]
     },
     "metadata": {
      "needs_background": "light"
     },
     "output_type": "display_data"
    }
   ],
   "source": [
    "#Minmax scaler has been fit with nd data, add dummy columns so the scaler can be applied to min gas rpice\n",
    "pred_descaled= (scaler.inverse_transform(array([yhat,]*(len(inputs))).transpose()[0]))[:, :1]\n",
    "groud_truth_descaled= (scaler.inverse_transform(array([y_val,]*(len(inputs))).transpose()[0][0]))[ :, :1]\n",
    "\n",
    "\n",
    "f, (ax1, ax2, ax3) = plt.subplots(3, 1, sharey=True)\n",
    "f.set_figwidth(20)\n",
    "f.set_figheight(15)\n",
    "ax1.plot(pred_descaled)\n",
    "ax1.title.set_text('Gas Price Prediction')\n",
    "ax2.plot(groud_truth_descaled)\n",
    "ax2.title.set_text('Gas Price Actual')\n",
    "\n",
    "\n",
    "ax3.title.set_text('Overlayed')\n",
    "ax3.plot(groud_truth_descaled, color='blue',label='Predicted '+' Gas Price')\n",
    "ax3.plot(pred_descaled, color='red',label='real '+' Gas Price')\n",
    "\n",
    "\n",
    "\n",
    "print('RMSE ' + str(mean_squared_error(groud_truth_descaled, pred_descaled, squared=False)))\n",
    "print('MAE ' + str(mean_absolute_error(groud_truth_descaled, pred_descaled)))\n",
    "print('MAPE ' + str(mean_absolute_percentage_error(groud_truth_descaled, pred_descaled)))\n",
    "print('R^2 ' + str(r2_score(groud_truth_descaled, pred_descaled)))"
   ]
  },
  {
   "cell_type": "markdown",
   "id": "a108b8cb-ee07-4b4c-84ea-8b972403e6f8",
   "metadata": {},
   "source": [
    "## Lets look at the metrics for all lookaheads"
   ]
  },
  {
   "cell_type": "code",
   "execution_count": 29,
   "id": "00c7eec4-f54d-40e7-8073-5886cc372ed8",
   "metadata": {},
   "outputs": [],
   "source": [
    "#Create Training Examples for all lookaheads\n",
    "resample_rate = '5T'\n",
    "start_date='2021-11-26 00:00:00'\n",
    "end_date='2022-01-26 23:55:00' \n",
    "inputs = ['min_gas_price', 'max_gas_price', 'min_gas_price_24hr_lag', 'Open']\n",
    "#No of timesteps behind to forecast on, no of timesteps to forecast ahead\n",
    "n_steps_in = 2016\n",
    "n_steps_out = 1\n",
    "#How many timesteps between start of training examples\n",
    "step_interval = 1\n",
    "n_step_lookahead = 1"
   ]
  },
  {
   "cell_type": "code",
   "execution_count": 30,
   "id": "f0ee7f98-0260-491d-a87a-eb854106b9eb",
   "metadata": {},
   "outputs": [],
   "source": [
    "def descale_y_retrun_metrics():\n",
    "    pred_descaled= (scaler.inverse_transform(array([yhat,]*(len(inputs))).transpose()[0]))[:, :1]\n",
    "    groud_truth_descaled= (scaler.inverse_transform(array([y_val,]*(len(inputs))).transpose()[0][0]))[ :, :1]\n",
    "    RMSE = mean_squared_error(groud_truth_descaled, pred_descaled, squared=False)\n",
    "    MAE = mean_absolute_error(groud_truth_descaled, pred_descaled)\n",
    "    MAPE = mean_absolute_percentage_error(groud_truth_descaled, pred_descaled)\n",
    "    R2 = r2_score(groud_truth_descaled, pred_descaled)\n",
    "    return RMSE, MAE, MAPE, R2"
   ]
  },
  {
   "cell_type": "code",
   "execution_count": 32,
   "id": "fabf27ba-0c7c-4c8b-82fb-2fb6938e5107",
   "metadata": {},
   "outputs": [
    {
     "name": "stdout",
     "output_type": "stream",
     "text": [
      "146/146 [==============================] - 10s 65ms/step\n",
      "146/146 [==============================] - 10s 64ms/step\n",
      "146/146 [==============================] - 10s 65ms/step\n",
      "146/146 [==============================] - 10s 65ms/step\n",
      "146/146 [==============================] - 10s 65ms/step\n",
      "146/146 [==============================] - 10s 65ms/step\n",
      "146/146 [==============================] - 10s 64ms/step\n",
      "146/146 [==============================] - 10s 64ms/step\n",
      "146/146 [==============================] - 10s 64ms/step\n"
     ]
    },
    {
     "ename": "OSError",
     "evalue": "No file or directory found at Direct_Multivariate_Ensemble, n_outputs=1/10_step_lookahead_Direct_Multivariate",
     "output_type": "error",
     "traceback": [
      "\u001b[1;31m---------------------------------------------------------------------------\u001b[0m",
      "\u001b[1;31mOSError\u001b[0m                                   Traceback (most recent call last)",
      "\u001b[1;32m~\\AppData\\Local\\Temp/ipykernel_30616/4231236719.py\u001b[0m in \u001b[0;36m<module>\u001b[1;34m\u001b[0m\n\u001b[0;32m      2\u001b[0m \u001b[1;32mfor\u001b[0m \u001b[0mi\u001b[0m \u001b[1;32min\u001b[0m \u001b[0mrange\u001b[0m\u001b[1;33m(\u001b[0m\u001b[1;36m1\u001b[0m\u001b[1;33m,\u001b[0m\u001b[1;36m19\u001b[0m\u001b[1;33m)\u001b[0m\u001b[1;33m:\u001b[0m\u001b[1;33m\u001b[0m\u001b[1;33m\u001b[0m\u001b[0m\n\u001b[0;32m      3\u001b[0m     \u001b[0mn_step_lookahead\u001b[0m \u001b[1;33m=\u001b[0m \u001b[0mi\u001b[0m\u001b[1;33m\u001b[0m\u001b[1;33m\u001b[0m\u001b[0m\n\u001b[1;32m----> 4\u001b[1;33m     \u001b[0mmodel\u001b[0m \u001b[1;33m=\u001b[0m \u001b[0mkeras\u001b[0m\u001b[1;33m.\u001b[0m\u001b[0mmodels\u001b[0m\u001b[1;33m.\u001b[0m\u001b[0mload_model\u001b[0m\u001b[1;33m(\u001b[0m\u001b[1;34m'Direct_Multivariate_Ensemble, n_outputs=1/'\u001b[0m \u001b[1;33m+\u001b[0m \u001b[0mstr\u001b[0m\u001b[1;33m(\u001b[0m\u001b[0mi\u001b[0m\u001b[1;33m)\u001b[0m \u001b[1;33m+\u001b[0m\u001b[1;34m'_step_lookahead_Direct_Multivariate'\u001b[0m \u001b[1;33m)\u001b[0m\u001b[1;33m\u001b[0m\u001b[1;33m\u001b[0m\u001b[0m\n\u001b[0m\u001b[0;32m      5\u001b[0m     \u001b[0mX_train\u001b[0m\u001b[1;33m,\u001b[0m \u001b[0my_train\u001b[0m\u001b[1;33m,\u001b[0m \u001b[0mX_val\u001b[0m\u001b[1;33m,\u001b[0m \u001b[0my_val\u001b[0m \u001b[1;33m=\u001b[0m \u001b[0mgenerate_training_val_examples\u001b[0m\u001b[1;33m(\u001b[0m\u001b[1;33m)\u001b[0m\u001b[1;33m\u001b[0m\u001b[1;33m\u001b[0m\u001b[0m\n\u001b[0;32m      6\u001b[0m     \u001b[0myhat\u001b[0m \u001b[1;33m=\u001b[0m \u001b[0mmodel\u001b[0m\u001b[1;33m.\u001b[0m\u001b[0mpredict\u001b[0m\u001b[1;33m(\u001b[0m\u001b[0mX_val\u001b[0m\u001b[1;33m,\u001b[0m \u001b[0mverbose\u001b[0m\u001b[1;33m=\u001b[0m\u001b[1;36m1\u001b[0m\u001b[1;33m)\u001b[0m\u001b[1;33m\u001b[0m\u001b[1;33m\u001b[0m\u001b[0m\n",
      "\u001b[1;32mD:\\Anaconda\\lib\\site-packages\\keras\\utils\\traceback_utils.py\u001b[0m in \u001b[0;36merror_handler\u001b[1;34m(*args, **kwargs)\u001b[0m\n\u001b[0;32m     65\u001b[0m     \u001b[1;32mexcept\u001b[0m \u001b[0mException\u001b[0m \u001b[1;32mas\u001b[0m \u001b[0me\u001b[0m\u001b[1;33m:\u001b[0m  \u001b[1;31m# pylint: disable=broad-except\u001b[0m\u001b[1;33m\u001b[0m\u001b[1;33m\u001b[0m\u001b[0m\n\u001b[0;32m     66\u001b[0m       \u001b[0mfiltered_tb\u001b[0m \u001b[1;33m=\u001b[0m \u001b[0m_process_traceback_frames\u001b[0m\u001b[1;33m(\u001b[0m\u001b[0me\u001b[0m\u001b[1;33m.\u001b[0m\u001b[0m__traceback__\u001b[0m\u001b[1;33m)\u001b[0m\u001b[1;33m\u001b[0m\u001b[1;33m\u001b[0m\u001b[0m\n\u001b[1;32m---> 67\u001b[1;33m       \u001b[1;32mraise\u001b[0m \u001b[0me\u001b[0m\u001b[1;33m.\u001b[0m\u001b[0mwith_traceback\u001b[0m\u001b[1;33m(\u001b[0m\u001b[0mfiltered_tb\u001b[0m\u001b[1;33m)\u001b[0m \u001b[1;32mfrom\u001b[0m \u001b[1;32mNone\u001b[0m\u001b[1;33m\u001b[0m\u001b[1;33m\u001b[0m\u001b[0m\n\u001b[0m\u001b[0;32m     68\u001b[0m     \u001b[1;32mfinally\u001b[0m\u001b[1;33m:\u001b[0m\u001b[1;33m\u001b[0m\u001b[1;33m\u001b[0m\u001b[0m\n\u001b[0;32m     69\u001b[0m       \u001b[1;32mdel\u001b[0m \u001b[0mfiltered_tb\u001b[0m\u001b[1;33m\u001b[0m\u001b[1;33m\u001b[0m\u001b[0m\n",
      "\u001b[1;32mD:\\Anaconda\\lib\\site-packages\\keras\\saving\\save.py\u001b[0m in \u001b[0;36mload_model\u001b[1;34m(filepath, custom_objects, compile, options)\u001b[0m\n\u001b[0;32m    202\u001b[0m         \u001b[1;32mif\u001b[0m \u001b[0misinstance\u001b[0m\u001b[1;33m(\u001b[0m\u001b[0mfilepath_str\u001b[0m\u001b[1;33m,\u001b[0m \u001b[0mstr\u001b[0m\u001b[1;33m)\u001b[0m\u001b[1;33m:\u001b[0m\u001b[1;33m\u001b[0m\u001b[1;33m\u001b[0m\u001b[0m\n\u001b[0;32m    203\u001b[0m           \u001b[1;32mif\u001b[0m \u001b[1;32mnot\u001b[0m \u001b[0mtf\u001b[0m\u001b[1;33m.\u001b[0m\u001b[0mio\u001b[0m\u001b[1;33m.\u001b[0m\u001b[0mgfile\u001b[0m\u001b[1;33m.\u001b[0m\u001b[0mexists\u001b[0m\u001b[1;33m(\u001b[0m\u001b[0mfilepath_str\u001b[0m\u001b[1;33m)\u001b[0m\u001b[1;33m:\u001b[0m\u001b[1;33m\u001b[0m\u001b[1;33m\u001b[0m\u001b[0m\n\u001b[1;32m--> 204\u001b[1;33m             \u001b[1;32mraise\u001b[0m \u001b[0mIOError\u001b[0m\u001b[1;33m(\u001b[0m\u001b[1;34mf'No file or directory found at {filepath_str}'\u001b[0m\u001b[1;33m)\u001b[0m\u001b[1;33m\u001b[0m\u001b[1;33m\u001b[0m\u001b[0m\n\u001b[0m\u001b[0;32m    205\u001b[0m \u001b[1;33m\u001b[0m\u001b[0m\n\u001b[0;32m    206\u001b[0m           \u001b[1;32mif\u001b[0m \u001b[0mtf\u001b[0m\u001b[1;33m.\u001b[0m\u001b[0mio\u001b[0m\u001b[1;33m.\u001b[0m\u001b[0mgfile\u001b[0m\u001b[1;33m.\u001b[0m\u001b[0misdir\u001b[0m\u001b[1;33m(\u001b[0m\u001b[0mfilepath_str\u001b[0m\u001b[1;33m)\u001b[0m\u001b[1;33m:\u001b[0m\u001b[1;33m\u001b[0m\u001b[1;33m\u001b[0m\u001b[0m\n",
      "\u001b[1;31mOSError\u001b[0m: No file or directory found at Direct_Multivariate_Ensemble, n_outputs=1/10_step_lookahead_Direct_Multivariate"
     ]
    }
   ],
   "source": [
    "RMSE_list, MAE_list, MAPE_list, R2_list = [],[],[],[]\n",
    "for i in range(1,19):\n",
    "    n_step_lookahead = i\n",
    "    model = keras.models.load_model('Direct_Multivariate_Ensemble, n_outputs=1/' + str(i) +'_step_lookahead_Direct_Multivariate' )\n",
    "    X_train, y_train, X_val, y_val = generate_training_val_examples()\n",
    "    yhat = model.predict(X_val, verbose=1)\n",
    "    RMSE, MAE, MAPE, R2 = descale_y_retrun_metrics()\n",
    "    RMSE_list.append(RMSE)\n",
    "    MAE_list.append(MAE)\n",
    "    MAPE_list.append(MAPE)\n",
    "    R2_list.append(R2)"
   ]
  },
  {
   "cell_type": "code",
   "execution_count": 33,
   "id": "0b73c35d-df05-48de-90d8-428ce592aef2",
   "metadata": {},
   "outputs": [
    {
     "data": {
      "text/plain": [
       "[4.0278964487451475e-08,\n",
       " 4.923146750528344e-08,\n",
       " 5.063530975809405e-08,\n",
       " 5.199729183768327e-08,\n",
       " 5.593486080804972e-08,\n",
       " 5.4786724074945016e-08,\n",
       " 5.423113120494018e-08,\n",
       " 5.551279700350256e-08,\n",
       " 6.222864067640287e-08]"
      ]
     },
     "execution_count": 33,
     "metadata": {},
     "output_type": "execute_result"
    }
   ],
   "source": [
    "RMSE_list"
   ]
  },
  {
   "cell_type": "code",
   "execution_count": 34,
   "id": "2addab02-b732-4027-9a9b-6eb01512551f",
   "metadata": {},
   "outputs": [
    {
     "data": {
      "text/plain": [
       "[0.12471274781395766,\n",
       " 0.18563279217381598,\n",
       " 0.18700806022354385,\n",
       " 0.164386620446668,\n",
       " 0.22778246758310786,\n",
       " 0.21044326533314667,\n",
       " 0.1928804145287867,\n",
       " 0.19950499581359143,\n",
       " 0.3041528904611323]"
      ]
     },
     "execution_count": 34,
     "metadata": {},
     "output_type": "execute_result"
    }
   ],
   "source": [
    "MAPE_list"
   ]
  },
  {
   "cell_type": "code",
   "execution_count": null,
   "id": "bde9e7b3-9159-41c2-84d6-acb185b09414",
   "metadata": {},
   "outputs": [],
   "source": []
  }
 ],
 "metadata": {
  "kernelspec": {
   "display_name": "Python 3 (ipykernel)",
   "language": "python",
   "name": "python3"
  },
  "language_info": {
   "codemirror_mode": {
    "name": "ipython",
    "version": 3
   },
   "file_extension": ".py",
   "mimetype": "text/x-python",
   "name": "python",
   "nbconvert_exporter": "python",
   "pygments_lexer": "ipython3",
   "version": "3.9.7"
  }
 },
 "nbformat": 4,
 "nbformat_minor": 5
}
