{
 "cells": [
  {
   "cell_type": "markdown",
   "id": "dcf88830-b1a4-4401-b780-4849e76a1815",
   "metadata": {
    "jp-MarkdownHeadingCollapsed": true,
    "tags": []
   },
   "source": [
    "# Direct Multistep Ensemble, Multivarite"
   ]
  },
  {
   "cell_type": "markdown",
   "id": "fa6933f3-b12c-49a9-a40a-00097b0c08b3",
   "metadata": {},
   "source": [
    "We are training a seperate model for each timestep in the lookahead window"
   ]
  },
  {
   "cell_type": "markdown",
   "id": "e417b103-2840-40a5-8371-458d521de7f8",
   "metadata": {
    "tags": []
   },
   "source": [
    "# Import libraries, define functions"
   ]
  },
  {
   "cell_type": "code",
   "execution_count": 34,
   "id": "60d882ac-189d-467c-995a-cfc59e6d786b",
   "metadata": {},
   "outputs": [],
   "source": [
    "import pandas as pd\n",
    "import numpy as np\n",
    "from numpy import array\n",
    "from numpy import mean\n",
    "from numpy import std\n",
    "import keras\n",
    "from keras.models import Sequential\n",
    "from tensorflow.keras.layers import LSTM\n",
    "from keras.layers import Dense\n",
    "import matplotlib.pyplot as plt\n",
    "from keras.layers import TimeDistributed\n",
    "from sklearn.preprocessing import MinMaxScaler"
   ]
  },
  {
   "cell_type": "markdown",
   "id": "f294124c-9392-4caa-9f36-a64b15ea3a3b",
   "metadata": {},
   "source": [
    "# There is a slip in this function, so we are actually predicting two time steps with each model"
   ]
  },
  {
   "cell_type": "code",
   "execution_count": 35,
   "id": "fd68e3ae-22e3-43af-b5e2-abdca3c87420",
   "metadata": {},
   "outputs": [],
   "source": [
    "def split_sequence(sequence, n_steps_in, n_steps_out, step_interval, n_step_lookahead):\n",
    "    X, y = list(), list()\n",
    "    example_count = int((len(sequence)/step_interval))\n",
    "    for i in range(example_count):\n",
    "        # find the end of this pattern\n",
    "        end_ix = (i*step_interval) + n_steps_in\n",
    "        out_start_ix = end_ix + n_step_lookahead -1\n",
    "        out_end_ix = end_ix + n_steps_out + n_step_lookahead #This line should also en in -1; we are predicting an extra step\n",
    "        # check if we are beyond the sequence\n",
    "        if out_end_ix > len(sequence):\n",
    "            break\n",
    "        # gather input and output parts of the pattern\n",
    "        seq_x, seq_y = sequence[(i*step_interval):end_ix], sequence[out_start_ix:out_end_ix]\n",
    "        X.append(seq_x)\n",
    "        y.append(seq_y)\n",
    "    return array(X), array(y)"
   ]
  },
  {
   "cell_type": "code",
   "execution_count": 36,
   "id": "18c2ba86-f5f1-46f2-aee1-ccf6d48d963e",
   "metadata": {},
   "outputs": [
    {
     "data": {
      "text/plain": [
       "(array([[0, 1, 2, 3, 4],\n",
       "        [1, 2, 3, 4, 5],\n",
       "        [2, 3, 4, 5, 6]]),\n",
       " array([[ 9, 10],\n",
       "        [10, 11],\n",
       "        [11, 12]]))"
      ]
     },
     "execution_count": 36,
     "metadata": {},
     "output_type": "execute_result"
    }
   ],
   "source": [
    "#To demonstrate above function\n",
    "sequence = range(0,13)\n",
    "n_steps_in = 1\n",
    "n_steps_in = 5\n",
    "n_steps_out =1\n",
    "step_interval =1\n",
    "n_step_lookahead=5\n",
    "split_sequence(sequence, n_steps_in, n_steps_out, step_interval, n_step_lookahead)"
   ]
  },
  {
   "cell_type": "markdown",
   "id": "9123a9bf",
   "metadata": {},
   "source": [
    "Load data, datetime to index, downsample with left edge label, convert wei to gwei"
   ]
  },
  {
   "cell_type": "code",
   "execution_count": 37,
   "id": "ac449a8e",
   "metadata": {},
   "outputs": [],
   "source": [
    "def generate_training_val_examples():\n",
    "\n",
    "    #Load data as float, datetime to index\n",
    "    data = pd.read_csv (r'C:\\Users\\conal\\Desktop\\MCM\\Practicum\\data\\min,max,average gas 11-26 to 01-26 QUERY 2.csv', header=0)\n",
    "    data['block_timestamp'] = pd.to_datetime(data['block_timestamp'], format = '%Y-%m-%d %H:%M:%S UTC')\n",
    "    data = data.set_index('block_timestamp')\n",
    "    data = data.squeeze()\n",
    "    data = data.astype('float')\n",
    "\n",
    "    #Resample with left edge label i.e min 1-5 mean labelled as min1\n",
    "    data = data.resample(resample_rate).mean()\n",
    "\n",
    "    #Add 24hr lag for min gas price\n",
    "    data['min_gas_price_24hr_lag'] = data['min_gas_price'].shift(288)\n",
    "    data = data[288:]\n",
    "\n",
    "    #Convert to gwei\n",
    "    data = data.apply(lambda x: x/1000000000)\n",
    "    data =data[inputs]\n",
    "\n",
    "    #Filter inputs\n",
    "    data =data[inputs]\n",
    "    scaler = MinMaxScaler()\n",
    "    data[inputs] = scaler.fit_transform(data[inputs])\n",
    "    \n",
    "\n",
    "    #Creat input:output examples\n",
    "    data = data[start_date:end_date].to_numpy()\n",
    "    X, y = split_sequence(data, n_steps_in, n_steps_out, step_interval, n_step_lookahead)\n",
    "    y = y[:, :, :1]\n",
    "    X_train, X_val = np.split(X, [int(0.7 * len(X))])\n",
    "    #we are only lookign to forecast the min gas price\n",
    "    y_train, y_val = np.split(y, [int(0.7 * len(X))])\n",
    "\n",
    "    \n",
    "    #Reshape to 3D for LSTM\n",
    "    X_train = X_train.reshape((X_train.shape[0], X_train.shape[1], len(inputs)))\n",
    "    y_train =y_train.reshape((y_train.shape[0], y_train.shape[1], 1))\n",
    "    X_val = X_val.reshape((X_val.shape[0], X_val.shape[1], len(inputs)))\n",
    "    y_val = y_val.reshape((y_val.shape[0], y_val.shape[1], 1))\n",
    "    return X_train, y_train, X_val, y_val"
   ]
  },
  {
   "cell_type": "markdown",
   "id": "65c0c860-f732-45b2-b98f-1f81f3090a53",
   "metadata": {
    "tags": []
   },
   "source": [
    "# Loop for generating trainign examples, training, saving models"
   ]
  },
  {
   "cell_type": "code",
   "execution_count": 38,
   "id": "34d8e23f-0232-4580-abc7-f2bae6d359e1",
   "metadata": {},
   "outputs": [],
   "source": [
    "#Create Training Examples for all lookaheads\n",
    "resample_rate = '5T'\n",
    "start_date='2021-11-26 00:00:00'\n",
    "end_date='2022-01-26 23:55:00' \n",
    "inputs = ['min_gas_price', 'max_gas_price', 'min_gas_price_24hr_lag']\n",
    "#No of timesteps behind to forecast on, no of timesteps to forecast ahead\n",
    "n_steps_in = 2016\n",
    "n_steps_out = 1\n",
    "#How many timesteps between start of training examples\n",
    "step_interval = 1\n",
    "n_step_lookahead = 1"
   ]
  },
  {
   "cell_type": "code",
   "execution_count": 8,
   "id": "f07cd239",
   "metadata": {
    "tags": []
   },
   "outputs": [
    {
     "name": "stdout",
     "output_type": "stream",
     "text": [
      "Epoch 1/10\n",
      "341/341 [==============================] - 57s 151ms/step - loss: 6.3326e-04\n",
      "Epoch 2/10\n",
      "341/341 [==============================] - 52s 151ms/step - loss: 5.1638e-04\n",
      "Epoch 3/10\n",
      "341/341 [==============================] - 52s 151ms/step - loss: 4.9382e-04\n",
      "Epoch 4/10\n",
      "341/341 [==============================] - 52s 153ms/step - loss: 4.8864e-04\n",
      "Epoch 5/10\n",
      "341/341 [==============================] - 52s 153ms/step - loss: 4.8265e-04\n",
      "Epoch 6/10\n",
      "341/341 [==============================] - 53s 156ms/step - loss: 4.7961e-04\n",
      "Epoch 7/10\n",
      "341/341 [==============================] - 53s 155ms/step - loss: 4.8771e-04\n",
      "Epoch 8/10\n",
      "341/341 [==============================] - 53s 155ms/step - loss: 4.8540e-04\n",
      "Epoch 9/10\n",
      "341/341 [==============================] - 54s 160ms/step - loss: 4.8107e-04\n",
      "Epoch 10/10\n",
      "341/341 [==============================] - 57s 167ms/step - loss: 4.8205e-04\n"
     ]
    },
    {
     "name": "stderr",
     "output_type": "stream",
     "text": [
      "WARNING:absl:Found untraced functions such as lstm_cell_1_layer_call_fn, lstm_cell_1_layer_call_and_return_conditional_losses while saving (showing 2 of 2). These functions will not be directly callable after loading.\n"
     ]
    },
    {
     "name": "stdout",
     "output_type": "stream",
     "text": [
      "INFO:tensorflow:Assets written to: 1_step_lookahead_Direct_Multivariate\\assets\n"
     ]
    },
    {
     "name": "stderr",
     "output_type": "stream",
     "text": [
      "INFO:tensorflow:Assets written to: 1_step_lookahead_Direct_Multivariate\\assets\n",
      "WARNING:absl:<keras.layers.recurrent.LSTMCell object at 0x000002953C104EB0> has the same name 'LSTMCell' as a built-in Keras object. Consider renaming <class 'keras.layers.recurrent.LSTMCell'> to avoid naming conflicts when loading with `tf.keras.models.load_model`. If renaming is not possible, pass the object in the `custom_objects` parameter of the load function.\n"
     ]
    },
    {
     "name": "stdout",
     "output_type": "stream",
     "text": [
      "Epoch 1/10\n",
      "341/341 [==============================] - 57s 159ms/step - loss: 7.3587e-04\n",
      "Epoch 2/10\n",
      "341/341 [==============================] - 52s 153ms/step - loss: 6.6230e-04\n",
      "Epoch 3/10\n",
      "341/341 [==============================] - 54s 157ms/step - loss: 6.5208e-04\n",
      "Epoch 4/10\n",
      "341/341 [==============================] - 53s 154ms/step - loss: 6.5102e-04\n",
      "Epoch 5/10\n",
      "341/341 [==============================] - 53s 155ms/step - loss: 6.4056e-04\n",
      "Epoch 6/10\n",
      "341/341 [==============================] - 53s 154ms/step - loss: 6.4548e-04\n",
      "Epoch 7/10\n",
      "341/341 [==============================] - 52s 153ms/step - loss: 6.3367e-04\n",
      "Epoch 8/10\n",
      "341/341 [==============================] - 52s 153ms/step - loss: 6.3016e-04\n",
      "Epoch 9/10\n",
      "341/341 [==============================] - 52s 153ms/step - loss: 6.3222e-04\n",
      "Epoch 10/10\n",
      "341/341 [==============================] - 52s 152ms/step - loss: 6.3430e-04\n"
     ]
    },
    {
     "name": "stderr",
     "output_type": "stream",
     "text": [
      "WARNING:absl:Found untraced functions such as lstm_cell_2_layer_call_fn, lstm_cell_2_layer_call_and_return_conditional_losses while saving (showing 2 of 2). These functions will not be directly callable after loading.\n"
     ]
    },
    {
     "name": "stdout",
     "output_type": "stream",
     "text": [
      "INFO:tensorflow:Assets written to: 2_step_lookahead_Direct_Multivariate\\assets\n"
     ]
    },
    {
     "name": "stderr",
     "output_type": "stream",
     "text": [
      "INFO:tensorflow:Assets written to: 2_step_lookahead_Direct_Multivariate\\assets\n",
      "WARNING:absl:<keras.layers.recurrent.LSTMCell object at 0x0000029504AA6940> has the same name 'LSTMCell' as a built-in Keras object. Consider renaming <class 'keras.layers.recurrent.LSTMCell'> to avoid naming conflicts when loading with `tf.keras.models.load_model`. If renaming is not possible, pass the object in the `custom_objects` parameter of the load function.\n"
     ]
    },
    {
     "name": "stdout",
     "output_type": "stream",
     "text": [
      "Epoch 1/10\n",
      "341/341 [==============================] - 54s 149ms/step - loss: 7.7974e-04\n",
      "Epoch 2/10\n",
      "341/341 [==============================] - 52s 151ms/step - loss: 7.3490e-04\n",
      "Epoch 3/10\n",
      "341/341 [==============================] - 52s 151ms/step - loss: 7.3135e-04\n",
      "Epoch 4/10\n",
      "341/341 [==============================] - 52s 151ms/step - loss: 7.1897e-04\n",
      "Epoch 5/10\n",
      "341/341 [==============================] - 52s 151ms/step - loss: 7.1860e-04\n",
      "Epoch 6/10\n",
      "341/341 [==============================] - 52s 151ms/step - loss: 7.1120e-04\n",
      "Epoch 7/10\n",
      "341/341 [==============================] - 52s 152ms/step - loss: 7.1817e-04\n",
      "Epoch 8/10\n",
      "341/341 [==============================] - 52s 153ms/step - loss: 7.1376e-04\n",
      "Epoch 9/10\n",
      "341/341 [==============================] - 51s 151ms/step - loss: 7.1850e-04\n",
      "Epoch 10/10\n",
      "341/341 [==============================] - 51s 151ms/step - loss: 7.0129e-04\n"
     ]
    },
    {
     "name": "stderr",
     "output_type": "stream",
     "text": [
      "WARNING:absl:Found untraced functions such as lstm_cell_3_layer_call_fn, lstm_cell_3_layer_call_and_return_conditional_losses while saving (showing 2 of 2). These functions will not be directly callable after loading.\n"
     ]
    },
    {
     "name": "stdout",
     "output_type": "stream",
     "text": [
      "INFO:tensorflow:Assets written to: 3_step_lookahead_Direct_Multivariate\\assets\n"
     ]
    },
    {
     "name": "stderr",
     "output_type": "stream",
     "text": [
      "INFO:tensorflow:Assets written to: 3_step_lookahead_Direct_Multivariate\\assets\n",
      "WARNING:absl:<keras.layers.recurrent.LSTMCell object at 0x0000029517E76640> has the same name 'LSTMCell' as a built-in Keras object. Consider renaming <class 'keras.layers.recurrent.LSTMCell'> to avoid naming conflicts when loading with `tf.keras.models.load_model`. If renaming is not possible, pass the object in the `custom_objects` parameter of the load function.\n"
     ]
    },
    {
     "name": "stdout",
     "output_type": "stream",
     "text": [
      "Epoch 1/10\n",
      "341/341 [==============================] - 54s 152ms/step - loss: 8.0915e-04\n",
      "Epoch 2/10\n",
      "341/341 [==============================] - 52s 152ms/step - loss: 7.6541e-04\n",
      "Epoch 3/10\n",
      "341/341 [==============================] - 52s 152ms/step - loss: 7.6633e-04\n",
      "Epoch 4/10\n",
      "341/341 [==============================] - 52s 152ms/step - loss: 7.5852e-04\n",
      "Epoch 5/10\n",
      "341/341 [==============================] - 52s 152ms/step - loss: 7.5724e-04\n",
      "Epoch 6/10\n",
      "341/341 [==============================] - 52s 152ms/step - loss: 7.5432e-04\n",
      "Epoch 7/10\n",
      "341/341 [==============================] - 52s 152ms/step - loss: 7.5110e-04\n",
      "Epoch 8/10\n",
      "341/341 [==============================] - 52s 152ms/step - loss: 7.4944e-04\n",
      "Epoch 9/10\n",
      "341/341 [==============================] - 52s 152ms/step - loss: 7.4838e-04\n",
      "Epoch 10/10\n",
      "341/341 [==============================] - 52s 152ms/step - loss: 7.4438e-04\n"
     ]
    },
    {
     "name": "stderr",
     "output_type": "stream",
     "text": [
      "WARNING:absl:Found untraced functions such as lstm_cell_4_layer_call_fn, lstm_cell_4_layer_call_and_return_conditional_losses while saving (showing 2 of 2). These functions will not be directly callable after loading.\n"
     ]
    },
    {
     "name": "stdout",
     "output_type": "stream",
     "text": [
      "INFO:tensorflow:Assets written to: 4_step_lookahead_Direct_Multivariate\\assets\n"
     ]
    },
    {
     "name": "stderr",
     "output_type": "stream",
     "text": [
      "INFO:tensorflow:Assets written to: 4_step_lookahead_Direct_Multivariate\\assets\n",
      "WARNING:absl:<keras.layers.recurrent.LSTMCell object at 0x000002950129CD30> has the same name 'LSTMCell' as a built-in Keras object. Consider renaming <class 'keras.layers.recurrent.LSTMCell'> to avoid naming conflicts when loading with `tf.keras.models.load_model`. If renaming is not possible, pass the object in the `custom_objects` parameter of the load function.\n"
     ]
    },
    {
     "name": "stdout",
     "output_type": "stream",
     "text": [
      "Epoch 1/10\n",
      "341/341 [==============================] - 54s 151ms/step - loss: 0.0011\n",
      "Epoch 2/10\n",
      "341/341 [==============================] - 52s 151ms/step - loss: 8.1301e-04\n",
      "Epoch 3/10\n",
      "341/341 [==============================] - 52s 151ms/step - loss: 7.8796e-04\n",
      "Epoch 4/10\n",
      "341/341 [==============================] - 52s 151ms/step - loss: 7.8142e-04\n",
      "Epoch 5/10\n",
      "341/341 [==============================] - 52s 151ms/step - loss: 7.7525e-04\n",
      "Epoch 6/10\n",
      "341/341 [==============================] - 52s 151ms/step - loss: 7.7551e-04\n",
      "Epoch 7/10\n",
      "341/341 [==============================] - 52s 151ms/step - loss: 7.6947e-04\n",
      "Epoch 8/10\n",
      "341/341 [==============================] - 52s 151ms/step - loss: 7.7730e-04\n",
      "Epoch 9/10\n",
      "341/341 [==============================] - 52s 151ms/step - loss: 7.6733e-04\n",
      "Epoch 10/10\n",
      "341/341 [==============================] - 52s 151ms/step - loss: 7.6718e-04\n"
     ]
    },
    {
     "name": "stderr",
     "output_type": "stream",
     "text": [
      "WARNING:absl:Found untraced functions such as lstm_cell_5_layer_call_fn, lstm_cell_5_layer_call_and_return_conditional_losses while saving (showing 2 of 2). These functions will not be directly callable after loading.\n"
     ]
    },
    {
     "name": "stdout",
     "output_type": "stream",
     "text": [
      "INFO:tensorflow:Assets written to: 5_step_lookahead_Direct_Multivariate\\assets\n"
     ]
    },
    {
     "name": "stderr",
     "output_type": "stream",
     "text": [
      "INFO:tensorflow:Assets written to: 5_step_lookahead_Direct_Multivariate\\assets\n",
      "WARNING:absl:<keras.layers.recurrent.LSTMCell object at 0x00000295154961C0> has the same name 'LSTMCell' as a built-in Keras object. Consider renaming <class 'keras.layers.recurrent.LSTMCell'> to avoid naming conflicts when loading with `tf.keras.models.load_model`. If renaming is not possible, pass the object in the `custom_objects` parameter of the load function.\n"
     ]
    },
    {
     "name": "stdout",
     "output_type": "stream",
     "text": [
      "Epoch 1/10\n",
      "341/341 [==============================] - 54s 151ms/step - loss: 8.7223e-04\n",
      "Epoch 2/10\n",
      "341/341 [==============================] - 52s 151ms/step - loss: 8.3121e-04\n",
      "Epoch 3/10\n",
      "341/341 [==============================] - 52s 151ms/step - loss: 8.1269e-04\n",
      "Epoch 4/10\n",
      "341/341 [==============================] - 52s 151ms/step - loss: 8.1088e-04\n",
      "Epoch 5/10\n",
      "341/341 [==============================] - 52s 151ms/step - loss: 8.1061e-04\n",
      "Epoch 6/10\n",
      "341/341 [==============================] - 52s 151ms/step - loss: 8.0885e-04\n",
      "Epoch 7/10\n",
      "341/341 [==============================] - 52s 151ms/step - loss: 8.0277e-04\n",
      "Epoch 8/10\n",
      "341/341 [==============================] - 52s 151ms/step - loss: 8.0331e-04\n",
      "Epoch 9/10\n",
      "341/341 [==============================] - 52s 151ms/step - loss: 8.0404e-04\n",
      "Epoch 10/10\n",
      "341/341 [==============================] - 52s 151ms/step - loss: 8.0150e-04\n"
     ]
    },
    {
     "name": "stderr",
     "output_type": "stream",
     "text": [
      "WARNING:absl:Found untraced functions such as lstm_cell_6_layer_call_fn, lstm_cell_6_layer_call_and_return_conditional_losses while saving (showing 2 of 2). These functions will not be directly callable after loading.\n"
     ]
    },
    {
     "name": "stdout",
     "output_type": "stream",
     "text": [
      "INFO:tensorflow:Assets written to: 6_step_lookahead_Direct_Multivariate\\assets\n"
     ]
    },
    {
     "name": "stderr",
     "output_type": "stream",
     "text": [
      "INFO:tensorflow:Assets written to: 6_step_lookahead_Direct_Multivariate\\assets\n",
      "WARNING:absl:<keras.layers.recurrent.LSTMCell object at 0x0000029517A8D340> has the same name 'LSTMCell' as a built-in Keras object. Consider renaming <class 'keras.layers.recurrent.LSTMCell'> to avoid naming conflicts when loading with `tf.keras.models.load_model`. If renaming is not possible, pass the object in the `custom_objects` parameter of the load function.\n"
     ]
    },
    {
     "name": "stdout",
     "output_type": "stream",
     "text": [
      "Epoch 1/10\n",
      "341/341 [==============================] - 54s 151ms/step - loss: 8.9399e-04\n",
      "Epoch 2/10\n",
      "341/341 [==============================] - 51s 151ms/step - loss: 8.4632e-04\n",
      "Epoch 3/10\n",
      "341/341 [==============================] - 51s 151ms/step - loss: 8.3882e-04\n",
      "Epoch 4/10\n",
      "341/341 [==============================] - 51s 151ms/step - loss: 8.3632e-04\n",
      "Epoch 5/10\n",
      "341/341 [==============================] - 51s 151ms/step - loss: 8.2702e-04\n",
      "Epoch 6/10\n",
      "341/341 [==============================] - 51s 151ms/step - loss: 8.2697e-04\n",
      "Epoch 7/10\n",
      "341/341 [==============================] - 52s 151ms/step - loss: 8.3242e-04\n",
      "Epoch 8/10\n",
      "341/341 [==============================] - 52s 151ms/step - loss: 8.2572e-04\n",
      "Epoch 9/10\n",
      "341/341 [==============================] - 51s 151ms/step - loss: 8.1695e-04\n",
      "Epoch 10/10\n",
      "341/341 [==============================] - 51s 151ms/step - loss: 8.1491e-04\n"
     ]
    },
    {
     "name": "stderr",
     "output_type": "stream",
     "text": [
      "WARNING:absl:Found untraced functions such as lstm_cell_7_layer_call_fn, lstm_cell_7_layer_call_and_return_conditional_losses while saving (showing 2 of 2). These functions will not be directly callable after loading.\n"
     ]
    },
    {
     "name": "stdout",
     "output_type": "stream",
     "text": [
      "INFO:tensorflow:Assets written to: 7_step_lookahead_Direct_Multivariate\\assets\n"
     ]
    },
    {
     "name": "stderr",
     "output_type": "stream",
     "text": [
      "INFO:tensorflow:Assets written to: 7_step_lookahead_Direct_Multivariate\\assets\n",
      "WARNING:absl:<keras.layers.recurrent.LSTMCell object at 0x000002951B266E50> has the same name 'LSTMCell' as a built-in Keras object. Consider renaming <class 'keras.layers.recurrent.LSTMCell'> to avoid naming conflicts when loading with `tf.keras.models.load_model`. If renaming is not possible, pass the object in the `custom_objects` parameter of the load function.\n"
     ]
    },
    {
     "name": "stdout",
     "output_type": "stream",
     "text": [
      "Epoch 1/10\n",
      "340/340 [==============================] - 53s 148ms/step - loss: 9.0826e-04\n",
      "Epoch 2/10\n",
      "340/340 [==============================] - 50s 148ms/step - loss: 8.7982e-04\n",
      "Epoch 3/10\n",
      "340/340 [==============================] - 50s 148ms/step - loss: 8.5501e-04\n",
      "Epoch 4/10\n",
      "340/340 [==============================] - 50s 148ms/step - loss: 8.5497e-04\n",
      "Epoch 5/10\n",
      "340/340 [==============================] - 50s 148ms/step - loss: 8.5120e-04\n",
      "Epoch 6/10\n",
      "340/340 [==============================] - 50s 148ms/step - loss: 8.4991e-04\n",
      "Epoch 7/10\n",
      "340/340 [==============================] - 50s 148ms/step - loss: 8.4408e-04\n",
      "Epoch 8/10\n",
      "340/340 [==============================] - 50s 148ms/step - loss: 8.4575e-04\n",
      "Epoch 9/10\n",
      "340/340 [==============================] - 50s 148ms/step - loss: 8.3638e-04\n",
      "Epoch 10/10\n",
      "340/340 [==============================] - 50s 148ms/step - loss: 8.3844e-04\n"
     ]
    },
    {
     "name": "stderr",
     "output_type": "stream",
     "text": [
      "WARNING:absl:Found untraced functions such as lstm_cell_8_layer_call_fn, lstm_cell_8_layer_call_and_return_conditional_losses while saving (showing 2 of 2). These functions will not be directly callable after loading.\n"
     ]
    },
    {
     "name": "stdout",
     "output_type": "stream",
     "text": [
      "INFO:tensorflow:Assets written to: 8_step_lookahead_Direct_Multivariate\\assets\n"
     ]
    },
    {
     "name": "stderr",
     "output_type": "stream",
     "text": [
      "INFO:tensorflow:Assets written to: 8_step_lookahead_Direct_Multivariate\\assets\n",
      "WARNING:absl:<keras.layers.recurrent.LSTMCell object at 0x00000295143C8BE0> has the same name 'LSTMCell' as a built-in Keras object. Consider renaming <class 'keras.layers.recurrent.LSTMCell'> to avoid naming conflicts when loading with `tf.keras.models.load_model`. If renaming is not possible, pass the object in the `custom_objects` parameter of the load function.\n"
     ]
    },
    {
     "name": "stdout",
     "output_type": "stream",
     "text": [
      "Epoch 1/10\n",
      "340/340 [==============================] - 52s 148ms/step - loss: 9.2526e-04\n",
      "Epoch 2/10\n",
      "340/340 [==============================] - 50s 148ms/step - loss: 8.8667e-04\n",
      "Epoch 3/10\n",
      "340/340 [==============================] - 50s 148ms/step - loss: 8.9114e-04\n",
      "Epoch 4/10\n",
      "340/340 [==============================] - 50s 148ms/step - loss: 8.6722e-04\n",
      "Epoch 5/10\n",
      "340/340 [==============================] - 50s 148ms/step - loss: 8.5518e-04\n",
      "Epoch 6/10\n",
      "340/340 [==============================] - 50s 148ms/step - loss: 8.6723e-04\n",
      "Epoch 7/10\n",
      "340/340 [==============================] - 50s 148ms/step - loss: 8.5599e-04\n",
      "Epoch 8/10\n",
      "340/340 [==============================] - 50s 148ms/step - loss: 8.5559e-04\n",
      "Epoch 9/10\n",
      "340/340 [==============================] - 50s 148ms/step - loss: 8.6112e-04\n",
      "Epoch 10/10\n",
      "340/340 [==============================] - 50s 148ms/step - loss: 8.5000e-04\n"
     ]
    },
    {
     "name": "stderr",
     "output_type": "stream",
     "text": [
      "WARNING:absl:Found untraced functions such as lstm_cell_9_layer_call_fn, lstm_cell_9_layer_call_and_return_conditional_losses while saving (showing 2 of 2). These functions will not be directly callable after loading.\n"
     ]
    },
    {
     "name": "stdout",
     "output_type": "stream",
     "text": [
      "INFO:tensorflow:Assets written to: 9_step_lookahead_Direct_Multivariate\\assets\n"
     ]
    },
    {
     "name": "stderr",
     "output_type": "stream",
     "text": [
      "INFO:tensorflow:Assets written to: 9_step_lookahead_Direct_Multivariate\\assets\n",
      "WARNING:absl:<keras.layers.recurrent.LSTMCell object at 0x0000029503B39040> has the same name 'LSTMCell' as a built-in Keras object. Consider renaming <class 'keras.layers.recurrent.LSTMCell'> to avoid naming conflicts when loading with `tf.keras.models.load_model`. If renaming is not possible, pass the object in the `custom_objects` parameter of the load function.\n"
     ]
    },
    {
     "name": "stdout",
     "output_type": "stream",
     "text": [
      "Epoch 1/10\n",
      "340/340 [==============================] - 54s 151ms/step - loss: 9.4305e-04\n",
      "Epoch 2/10\n",
      "340/340 [==============================] - 51s 151ms/step - loss: 8.9545e-04\n",
      "Epoch 3/10\n",
      "340/340 [==============================] - 51s 151ms/step - loss: 8.8393e-04\n",
      "Epoch 4/10\n",
      "340/340 [==============================] - 51s 151ms/step - loss: 8.8053e-04\n",
      "Epoch 5/10\n",
      "340/340 [==============================] - 51s 151ms/step - loss: 8.7376e-04\n",
      "Epoch 6/10\n",
      "340/340 [==============================] - 51s 151ms/step - loss: 8.7710e-04\n",
      "Epoch 7/10\n",
      "340/340 [==============================] - 51s 151ms/step - loss: 8.6905e-04\n",
      "Epoch 8/10\n",
      "340/340 [==============================] - 51s 151ms/step - loss: 8.6679e-04\n",
      "Epoch 9/10\n",
      "340/340 [==============================] - 51s 151ms/step - loss: 8.6721e-04\n",
      "Epoch 10/10\n",
      "340/340 [==============================] - 51s 151ms/step - loss: 8.7301e-04\n"
     ]
    },
    {
     "name": "stderr",
     "output_type": "stream",
     "text": [
      "WARNING:absl:Found untraced functions such as lstm_cell_10_layer_call_fn, lstm_cell_10_layer_call_and_return_conditional_losses while saving (showing 2 of 2). These functions will not be directly callable after loading.\n"
     ]
    },
    {
     "name": "stdout",
     "output_type": "stream",
     "text": [
      "INFO:tensorflow:Assets written to: 10_step_lookahead_Direct_Multivariate\\assets\n"
     ]
    },
    {
     "name": "stderr",
     "output_type": "stream",
     "text": [
      "INFO:tensorflow:Assets written to: 10_step_lookahead_Direct_Multivariate\\assets\n",
      "WARNING:absl:<keras.layers.recurrent.LSTMCell object at 0x000002950FFEE970> has the same name 'LSTMCell' as a built-in Keras object. Consider renaming <class 'keras.layers.recurrent.LSTMCell'> to avoid naming conflicts when loading with `tf.keras.models.load_model`. If renaming is not possible, pass the object in the `custom_objects` parameter of the load function.\n"
     ]
    },
    {
     "name": "stdout",
     "output_type": "stream",
     "text": [
      "Epoch 1/10\n",
      "340/340 [==============================] - 54s 152ms/step - loss: 9.4611e-04\n",
      "Epoch 2/10\n",
      "340/340 [==============================] - 52s 152ms/step - loss: 9.0495e-04\n",
      "Epoch 3/10\n",
      "340/340 [==============================] - 52s 152ms/step - loss: 9.1860e-04\n",
      "Epoch 4/10\n",
      "340/340 [==============================] - 52s 152ms/step - loss: 8.9523e-04\n",
      "Epoch 5/10\n",
      "340/340 [==============================] - 53s 155ms/step - loss: 8.9294e-04\n",
      "Epoch 6/10\n",
      "340/340 [==============================] - 52s 152ms/step - loss: 8.8771e-04\n",
      "Epoch 7/10\n",
      "340/340 [==============================] - 52s 152ms/step - loss: 8.9562e-04\n",
      "Epoch 8/10\n",
      "340/340 [==============================] - 52s 152ms/step - loss: 8.8490e-04\n",
      "Epoch 9/10\n",
      "340/340 [==============================] - 52s 152ms/step - loss: 8.9008e-04\n",
      "Epoch 10/10\n",
      "340/340 [==============================] - 52s 152ms/step - loss: 8.7899e-04\n"
     ]
    },
    {
     "name": "stderr",
     "output_type": "stream",
     "text": [
      "WARNING:absl:Found untraced functions such as lstm_cell_11_layer_call_fn, lstm_cell_11_layer_call_and_return_conditional_losses while saving (showing 2 of 2). These functions will not be directly callable after loading.\n"
     ]
    },
    {
     "name": "stdout",
     "output_type": "stream",
     "text": [
      "INFO:tensorflow:Assets written to: 11_step_lookahead_Direct_Multivariate\\assets\n"
     ]
    },
    {
     "name": "stderr",
     "output_type": "stream",
     "text": [
      "INFO:tensorflow:Assets written to: 11_step_lookahead_Direct_Multivariate\\assets\n",
      "WARNING:absl:<keras.layers.recurrent.LSTMCell object at 0x00000295155CD520> has the same name 'LSTMCell' as a built-in Keras object. Consider renaming <class 'keras.layers.recurrent.LSTMCell'> to avoid naming conflicts when loading with `tf.keras.models.load_model`. If renaming is not possible, pass the object in the `custom_objects` parameter of the load function.\n"
     ]
    },
    {
     "name": "stdout",
     "output_type": "stream",
     "text": [
      "Epoch 1/10\n",
      "340/340 [==============================] - 55s 156ms/step - loss: 9.6891e-04\n",
      "Epoch 2/10\n",
      "340/340 [==============================] - 54s 157ms/step - loss: 9.2093e-04\n",
      "Epoch 3/10\n",
      "340/340 [==============================] - 51s 151ms/step - loss: 9.1628e-04\n",
      "Epoch 4/10\n",
      "340/340 [==============================] - 52s 153ms/step - loss: 9.0490e-04\n",
      "Epoch 5/10\n",
      "340/340 [==============================] - 52s 152ms/step - loss: 9.0460e-04\n",
      "Epoch 6/10\n",
      "340/340 [==============================] - 52s 152ms/step - loss: 8.9917e-04\n",
      "Epoch 7/10\n",
      "340/340 [==============================] - 52s 153ms/step - loss: 9.0212e-04\n",
      "Epoch 8/10\n",
      "340/340 [==============================] - 52s 152ms/step - loss: 9.0102e-04\n",
      "Epoch 9/10\n",
      "340/340 [==============================] - 52s 152ms/step - loss: 8.9827e-04\n",
      "Epoch 10/10\n",
      "340/340 [==============================] - 51s 151ms/step - loss: 8.9756e-04\n"
     ]
    },
    {
     "name": "stderr",
     "output_type": "stream",
     "text": [
      "WARNING:absl:Found untraced functions such as lstm_cell_12_layer_call_fn, lstm_cell_12_layer_call_and_return_conditional_losses while saving (showing 2 of 2). These functions will not be directly callable after loading.\n"
     ]
    },
    {
     "name": "stdout",
     "output_type": "stream",
     "text": [
      "INFO:tensorflow:Assets written to: 12_step_lookahead_Direct_Multivariate\\assets\n"
     ]
    },
    {
     "name": "stderr",
     "output_type": "stream",
     "text": [
      "INFO:tensorflow:Assets written to: 12_step_lookahead_Direct_Multivariate\\assets\n",
      "WARNING:absl:<keras.layers.recurrent.LSTMCell object at 0x0000029503F39E80> has the same name 'LSTMCell' as a built-in Keras object. Consider renaming <class 'keras.layers.recurrent.LSTMCell'> to avoid naming conflicts when loading with `tf.keras.models.load_model`. If renaming is not possible, pass the object in the `custom_objects` parameter of the load function.\n"
     ]
    },
    {
     "name": "stdout",
     "output_type": "stream",
     "text": [
      "Epoch 1/10\n",
      "340/340 [==============================] - 54s 152ms/step - loss: 9.8985e-04\n",
      "Epoch 2/10\n",
      "340/340 [==============================] - 52s 153ms/step - loss: 9.4717e-04\n",
      "Epoch 3/10\n",
      "340/340 [==============================] - 56s 165ms/step - loss: 9.3841e-04\n",
      "Epoch 4/10\n",
      "340/340 [==============================] - 52s 154ms/step - loss: 9.3096e-04\n",
      "Epoch 5/10\n",
      "340/340 [==============================] - 52s 153ms/step - loss: 9.3312e-04\n",
      "Epoch 6/10\n",
      "340/340 [==============================] - 52s 152ms/step - loss: 9.2689e-04\n",
      "Epoch 7/10\n",
      "340/340 [==============================] - 52s 152ms/step - loss: 9.2328e-04\n",
      "Epoch 8/10\n",
      "340/340 [==============================] - 52s 152ms/step - loss: 9.2645e-04\n",
      "Epoch 9/10\n",
      "340/340 [==============================] - 53s 156ms/step - loss: 9.1888e-04\n",
      "Epoch 10/10\n",
      "340/340 [==============================] - 53s 155ms/step - loss: 9.1877e-04\n"
     ]
    },
    {
     "name": "stderr",
     "output_type": "stream",
     "text": [
      "WARNING:absl:Found untraced functions such as lstm_cell_13_layer_call_fn, lstm_cell_13_layer_call_and_return_conditional_losses while saving (showing 2 of 2). These functions will not be directly callable after loading.\n"
     ]
    },
    {
     "name": "stdout",
     "output_type": "stream",
     "text": [
      "INFO:tensorflow:Assets written to: 13_step_lookahead_Direct_Multivariate\\assets\n"
     ]
    },
    {
     "name": "stderr",
     "output_type": "stream",
     "text": [
      "INFO:tensorflow:Assets written to: 13_step_lookahead_Direct_Multivariate\\assets\n",
      "WARNING:absl:<keras.layers.recurrent.LSTMCell object at 0x000002951272E7C0> has the same name 'LSTMCell' as a built-in Keras object. Consider renaming <class 'keras.layers.recurrent.LSTMCell'> to avoid naming conflicts when loading with `tf.keras.models.load_model`. If renaming is not possible, pass the object in the `custom_objects` parameter of the load function.\n"
     ]
    },
    {
     "name": "stdout",
     "output_type": "stream",
     "text": [
      "Epoch 1/10\n",
      "340/340 [==============================] - 55s 154ms/step - loss: 0.0010\n",
      "Epoch 2/10\n",
      "340/340 [==============================] - 52s 153ms/step - loss: 9.7875e-04\n",
      "Epoch 3/10\n",
      "340/340 [==============================] - 52s 154ms/step - loss: 9.6187e-04\n",
      "Epoch 4/10\n",
      "340/340 [==============================] - 53s 157ms/step - loss: 9.4694e-04\n",
      "Epoch 5/10\n",
      "340/340 [==============================] - 53s 155ms/step - loss: 9.4718e-04\n",
      "Epoch 6/10\n",
      "340/340 [==============================] - 52s 153ms/step - loss: 9.5057e-04\n",
      "Epoch 7/10\n",
      "340/340 [==============================] - 52s 153ms/step - loss: 9.4803e-04\n",
      "Epoch 8/10\n",
      "340/340 [==============================] - 52s 153ms/step - loss: 9.4281e-04\n",
      "Epoch 9/10\n",
      "340/340 [==============================] - 54s 160ms/step - loss: 9.4117e-04\n",
      "Epoch 10/10\n",
      "340/340 [==============================] - 57s 168ms/step - loss: 9.3415e-04\n"
     ]
    },
    {
     "name": "stderr",
     "output_type": "stream",
     "text": [
      "WARNING:absl:Found untraced functions such as lstm_cell_14_layer_call_fn, lstm_cell_14_layer_call_and_return_conditional_losses while saving (showing 2 of 2). These functions will not be directly callable after loading.\n"
     ]
    },
    {
     "name": "stdout",
     "output_type": "stream",
     "text": [
      "INFO:tensorflow:Assets written to: 14_step_lookahead_Direct_Multivariate\\assets\n"
     ]
    },
    {
     "name": "stderr",
     "output_type": "stream",
     "text": [
      "INFO:tensorflow:Assets written to: 14_step_lookahead_Direct_Multivariate\\assets\n",
      "WARNING:absl:<keras.layers.recurrent.LSTMCell object at 0x000002951E6C1E50> has the same name 'LSTMCell' as a built-in Keras object. Consider renaming <class 'keras.layers.recurrent.LSTMCell'> to avoid naming conflicts when loading with `tf.keras.models.load_model`. If renaming is not possible, pass the object in the `custom_objects` parameter of the load function.\n"
     ]
    },
    {
     "name": "stdout",
     "output_type": "stream",
     "text": [
      "Epoch 1/10\n",
      "340/340 [==============================] - 59s 165ms/step - loss: 0.0010\n",
      "Epoch 2/10\n",
      "340/340 [==============================] - 55s 163ms/step - loss: 9.7944e-04\n",
      "Epoch 3/10\n",
      "340/340 [==============================] - 54s 159ms/step - loss: 9.6479e-04\n",
      "Epoch 4/10\n",
      "340/340 [==============================] - 53s 155ms/step - loss: 9.6484e-04\n",
      "Epoch 5/10\n",
      "340/340 [==============================] - 55s 163ms/step - loss: 9.5661e-04\n",
      "Epoch 6/10\n",
      "340/340 [==============================] - 52s 153ms/step - loss: 9.5683e-04\n",
      "Epoch 7/10\n",
      "340/340 [==============================] - 57s 167ms/step - loss: 9.5058e-04\n",
      "Epoch 8/10\n",
      "340/340 [==============================] - 55s 163ms/step - loss: 9.4705e-04\n",
      "Epoch 9/10\n",
      "340/340 [==============================] - 53s 156ms/step - loss: 9.5233e-04\n",
      "Epoch 10/10\n",
      "340/340 [==============================] - 53s 155ms/step - loss: 9.5185e-04\n"
     ]
    },
    {
     "name": "stderr",
     "output_type": "stream",
     "text": [
      "WARNING:absl:Found untraced functions such as lstm_cell_15_layer_call_fn, lstm_cell_15_layer_call_and_return_conditional_losses while saving (showing 2 of 2). These functions will not be directly callable after loading.\n"
     ]
    },
    {
     "name": "stdout",
     "output_type": "stream",
     "text": [
      "INFO:tensorflow:Assets written to: 15_step_lookahead_Direct_Multivariate\\assets\n"
     ]
    },
    {
     "name": "stderr",
     "output_type": "stream",
     "text": [
      "INFO:tensorflow:Assets written to: 15_step_lookahead_Direct_Multivariate\\assets\n",
      "WARNING:absl:<keras.layers.recurrent.LSTMCell object at 0x00000295177F9490> has the same name 'LSTMCell' as a built-in Keras object. Consider renaming <class 'keras.layers.recurrent.LSTMCell'> to avoid naming conflicts when loading with `tf.keras.models.load_model`. If renaming is not possible, pass the object in the `custom_objects` parameter of the load function.\n"
     ]
    },
    {
     "name": "stdout",
     "output_type": "stream",
     "text": [
      "Epoch 1/10\n",
      "340/340 [==============================] - 56s 156ms/step - loss: 0.0010\n",
      "Epoch 2/10\n",
      "340/340 [==============================] - 53s 157ms/step - loss: 9.9076e-04\n",
      "Epoch 3/10\n",
      "340/340 [==============================] - 53s 157ms/step - loss: 9.8087e-04\n",
      "Epoch 4/10\n",
      "340/340 [==============================] - 53s 156ms/step - loss: 9.8549e-04\n",
      "Epoch 5/10\n",
      "340/340 [==============================] - 53s 156ms/step - loss: 9.8010e-04\n",
      "Epoch 6/10\n",
      "340/340 [==============================] - 53s 156ms/step - loss: 9.7265e-04\n",
      "Epoch 7/10\n",
      "340/340 [==============================] - 53s 155ms/step - loss: 9.7008e-04\n",
      "Epoch 8/10\n",
      "340/340 [==============================] - 53s 157ms/step - loss: 9.7627e-04\n",
      "Epoch 9/10\n",
      "340/340 [==============================] - 53s 156ms/step - loss: 9.5874e-04\n",
      "Epoch 10/10\n",
      "340/340 [==============================] - 53s 155ms/step - loss: 9.5946e-04\n"
     ]
    },
    {
     "name": "stderr",
     "output_type": "stream",
     "text": [
      "WARNING:absl:Found untraced functions such as lstm_cell_16_layer_call_fn, lstm_cell_16_layer_call_and_return_conditional_losses while saving (showing 2 of 2). These functions will not be directly callable after loading.\n"
     ]
    },
    {
     "name": "stdout",
     "output_type": "stream",
     "text": [
      "INFO:tensorflow:Assets written to: 16_step_lookahead_Direct_Multivariate\\assets\n"
     ]
    },
    {
     "name": "stderr",
     "output_type": "stream",
     "text": [
      "INFO:tensorflow:Assets written to: 16_step_lookahead_Direct_Multivariate\\assets\n",
      "WARNING:absl:<keras.layers.recurrent.LSTMCell object at 0x00000295014DA100> has the same name 'LSTMCell' as a built-in Keras object. Consider renaming <class 'keras.layers.recurrent.LSTMCell'> to avoid naming conflicts when loading with `tf.keras.models.load_model`. If renaming is not possible, pass the object in the `custom_objects` parameter of the load function.\n"
     ]
    },
    {
     "name": "stdout",
     "output_type": "stream",
     "text": [
      "Epoch 1/10\n",
      "340/340 [==============================] - 55s 155ms/step - loss: 0.0010\n",
      "Epoch 2/10\n",
      "340/340 [==============================] - 53s 156ms/step - loss: 0.0010\n",
      "Epoch 3/10\n",
      "340/340 [==============================] - 53s 155ms/step - loss: 9.9536e-04\n",
      "Epoch 4/10\n",
      "340/340 [==============================] - 53s 155ms/step - loss: 9.9269e-04\n",
      "Epoch 5/10\n",
      "340/340 [==============================] - 53s 156ms/step - loss: 9.9099e-04\n",
      "Epoch 6/10\n",
      "340/340 [==============================] - 53s 156ms/step - loss: 9.8620e-04\n",
      "Epoch 7/10\n",
      "340/340 [==============================] - 53s 155ms/step - loss: 9.8110e-04\n",
      "Epoch 8/10\n",
      "340/340 [==============================] - 53s 155ms/step - loss: 9.7275e-04\n",
      "Epoch 9/10\n",
      "340/340 [==============================] - 53s 156ms/step - loss: 9.7195e-04\n",
      "Epoch 10/10\n",
      "340/340 [==============================] - 53s 155ms/step - loss: 9.7610e-04\n"
     ]
    },
    {
     "name": "stderr",
     "output_type": "stream",
     "text": [
      "WARNING:absl:Found untraced functions such as lstm_cell_17_layer_call_fn, lstm_cell_17_layer_call_and_return_conditional_losses while saving (showing 2 of 2). These functions will not be directly callable after loading.\n"
     ]
    },
    {
     "name": "stdout",
     "output_type": "stream",
     "text": [
      "INFO:tensorflow:Assets written to: 17_step_lookahead_Direct_Multivariate\\assets\n"
     ]
    },
    {
     "name": "stderr",
     "output_type": "stream",
     "text": [
      "INFO:tensorflow:Assets written to: 17_step_lookahead_Direct_Multivariate\\assets\n",
      "WARNING:absl:<keras.layers.recurrent.LSTMCell object at 0x0000029521B13D90> has the same name 'LSTMCell' as a built-in Keras object. Consider renaming <class 'keras.layers.recurrent.LSTMCell'> to avoid naming conflicts when loading with `tf.keras.models.load_model`. If renaming is not possible, pass the object in the `custom_objects` parameter of the load function.\n"
     ]
    },
    {
     "name": "stdout",
     "output_type": "stream",
     "text": [
      "Epoch 1/10\n",
      "340/340 [==============================] - 55s 156ms/step - loss: 0.0011\n",
      "Epoch 2/10\n",
      "340/340 [==============================] - 52s 153ms/step - loss: 0.0010\n",
      "Epoch 3/10\n",
      "340/340 [==============================] - 52s 153ms/step - loss: 0.0010\n",
      "Epoch 4/10\n",
      "340/340 [==============================] - 52s 153ms/step - loss: 0.0010\n",
      "Epoch 5/10\n",
      "340/340 [==============================] - 52s 152ms/step - loss: 9.9522e-04\n",
      "Epoch 6/10\n",
      "340/340 [==============================] - 52s 153ms/step - loss: 9.8878e-04\n",
      "Epoch 7/10\n",
      "340/340 [==============================] - 52s 153ms/step - loss: 0.0016\n",
      "Epoch 8/10\n",
      "340/340 [==============================] - 52s 152ms/step - loss: 9.8071e-04\n",
      "Epoch 9/10\n",
      "340/340 [==============================] - 52s 153ms/step - loss: 9.7739e-04\n",
      "Epoch 10/10\n",
      "340/340 [==============================] - 52s 153ms/step - loss: 9.7296e-04\n"
     ]
    },
    {
     "name": "stderr",
     "output_type": "stream",
     "text": [
      "WARNING:absl:Found untraced functions such as lstm_cell_18_layer_call_fn, lstm_cell_18_layer_call_and_return_conditional_losses while saving (showing 2 of 2). These functions will not be directly callable after loading.\n"
     ]
    },
    {
     "name": "stdout",
     "output_type": "stream",
     "text": [
      "INFO:tensorflow:Assets written to: 18_step_lookahead_Direct_Multivariate\\assets\n"
     ]
    },
    {
     "name": "stderr",
     "output_type": "stream",
     "text": [
      "INFO:tensorflow:Assets written to: 18_step_lookahead_Direct_Multivariate\\assets\n",
      "WARNING:absl:<keras.layers.recurrent.LSTMCell object at 0x0000029502832100> has the same name 'LSTMCell' as a built-in Keras object. Consider renaming <class 'keras.layers.recurrent.LSTMCell'> to avoid naming conflicts when loading with `tf.keras.models.load_model`. If renaming is not possible, pass the object in the `custom_objects` parameter of the load function.\n"
     ]
    },
    {
     "name": "stdout",
     "output_type": "stream",
     "text": [
      "Epoch 1/10\n",
      "340/340 [==============================] - 55s 153ms/step - loss: 0.0011\n",
      "Epoch 2/10\n",
      "340/340 [==============================] - 52s 153ms/step - loss: 0.0010\n",
      "Epoch 3/10\n",
      "340/340 [==============================] - 52s 153ms/step - loss: 0.0010\n",
      "Epoch 4/10\n",
      "340/340 [==============================] - 52s 153ms/step - loss: 0.0010\n",
      "Epoch 5/10\n",
      "340/340 [==============================] - 52s 153ms/step - loss: 0.0010\n",
      "Epoch 6/10\n",
      "340/340 [==============================] - 52s 153ms/step - loss: 9.9220e-04\n",
      "Epoch 7/10\n",
      "340/340 [==============================] - 52s 153ms/step - loss: 9.9267e-04\n",
      "Epoch 8/10\n",
      "340/340 [==============================] - 52s 153ms/step - loss: 9.9515e-04\n",
      "Epoch 9/10\n",
      "340/340 [==============================] - 52s 153ms/step - loss: 9.9143e-04\n",
      "Epoch 10/10\n",
      "340/340 [==============================] - 52s 153ms/step - loss: 9.9309e-04\n"
     ]
    },
    {
     "name": "stderr",
     "output_type": "stream",
     "text": [
      "WARNING:absl:Found untraced functions such as lstm_cell_19_layer_call_fn, lstm_cell_19_layer_call_and_return_conditional_losses while saving (showing 2 of 2). These functions will not be directly callable after loading.\n"
     ]
    },
    {
     "name": "stdout",
     "output_type": "stream",
     "text": [
      "INFO:tensorflow:Assets written to: 19_step_lookahead_Direct_Multivariate\\assets\n"
     ]
    },
    {
     "name": "stderr",
     "output_type": "stream",
     "text": [
      "INFO:tensorflow:Assets written to: 19_step_lookahead_Direct_Multivariate\\assets\n",
      "WARNING:absl:<keras.layers.recurrent.LSTMCell object at 0x000002951666CB80> has the same name 'LSTMCell' as a built-in Keras object. Consider renaming <class 'keras.layers.recurrent.LSTMCell'> to avoid naming conflicts when loading with `tf.keras.models.load_model`. If renaming is not possible, pass the object in the `custom_objects` parameter of the load function.\n"
     ]
    }
   ],
   "source": [
    "for i in range(1,20):\n",
    "    n_step_lookahead = i\n",
    "    X_train, y_train, X_val, y_val = generate_training_val_examples()\n",
    "\n",
    "    \n",
    "\n",
    "    model = Sequential()\n",
    "    model.add(LSTM(512, activation='tanh', input_shape=(n_steps_in, len(inputs))))\n",
    "    model.add(Dense(n_steps_out))\n",
    "    model.add(Dense(n_steps_out))\n",
    "    model.compile(optimizer='adam', loss='mse')\n",
    "\n",
    "    model.fit(X_train, y_train, epochs=10, verbose=1)\n",
    "    model.save((str(i) + '_step_lookahead_Direct_Multivariate'))"
   ]
  },
  {
   "cell_type": "markdown",
   "id": "52a3aaef",
   "metadata": {},
   "source": [
    "# Evaluate 19 step lookahead\n"
   ]
  },
  {
   "cell_type": "code",
   "execution_count": 39,
   "id": "4e968ecc",
   "metadata": {},
   "outputs": [],
   "source": [
    "from sklearn.metrics import r2_score\n",
    "from sklearn.preprocessing import MinMaxScaler\n",
    "from sklearn.metrics import mean_squared_error\n",
    "from sklearn.metrics import mean_absolute_error\n",
    "from sklearn.metrics import mean_absolute_percentage_error"
   ]
  },
  {
   "cell_type": "code",
   "execution_count": 16,
   "id": "0ec655c8",
   "metadata": {},
   "outputs": [
    {
     "name": "stdout",
     "output_type": "stream",
     "text": [
      "146/146 [==============================] - 10s 66ms/step\n"
     ]
    }
   ],
   "source": [
    "yhat = model.predict(X_val, verbose=1)\n",
    "\n",
    "\n"
   ]
  },
  {
   "cell_type": "code",
   "execution_count": 18,
   "id": "5511b9cf-f728-4930-a4d4-a359e1c99ebf",
   "metadata": {},
   "outputs": [
    {
     "ename": "NameError",
     "evalue": "name 'scaler' is not defined",
     "output_type": "error",
     "traceback": [
      "\u001b[1;31m---------------------------------------------------------------------------\u001b[0m",
      "\u001b[1;31mNameError\u001b[0m                                 Traceback (most recent call last)",
      "\u001b[1;32m~\\AppData\\Local\\Temp/ipykernel_20612/730274840.py\u001b[0m in \u001b[0;36m<module>\u001b[1;34m\u001b[0m\n\u001b[1;32m----> 1\u001b[1;33m \u001b[0mscaler\u001b[0m\u001b[1;33m\u001b[0m\u001b[1;33m\u001b[0m\u001b[0m\n\u001b[0m",
      "\u001b[1;31mNameError\u001b[0m: name 'scaler' is not defined"
     ]
    }
   ],
   "source": [
    "scaler"
   ]
  },
  {
   "cell_type": "markdown",
   "id": "4b71867c-b942-43c5-ba9e-d5144cf1432a",
   "metadata": {},
   "source": [
    "### We need to define the min max scaler outside of the data generation function so we can revert the transform;"
   ]
  },
  {
   "cell_type": "code",
   "execution_count": 40,
   "id": "e9c77119-20c0-4772-8379-f4480a7f3621",
   "metadata": {},
   "outputs": [],
   "source": [
    " #Load data as float, datetime to index\n",
    "data = pd.read_csv (r'C:\\Users\\conal\\Desktop\\MCM\\Practicum\\data\\min,max,average gas 11-26 to 01-26 QUERY 2.csv', header=0)\n",
    "data['block_timestamp'] = pd.to_datetime(data['block_timestamp'], format = '%Y-%m-%d %H:%M:%S UTC')\n",
    "data = data.set_index('block_timestamp')\n",
    "data = data.squeeze()\n",
    "data = data.astype('float')\n",
    "\n",
    "    #Resample with left edge label i.e min 1-5 mean labelled as min1\n",
    "data = data.resample(resample_rate).mean()\n",
    "\n",
    "    #Add 24hr lag for min gas price\n",
    "data['min_gas_price_24hr_lag'] = data['min_gas_price'].shift(288)\n",
    "data = data[288:]\n",
    "\n",
    "    #Convert to gwei\n",
    "data = data.apply(lambda x: x/1000000000)\n",
    "data =data[inputs]\n",
    "\n",
    "    #Filter inputs\n",
    "data =data[inputs]\n",
    "scaler = MinMaxScaler()\n",
    "data[inputs] = scaler.fit_transform(data[inputs])"
   ]
  },
  {
   "cell_type": "code",
   "execution_count": 43,
   "id": "716123c3",
   "metadata": {},
   "outputs": [
    {
     "name": "stdout",
     "output_type": "stream",
     "text": [
      "RMSE 57.08806112901884\n",
      "MAE 30.994992693821388\n",
      "MAPE 0.1959786805936207\n",
      "R^2 0.22674966174538647\n"
     ]
    },
    {
     "data": {
      "image/png": "[encoded data removed]",
      "text/plain": [
       "<Figure size 1440x1080 with 3 Axes>"
      ]
     },
     "metadata": {
      "needs_background": "light"
     },
     "output_type": "display_data"
    }
   ],
   "source": [
    "#Minmax scaler has been fit with nd data, add dummy columns so the scaler can be applied to min gas rpice\n",
    "pred_descaled= (scaler.inverse_transform(array([yhat,]*(len(inputs))).transpose()[0]))[:, :1]\n",
    "groud_truth_descaled= (scaler.inverse_transform(array([y_val,]*(len(inputs))).transpose()[0][0]))[ :, :1]\n",
    "\n",
    "\n",
    "f, (ax1, ax2, ax3) = plt.subplots(3, 1, sharey=True)\n",
    "f.set_figwidth(20)\n",
    "f.set_figheight(15)\n",
    "ax1.plot(pred_descaled)\n",
    "ax1.title.set_text('Gas Price Prediction')\n",
    "ax2.plot(groud_truth_descaled)\n",
    "ax2.title.set_text('Gas Price Actual')\n",
    "\n",
    "\n",
    "ax3.title.set_text('Overlayed')\n",
    "ax3.plot(groud_truth_descaled, color='blue',label='Predicted '+' Gas Price')\n",
    "ax3.plot(pred_descaled, color='red',label='real '+' Gas Price')\n",
    "\n",
    "\n",
    "\n",
    "print('RMSE ' + str(mean_squared_error(groud_truth_descaled, pred_descaled, squared=False)))\n",
    "print('MAE ' + str(mean_absolute_error(groud_truth_descaled, pred_descaled)))\n",
    "print('MAPE ' + str(mean_absolute_percentage_error(groud_truth_descaled, pred_descaled)))\n",
    "print('R^2 ' + str(r2_score(groud_truth_descaled, pred_descaled)))"
   ]
  },
  {
   "cell_type": "markdown",
   "id": "5d608b61-894d-4356-8d5d-fc6fcf6c7e15",
   "metadata": {},
   "source": [
    "## Lets look at the metrics for all lookaheads"
   ]
  },
  {
   "cell_type": "code",
   "execution_count": 41,
   "id": "0a6b47ef-fdc3-4cfa-a782-60dcedca811e",
   "metadata": {},
   "outputs": [],
   "source": [
    "#Create Training Examples for all lookaheads\n",
    "resample_rate = '5T'\n",
    "start_date='2021-11-26 00:00:00'\n",
    "end_date='2022-01-26 23:55:00' \n",
    "inputs = ['min_gas_price', 'max_gas_price', 'min_gas_price_24hr_lag']\n",
    "#No of timesteps behind to forecast on, no of timesteps to forecast ahead\n",
    "n_steps_in = 2016\n",
    "n_steps_out = 1\n",
    "#How many timesteps between start of training examples\n",
    "step_interval = 1\n",
    "n_step_lookahead = 1"
   ]
  },
  {
   "cell_type": "code",
   "execution_count": 42,
   "id": "d32266b4-d9bb-41db-822b-a8fc195fab5c",
   "metadata": {},
   "outputs": [],
   "source": [
    "def descale_y_retrun_metrics():\n",
    "    pred_descaled= (scaler.inverse_transform(array([yhat,]*(len(inputs))).transpose()[0]))[:, :1]\n",
    "    groud_truth_descaled= (scaler.inverse_transform(array([y_val,]*(len(inputs))).transpose()[0][0]))[ :, :1]\n",
    "    RMSE = mean_squared_error(groud_truth_descaled, pred_descaled, squared=False)\n",
    "    MAE = mean_absolute_error(groud_truth_descaled, pred_descaled)\n",
    "    MAPE = mean_absolute_percentage_error(groud_truth_descaled, pred_descaled)\n",
    "    R2 = r2_score(groud_truth_descaled, pred_descaled)\n",
    "    return RMSE, MAE, MAPE, R2"
   ]
  },
  {
   "cell_type": "code",
   "execution_count": 43,
   "id": "00c7eec4-f54d-40e7-8073-5886cc372ed8",
   "metadata": {},
   "outputs": [
    {
     "name": "stdout",
     "output_type": "stream",
     "text": [
      "146/146 [==============================] - 11s 72ms/step\n",
      "146/146 [==============================] - 11s 71ms/step\n",
      "146/146 [==============================] - 10s 69ms/step\n",
      "146/146 [==============================] - 11s 69ms/step\n",
      "146/146 [==============================] - 11s 69ms/step\n",
      "146/146 [==============================] - 11s 70ms/step\n",
      "146/146 [==============================] - 11s 70ms/step\n",
      "146/146 [==============================] - 12s 79ms/step\n",
      "146/146 [==============================] - 11s 70ms/step\n",
      "146/146 [==============================] - 11s 70ms/step\n",
      "146/146 [==============================] - 11s 69ms/step\n",
      "146/146 [==============================] - 11s 69ms/step\n",
      "146/146 [==============================] - 11s 69ms/step\n",
      "146/146 [==============================] - 11s 70ms/step\n",
      "146/146 [==============================] - 11s 72ms/step\n",
      "146/146 [==============================] - 11s 70ms/step\n",
      "146/146 [==============================] - 11s 69ms/step\n",
      "146/146 [==============================] - 11s 71ms/step\n"
     ]
    }
   ],
   "source": [
    "RMSE_list, MAE_list, MAPE_list, R2_list = [],[],[],[]\n",
    "for i in range(1,19):\n",
    "    n_step_lookahead = i\n",
    "    model = keras.models.load_model('Direct_Multivariate_Ensemble, n_outputs=2/' + str(i) +'_step_lookahead_Direct_Multivariate' )\n",
    "    X_train, y_train, X_val, y_val = generate_training_val_examples()\n",
    "    yhat = model.predict(X_val, verbose=1)\n",
    "    RMSE, MAE, MAPE, R2 = descale_y_retrun_metrics()\n",
    "    RMSE_list.append(RMSE)\n",
    "    MAE_list.append(MAE)\n",
    "    MAPE_list.append(MAPE)\n",
    "    R2_list.append(R2)"
   ]
  },
  {
   "cell_type": "code",
   "execution_count": 66,
   "id": "ea954a30-88d3-4161-945f-9a651cc87ff3",
   "metadata": {},
   "outputs": [],
   "source": [
    "metrics_df = pd.DataFrame({'RMSE':RMSE_list, 'MAE':MAE_list, 'MAPE':MAPE_list, 'R2':R2_list}, index=range(1,19))\n",
    "\n"
   ]
  },
  {
   "cell_type": "code",
   "execution_count": 69,
   "id": "c07b8f41-f7f0-4319-b8e3-b02ba37eaf67",
   "metadata": {},
   "outputs": [
    {
     "data": {
      "text/html": [
       "<div>\n",
       "<style scoped>\n",
       "    .dataframe tbody tr th:only-of-type {\n",
       "        vertical-align: middle;\n",
       "    }\n",
       "\n",
       "    .dataframe tbody tr th {\n",
       "        vertical-align: top;\n",
       "    }\n",
       "\n",
       "    .dataframe thead th {\n",
       "        text-align: right;\n",
       "    }\n",
       "</style>\n",
       "<table border=\"1\" class=\"dataframe\">\n",
       "  <thead>\n",
       "    <tr style=\"text-align: right;\">\n",
       "      <th></th>\n",
       "      <th>RMSE</th>\n",
       "      <th>MAE</th>\n",
       "      <th>MAPE</th>\n",
       "      <th>R2</th>\n",
       "    </tr>\n",
       "  </thead>\n",
       "  <tbody>\n",
       "    <tr>\n",
       "      <th>1</th>\n",
       "      <td>40.010990</td>\n",
       "      <td>20.479509</td>\n",
       "      <td>0.136001</td>\n",
       "      <td>0.620312</td>\n",
       "    </tr>\n",
       "    <tr>\n",
       "      <th>2</th>\n",
       "      <td>47.448273</td>\n",
       "      <td>22.187009</td>\n",
       "      <td>0.132042</td>\n",
       "      <td>0.465890</td>\n",
       "    </tr>\n",
       "    <tr>\n",
       "      <th>3</th>\n",
       "      <td>51.360398</td>\n",
       "      <td>24.063766</td>\n",
       "      <td>0.138877</td>\n",
       "      <td>0.374184</td>\n",
       "    </tr>\n",
       "    <tr>\n",
       "      <th>4</th>\n",
       "      <td>52.655225</td>\n",
       "      <td>25.581707</td>\n",
       "      <td>0.149679</td>\n",
       "      <td>0.342232</td>\n",
       "    </tr>\n",
       "    <tr>\n",
       "      <th>5</th>\n",
       "      <td>53.643002</td>\n",
       "      <td>26.285319</td>\n",
       "      <td>0.153511</td>\n",
       "      <td>0.317322</td>\n",
       "    </tr>\n",
       "    <tr>\n",
       "      <th>6</th>\n",
       "      <td>54.062641</td>\n",
       "      <td>26.322812</td>\n",
       "      <td>0.155712</td>\n",
       "      <td>0.306515</td>\n",
       "    </tr>\n",
       "    <tr>\n",
       "      <th>7</th>\n",
       "      <td>54.386774</td>\n",
       "      <td>31.138754</td>\n",
       "      <td>0.207382</td>\n",
       "      <td>0.298175</td>\n",
       "    </tr>\n",
       "    <tr>\n",
       "      <th>8</th>\n",
       "      <td>54.778342</td>\n",
       "      <td>27.115286</td>\n",
       "      <td>0.160259</td>\n",
       "      <td>0.288032</td>\n",
       "    </tr>\n",
       "    <tr>\n",
       "      <th>9</th>\n",
       "      <td>55.305759</td>\n",
       "      <td>28.072282</td>\n",
       "      <td>0.166182</td>\n",
       "      <td>0.274077</td>\n",
       "    </tr>\n",
       "    <tr>\n",
       "      <th>10</th>\n",
       "      <td>54.772861</td>\n",
       "      <td>29.049142</td>\n",
       "      <td>0.182524</td>\n",
       "      <td>0.287999</td>\n",
       "    </tr>\n",
       "    <tr>\n",
       "      <th>11</th>\n",
       "      <td>56.454972</td>\n",
       "      <td>28.505337</td>\n",
       "      <td>0.168744</td>\n",
       "      <td>0.243595</td>\n",
       "    </tr>\n",
       "    <tr>\n",
       "      <th>12</th>\n",
       "      <td>55.602649</td>\n",
       "      <td>28.903824</td>\n",
       "      <td>0.177479</td>\n",
       "      <td>0.266332</td>\n",
       "    </tr>\n",
       "    <tr>\n",
       "      <th>13</th>\n",
       "      <td>55.951099</td>\n",
       "      <td>29.430167</td>\n",
       "      <td>0.180627</td>\n",
       "      <td>0.257108</td>\n",
       "    </tr>\n",
       "    <tr>\n",
       "      <th>14</th>\n",
       "      <td>56.881457</td>\n",
       "      <td>29.679736</td>\n",
       "      <td>0.178222</td>\n",
       "      <td>0.232196</td>\n",
       "    </tr>\n",
       "    <tr>\n",
       "      <th>15</th>\n",
       "      <td>58.687745</td>\n",
       "      <td>29.992091</td>\n",
       "      <td>0.171829</td>\n",
       "      <td>0.182658</td>\n",
       "    </tr>\n",
       "    <tr>\n",
       "      <th>16</th>\n",
       "      <td>58.562514</td>\n",
       "      <td>29.926557</td>\n",
       "      <td>0.173411</td>\n",
       "      <td>0.186155</td>\n",
       "    </tr>\n",
       "    <tr>\n",
       "      <th>17</th>\n",
       "      <td>58.744039</td>\n",
       "      <td>30.255223</td>\n",
       "      <td>0.176603</td>\n",
       "      <td>0.181102</td>\n",
       "    </tr>\n",
       "    <tr>\n",
       "      <th>18</th>\n",
       "      <td>58.185904</td>\n",
       "      <td>30.187519</td>\n",
       "      <td>0.178688</td>\n",
       "      <td>0.196589</td>\n",
       "    </tr>\n",
       "  </tbody>\n",
       "</table>\n",
       "</div>"
      ],
      "text/plain": [
       "         RMSE        MAE      MAPE        R2\n",
       "1   40.010990  20.479509  0.136001  0.620312\n",
       "2   47.448273  22.187009  0.132042  0.465890\n",
       "3   51.360398  24.063766  0.138877  0.374184\n",
       "4   52.655225  25.581707  0.149679  0.342232\n",
       "5   53.643002  26.285319  0.153511  0.317322\n",
       "6   54.062641  26.322812  0.155712  0.306515\n",
       "7   54.386774  31.138754  0.207382  0.298175\n",
       "8   54.778342  27.115286  0.160259  0.288032\n",
       "9   55.305759  28.072282  0.166182  0.274077\n",
       "10  54.772861  29.049142  0.182524  0.287999\n",
       "11  56.454972  28.505337  0.168744  0.243595\n",
       "12  55.602649  28.903824  0.177479  0.266332\n",
       "13  55.951099  29.430167  0.180627  0.257108\n",
       "14  56.881457  29.679736  0.178222  0.232196\n",
       "15  58.687745  29.992091  0.171829  0.182658\n",
       "16  58.562514  29.926557  0.173411  0.186155\n",
       "17  58.744039  30.255223  0.176603  0.181102\n",
       "18  58.185904  30.187519  0.178688  0.196589"
      ]
     },
     "execution_count": 69,
     "metadata": {},
     "output_type": "execute_result"
    }
   ],
   "source": [
    "metrics_df"
   ]
  },
  {
   "cell_type": "code",
   "execution_count": 68,
   "id": "6ff139dc-a807-43c8-996c-0bb9958ec3b3",
   "metadata": {},
   "outputs": [],
   "source": [
    "metrics_df.to_csv('Direct_Multistep_Multivariate_Metrics.csv')"
   ]
  },
  {
   "cell_type": "code",
   "execution_count": 64,
   "id": "4929b91a-8d59-4921-9b03-f049f38e28eb",
   "metadata": {},
   "outputs": [
    {
     "ename": "AttributeError",
     "evalue": "module 'os' has no attribute 'cwd'",
     "output_type": "error",
     "traceback": [
      "\u001b[1;31m---------------------------------------------------------------------------\u001b[0m",
      "\u001b[1;31mAttributeError\u001b[0m                            Traceback (most recent call last)",
      "\u001b[1;32m~\\AppData\\Local\\Temp/ipykernel_16312/4175391176.py\u001b[0m in \u001b[0;36m<module>\u001b[1;34m\u001b[0m\n\u001b[0;32m      1\u001b[0m \u001b[1;32mimport\u001b[0m \u001b[0mos\u001b[0m\u001b[1;33m\u001b[0m\u001b[1;33m\u001b[0m\u001b[0m\n\u001b[1;32m----> 2\u001b[1;33m \u001b[0mos\u001b[0m\u001b[1;33m.\u001b[0m\u001b[0mcwd\u001b[0m\u001b[1;33m\u001b[0m\u001b[1;33m\u001b[0m\u001b[0m\n\u001b[0m",
      "\u001b[1;31mAttributeError\u001b[0m: module 'os' has no attribute 'cwd'"
     ]
    }
   ],
   "source": [
    "import os\n",
    "os.cwd"
   ]
  },
  {
   "cell_type": "code",
   "execution_count": 65,
   "id": "9bb9d593-bbdc-45d8-9256-eba509fb5055",
   "metadata": {},
   "outputs": [
    {
     "data": {
      "text/plain": [
       "'C:\\\\Users\\\\conal\\\\Desktop\\\\MCM\\\\Practicum\\\\NOTEBOOKS\\\\ML Models'"
      ]
     },
     "execution_count": 65,
     "metadata": {},
     "output_type": "execute_result"
    }
   ],
   "source": [
    "os.getcwd()"
   ]
  },
  {
   "cell_type": "code",
   "execution_count": null,
   "id": "12af3f0f-b149-4553-b690-6aca3891d266",
   "metadata": {},
   "outputs": [],
   "source": []
  }
 ],
 "metadata": {
  "kernelspec": {
   "display_name": "Python 3 (ipykernel)",
   "language": "python",
   "name": "python3"
  },
  "language_info": {
   "codemirror_mode": {
    "name": "ipython",
    "version": 3
   },
   "file_extension": ".py",
   "mimetype": "text/x-python",
   "name": "python",
   "nbconvert_exporter": "python",
   "pygments_lexer": "ipython3",
   "version": "3.9.7"
  }
 },
 "nbformat": 4,
 "nbformat_minor": 5
}
