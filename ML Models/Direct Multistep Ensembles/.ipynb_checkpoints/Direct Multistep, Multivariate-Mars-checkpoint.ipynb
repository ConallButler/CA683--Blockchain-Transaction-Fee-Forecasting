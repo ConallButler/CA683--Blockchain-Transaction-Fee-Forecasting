{
 "cells": [
  {
   "cell_type": "markdown",
   "id": "ed254beb-b30d-40dd-b1ab-1675290adaa0",
   "metadata": {},
   "source": [
    "# Direct Multistep Ensemble, Multivarite"
   ]
  },
  {
   "cell_type": "markdown",
   "id": "273cf8a4-056b-49a8-8123-cc15d8f2f71b",
   "metadata": {},
   "source": [
    "We are training a seperate model for each timestep in the lookahead window"
   ]
  },
  {
   "cell_type": "code",
   "execution_count": 20,
   "id": "2243fdcb-c389-4556-be27-9373234fc591",
   "metadata": {},
   "outputs": [],
   "source": [
    "import pandas as pd\n",
    "import numpy as np\n",
    "from numpy import array\n",
    "from numpy import mean\n",
    "from numpy import std\n",
    "from tensorflow import keras\n",
    "from keras import optimizers\n",
    "from keras.models import Sequential\n",
    "from tensorflow.keras.layers import LSTM\n",
    "from keras.layers import Dense\n",
    "import matplotlib.pyplot as plt\n",
    "from keras.layers import TimeDistributed\n",
    "from sklearn.preprocessing import MinMaxScaler"
   ]
  },
  {
   "cell_type": "code",
   "execution_count": 12,
   "id": "fd68e3ae-22e3-43af-b5e2-abdca3c87420",
   "metadata": {},
   "outputs": [],
   "source": [
    "def split_sequence(sequence, n_steps_in, n_steps_out, step_interval, n_step_lookahead):\n",
    "    X, y = list(), list()\n",
    "    example_count = int((len(sequence)/step_interval))\n",
    "    for i in range(example_count):\n",
    "        # find the end of this pattern\n",
    "        end_ix = (i*step_interval) + n_steps_in\n",
    "        out_start_ix = end_ix + n_step_lookahead -1\n",
    "        out_end_ix = end_ix + n_steps_out + n_step_lookahead -1\n",
    "        # check if we are beyond the sequence\n",
    "        if out_end_ix > len(sequence):\n",
    "            break\n",
    "        # gather input and output parts of the pattern\n",
    "        seq_x, seq_y = sequence[(i*step_interval):end_ix], sequence[out_start_ix:out_end_ix]\n",
    "        X.append(seq_x)\n",
    "        y.append(seq_y)\n",
    "    return array(X), array(y)"
   ]
  },
  {
   "cell_type": "code",
   "execution_count": 13,
   "id": "479cb03e-33f8-4df8-afe6-82b2351713ed",
   "metadata": {},
   "outputs": [
    {
     "data": {
      "text/plain": [
       "(array([[0, 1, 2, 3, 4],\n",
       "        [1, 2, 3, 4, 5],\n",
       "        [2, 3, 4, 5, 6],\n",
       "        [3, 4, 5, 6, 7]]),\n",
       " array([[ 9],\n",
       "        [10],\n",
       "        [11],\n",
       "        [12]]))"
      ]
     },
     "execution_count": 13,
     "metadata": {},
     "output_type": "execute_result"
    }
   ],
   "source": [
    "#To demonstrate above function\n",
    "sequence = range(0,13)\n",
    "n_steps_in = 1\n",
    "n_steps_in = 5\n",
    "n_steps_out =1\n",
    "step_interval =1\n",
    "n_step_lookahead=5\n",
    "split_sequence(sequence, n_steps_in, n_steps_out, step_interval, n_step_lookahead)"
   ]
  },
  {
   "cell_type": "markdown",
   "id": "9123a9bf",
   "metadata": {},
   "source": [
    "Load data, datetime to index, downsample with left edge label, convert wei to gwei"
   ]
  },
  {
   "cell_type": "code",
   "execution_count": 7,
   "id": "ac449a8e",
   "metadata": {},
   "outputs": [],
   "source": [
    "def generate_training_val_examples():\n",
    "    #Load data as float, datetime to index\n",
    "    data = pd.read_csv (r'C:\\Users\\conal\\Desktop\\MCM\\Practicum\\data\\ETH,gas,usage merged 11-26 to 01-26.csv', header=0)\n",
    "    data['datetime'] = pd.to_datetime(data['datetime'], format = '%Y-%m-%d %H:%M:%S')\n",
    "    data = data.set_index('datetime')\n",
    "    data = data.squeeze()\n",
    "    data = data.astype('float')\n",
    "\n",
    "    #Resample with left edge label i.e min 1-5 mean labelled as min1\n",
    "    data = data.resample(resample_rate).mean()\n",
    "\n",
    "    #Add 24hr lag for min gas price\n",
    "    data['min_gas_price_24hr_lag'] = data['min_gas_price'].shift(288)\n",
    "    data = data[288:]\n",
    "    \n",
    "     #Filter inputs, set outlier limit\n",
    "    data =data[inputs]\n",
    "    data_mean, data_std = mean(data[\"min_gas_price\"]), std(data[\"min_gas_price\"])\n",
    "    cut_off = data_std * 2\n",
    "    lower, upper = data_mean - cut_off, data_mean + cut_off\n",
    "    for index,row in data.iterrows():\n",
    "      if row[\"min_gas_price\"] < lower:\n",
    "        row[\"min_gas_price\"]=lower\n",
    "      elif row[\"min_gas_price\"] > upper:\n",
    "        row[\"min_gas_price\"]=upper\n",
    "\n",
    "\n",
    "    #Filter inputs\n",
    "    data =data[inputs]\n",
    "    scaler = MinMaxScaler()\n",
    "    data[inputs] = scaler.fit_transform(data[inputs])\n",
    "    \n",
    "\n",
    "    #Creat input:output examples\n",
    "    data = data[start_date:end_date].to_numpy()\n",
    "    X, y = split_sequence(data, n_steps_in, n_steps_out, step_interval, n_step_lookahead)\n",
    "    y = y[:, :, :1]\n",
    "    X_train, X_val = np.split(X, [int(0.7 * len(X))])\n",
    "    #we are only lookign to forecast the min gas price\n",
    "    y_train, y_val = np.split(y, [int(0.7 * len(X))])\n",
    "\n",
    "    \n",
    "    #Reshape to 3D for LSTM\n",
    "    X_train = X_train.reshape((X_train.shape[0], X_train.shape[1], len(inputs)))\n",
    "    y_train =y_train.reshape((y_train.shape[0], y_train.shape[1], 1))\n",
    "    X_val = X_val.reshape((X_val.shape[0], X_val.shape[1], len(inputs)))\n",
    "    y_val = y_val.reshape((y_val.shape[0], y_val.shape[1], 1))\n",
    "    return X_train, y_train, X_val, y_val, scaler\n",
    "\n"
   ]
  },
  {
   "cell_type": "code",
   "execution_count": 26,
   "id": "91096ce8-9b72-4eca-ba56-e19e1c096906",
   "metadata": {},
   "outputs": [],
   "source": [
    "def generate_training_val_examples_no_limits():\n",
    "    #Load data as float, datetime to index\n",
    "    data = pd.read_csv (r'C:\\Users\\conal\\Desktop\\MCM\\Practicum\\data\\ETH,gas,usage merged 11-26 to 01-26.csv', header=0)\n",
    "    data['datetime'] = pd.to_datetime(data['datetime'], format = '%Y-%m-%d %H:%M:%S')\n",
    "    data = data.set_index('datetime')\n",
    "    data = data.squeeze()\n",
    "    data = data.astype('float')\n",
    "\n",
    "    #Resample with left edge label i.e min 1-5 mean labelled as min1\n",
    "    data = data.resample(resample_rate).mean()\n",
    "\n",
    "    #Add 24hr lag for min gas price\n",
    "    data['min_gas_price_24hr_lag'] = data['min_gas_price'].shift(288)\n",
    "    data = data[288:]\n",
    "\n",
    "\n",
    "    #Filter inputs\n",
    "    data =data[inputs]\n",
    "    scaler = MinMaxScaler()\n",
    "    data[inputs] = scaler.fit_transform(data[inputs])\n",
    "    \n",
    "\n",
    "    #Creat input:output examples\n",
    "    data = data[start_date:end_date].to_numpy()\n",
    "    X, y = split_sequence(data, n_steps_in, n_steps_out, step_interval, n_step_lookahead)\n",
    "    y = y[:, :, :1]\n",
    "    X_train, X_val = np.split(X, [int(0.7 * len(X))])\n",
    "    #we are only lookign to forecast the min gas price\n",
    "    y_train, y_val = np.split(y, [int(0.7 * len(X))])\n",
    "\n",
    "    \n",
    "    #Reshape to 3D for LSTM\n",
    "    X_train = X_train.reshape((X_train.shape[0], X_train.shape[1], len(inputs)))\n",
    "    y_train =y_train.reshape((y_train.shape[0], y_train.shape[1], 1))\n",
    "    X_val = X_val.reshape((X_val.shape[0], X_val.shape[1], len(inputs)))\n",
    "    y_val = y_val.reshape((y_val.shape[0], y_val.shape[1], 1))\n",
    "    return X_train, y_train, X_val, y_val, scaler"
   ]
  },
  {
   "cell_type": "code",
   "execution_count": 32,
   "id": "727d55b9-45af-4ac5-86a5-4293143824ef",
   "metadata": {},
   "outputs": [],
   "source": [
    "#Create Training Examples for all lookaheads\n",
    "resample_rate = '5T'\n",
    "start_date='2021-11-26 00:00:00'\n",
    "end_date='2022-01-26 23:55:00' \n",
    "inputs = ['min_gas_price', 'max_gas_price', 'min_gas_price_24hr_lag', 'Open']\n",
    "#No of timesteps behind to forecast on, no of timesteps to forecast ahead\n",
    "n_steps_in = 2016\n",
    "n_steps_out = 1\n",
    "#How many timesteps between start of training examples\n",
    "step_interval = 1\n",
    "n_step_lookahead = 1"
   ]
  },
  {
   "cell_type": "code",
   "execution_count": 33,
   "id": "03b32bee-4d0c-4b4a-88d7-558531d9bd2c",
   "metadata": {},
   "outputs": [],
   "source": [
    "X_train, y_train, X_val, y_val, scaler = generate_training_val_examples()"
   ]
  },
  {
   "cell_type": "code",
   "execution_count": 34,
   "id": "6ab98f52-903c-454f-a844-a52e332e4126",
   "metadata": {},
   "outputs": [],
   "source": [
    "X_train2, y_train2, X_val2, y_val2, scaler2 = generate_training_val_examples()"
   ]
  },
  {
   "cell_type": "code",
   "execution_count": 36,
   "id": "f07cd239",
   "metadata": {
    "tags": []
   },
   "outputs": [
    {
     "name": "stdout",
     "output_type": "stream",
     "text": [
      "Epoch 1/30\n",
      "341/341 [==============================] - 21s 56ms/step - loss: 0.0146 - val_loss: 0.0116\n",
      "Epoch 2/30\n",
      "341/341 [==============================] - 19s 55ms/step - loss: 0.0080 - val_loss: 0.0101\n",
      "Epoch 3/30\n",
      "341/341 [==============================] - 19s 57ms/step - loss: 0.0072 - val_loss: 0.0093\n",
      "Epoch 4/30\n",
      "341/341 [==============================] - 19s 54ms/step - loss: 0.0069 - val_loss: 0.0090\n",
      "Epoch 5/30\n",
      "341/341 [==============================] - 18s 54ms/step - loss: 0.0068 - val_loss: 0.0090\n",
      "Epoch 6/30\n",
      "341/341 [==============================] - 21s 61ms/step - loss: 0.0068 - val_loss: 0.0088\n",
      "Epoch 7/30\n",
      "341/341 [==============================] - 21s 62ms/step - loss: 0.0067 - val_loss: 0.0091\n",
      "Epoch 8/30\n",
      "341/341 [==============================] - 22s 65ms/step - loss: 0.0067 - val_loss: 0.0088\n",
      "Epoch 9/30\n",
      "341/341 [==============================] - 22s 64ms/step - loss: 0.0066 - val_loss: 0.0093\n",
      "Epoch 10/30\n",
      "341/341 [==============================] - 20s 58ms/step - loss: 0.0064 - val_loss: 0.0089\n",
      "Epoch 11/30\n",
      "341/341 [==============================] - 19s 54ms/step - loss: 0.0066 - val_loss: 0.0088\n",
      "Epoch 12/30\n",
      "341/341 [==============================] - 18s 54ms/step - loss: 0.0064 - val_loss: 0.0097\n",
      "Epoch 13/30\n",
      "341/341 [==============================] - 18s 54ms/step - loss: 0.0064 - val_loss: 0.0088\n",
      "Epoch 14/30\n",
      "341/341 [==============================] - 18s 54ms/step - loss: 0.0064 - val_loss: 0.0088\n",
      "Epoch 15/30\n",
      "341/341 [==============================] - 18s 54ms/step - loss: 0.0064 - val_loss: 0.0088\n",
      "Epoch 16/30\n",
      "341/341 [==============================] - 18s 54ms/step - loss: 0.0065 - val_loss: 0.0090\n",
      "Epoch 17/30\n",
      "341/341 [==============================] - 18s 54ms/step - loss: 0.0062 - val_loss: 0.0087\n",
      "Epoch 18/30\n",
      "341/341 [==============================] - 18s 54ms/step - loss: 0.0063 - val_loss: 0.0089\n",
      "Epoch 19/30\n",
      "341/341 [==============================] - 19s 55ms/step - loss: 0.0064 - val_loss: 0.0088\n",
      "Epoch 20/30\n",
      "341/341 [==============================] - 18s 54ms/step - loss: 0.0064 - val_loss: 0.0090\n",
      "Epoch 21/30\n",
      "341/341 [==============================] - 19s 55ms/step - loss: 0.0063 - val_loss: 0.0088\n",
      "Epoch 22/30\n",
      "341/341 [==============================] - 19s 55ms/step - loss: 0.0062 - val_loss: 0.0088\n",
      "Epoch 23/30\n",
      "341/341 [==============================] - 20s 58ms/step - loss: 0.0062 - val_loss: 0.0088\n",
      "Epoch 24/30\n",
      "341/341 [==============================] - 20s 58ms/step - loss: 0.0061 - val_loss: 0.0087\n",
      "Epoch 25/30\n",
      "341/341 [==============================] - 20s 59ms/step - loss: 0.0061 - val_loss: 0.0088\n",
      "Epoch 26/30\n",
      "341/341 [==============================] - 19s 55ms/step - loss: 0.0061 - val_loss: 0.0090\n",
      "Epoch 27/30\n",
      "341/341 [==============================] - 18s 54ms/step - loss: 0.0062 - val_loss: 0.0089\n",
      "Epoch 28/30\n",
      "341/341 [==============================] - 18s 54ms/step - loss: 0.0062 - val_loss: 0.0087\n",
      "Epoch 29/30\n",
      "341/341 [==============================] - 18s 54ms/step - loss: 0.0062 - val_loss: 0.0088\n",
      "Epoch 30/30\n",
      "341/341 [==============================] - 18s 53ms/step - loss: 0.0061 - val_loss: 0.0090\n"
     ]
    },
    {
     "name": "stderr",
     "output_type": "stream",
     "text": [
      "WARNING:absl:Found untraced functions such as lstm_cell_5_layer_call_fn, lstm_cell_5_layer_call_and_return_conditional_losses while saving (showing 2 of 2). These functions will not be directly callable after loading.\n"
     ]
    },
    {
     "name": "stdout",
     "output_type": "stream",
     "text": [
      "INFO:tensorflow:Assets written to: Direct_Multivariate_Ensemble, n_outputs=1, mars/1_step_lookahead_Direct_Multivariate\\assets\n"
     ]
    },
    {
     "name": "stderr",
     "output_type": "stream",
     "text": [
      "INFO:tensorflow:Assets written to: Direct_Multivariate_Ensemble, n_outputs=1, mars/1_step_lookahead_Direct_Multivariate\\assets\n",
      "WARNING:absl:<keras.layers.recurrent.LSTMCell object at 0x000001D31A7486D0> has the same name 'LSTMCell' as a built-in Keras object. Consider renaming <class 'keras.layers.recurrent.LSTMCell'> to avoid naming conflicts when loading with `tf.keras.models.load_model`. If renaming is not possible, pass the object in the `custom_objects` parameter of the load function.\n"
     ]
    },
    {
     "name": "stdout",
     "output_type": "stream",
     "text": [
      "Epoch 1/30\n",
      "341/341 [==============================] - 21s 55ms/step - loss: 0.0145 - val_loss: 0.0148\n",
      "Epoch 2/30\n",
      "341/341 [==============================] - 18s 53ms/step - loss: 0.0108 - val_loss: 0.0139\n",
      "Epoch 3/30\n",
      "341/341 [==============================] - 18s 53ms/step - loss: 0.0104 - val_loss: 0.0136\n",
      "Epoch 4/30\n",
      "341/341 [==============================] - 18s 53ms/step - loss: 0.0103 - val_loss: 0.0136\n",
      "Epoch 5/30\n",
      "341/341 [==============================] - 18s 52ms/step - loss: 0.0103 - val_loss: 0.0143\n",
      "Epoch 6/30\n",
      "341/341 [==============================] - 18s 53ms/step - loss: 0.0100 - val_loss: 0.0136\n",
      "Epoch 7/30\n",
      "341/341 [==============================] - 18s 52ms/step - loss: 0.0100 - val_loss: 0.0146\n",
      "Epoch 8/30\n",
      "341/341 [==============================] - 18s 53ms/step - loss: 0.0101 - val_loss: 0.0135\n",
      "Epoch 9/30\n",
      "341/341 [==============================] - 18s 53ms/step - loss: 0.0100 - val_loss: 0.0136\n",
      "Epoch 10/30\n",
      "341/341 [==============================] - 18s 53ms/step - loss: 0.0100 - val_loss: 0.0139\n",
      "Epoch 11/30\n",
      "341/341 [==============================] - 18s 54ms/step - loss: 0.0100 - val_loss: 0.0134\n",
      "Epoch 12/30\n",
      "341/341 [==============================] - 18s 53ms/step - loss: 0.0099 - val_loss: 0.0134\n",
      "Epoch 13/30\n",
      "341/341 [==============================] - 18s 53ms/step - loss: 0.0100 - val_loss: 0.0135\n",
      "Epoch 14/30\n",
      "341/341 [==============================] - 18s 53ms/step - loss: 0.0101 - val_loss: 0.0135\n",
      "Epoch 15/30\n",
      "341/341 [==============================] - 18s 53ms/step - loss: 0.0099 - val_loss: 0.0136\n",
      "Epoch 16/30\n",
      "341/341 [==============================] - 18s 53ms/step - loss: 0.0100 - val_loss: 0.0135\n",
      "Epoch 17/30\n",
      "341/341 [==============================] - 18s 53ms/step - loss: 0.0101 - val_loss: 0.0151\n",
      "Epoch 18/30\n",
      "341/341 [==============================] - 18s 52ms/step - loss: 0.0099 - val_loss: 0.0137\n",
      "Epoch 19/30\n",
      "341/341 [==============================] - 18s 53ms/step - loss: 0.0098 - val_loss: 0.0137\n",
      "Epoch 20/30\n",
      "341/341 [==============================] - 18s 53ms/step - loss: 0.0099 - val_loss: 0.0138\n",
      "Epoch 21/30\n",
      "341/341 [==============================] - 18s 53ms/step - loss: 0.0098 - val_loss: 0.0137\n",
      "Epoch 22/30\n",
      "341/341 [==============================] - 18s 53ms/step - loss: 0.0099 - val_loss: 0.0135\n",
      "Epoch 23/30\n",
      "341/341 [==============================] - 18s 52ms/step - loss: 0.0099 - val_loss: 0.0156\n",
      "Epoch 24/30\n",
      "341/341 [==============================] - 18s 52ms/step - loss: 0.0099 - val_loss: 0.0136\n",
      "Epoch 25/30\n",
      "341/341 [==============================] - 18s 53ms/step - loss: 0.0099 - val_loss: 0.0139\n",
      "Epoch 26/30\n",
      "341/341 [==============================] - 18s 53ms/step - loss: 0.0098 - val_loss: 0.0143\n",
      "Epoch 27/30\n",
      "341/341 [==============================] - 18s 53ms/step - loss: 0.0098 - val_loss: 0.0139\n",
      "Epoch 28/30\n",
      "341/341 [==============================] - 19s 56ms/step - loss: 0.0098 - val_loss: 0.0135\n",
      "Epoch 29/30\n",
      "341/341 [==============================] - 22s 65ms/step - loss: 0.0099 - val_loss: 0.0142\n",
      "Epoch 30/30\n",
      "341/341 [==============================] - 21s 63ms/step - loss: 0.0099 - val_loss: 0.0141\n"
     ]
    },
    {
     "name": "stderr",
     "output_type": "stream",
     "text": [
      "WARNING:absl:Found untraced functions such as lstm_cell_6_layer_call_fn, lstm_cell_6_layer_call_and_return_conditional_losses while saving (showing 2 of 2). These functions will not be directly callable after loading.\n"
     ]
    },
    {
     "name": "stdout",
     "output_type": "stream",
     "text": [
      "INFO:tensorflow:Assets written to: Direct_Multivariate_Ensemble, n_outputs=1, mars/2_step_lookahead_Direct_Multivariate\\assets\n"
     ]
    },
    {
     "name": "stderr",
     "output_type": "stream",
     "text": [
      "INFO:tensorflow:Assets written to: Direct_Multivariate_Ensemble, n_outputs=1, mars/2_step_lookahead_Direct_Multivariate\\assets\n",
      "WARNING:absl:<keras.layers.recurrent.LSTMCell object at 0x000001D3079A4670> has the same name 'LSTMCell' as a built-in Keras object. Consider renaming <class 'keras.layers.recurrent.LSTMCell'> to avoid naming conflicts when loading with `tf.keras.models.load_model`. If renaming is not possible, pass the object in the `custom_objects` parameter of the load function.\n"
     ]
    },
    {
     "name": "stdout",
     "output_type": "stream",
     "text": [
      "Epoch 1/30\n",
      "341/341 [==============================] - 26s 69ms/step - loss: 0.0243 - val_loss: 0.0177\n",
      "Epoch 2/30\n",
      "341/341 [==============================] - 22s 66ms/step - loss: 0.0132 - val_loss: 0.0169\n",
      "Epoch 3/30\n",
      "341/341 [==============================] - 22s 65ms/step - loss: 0.0128 - val_loss: 0.0165\n",
      "Epoch 4/30\n",
      "341/341 [==============================] - 22s 65ms/step - loss: 0.0124 - val_loss: 0.0163\n",
      "Epoch 5/30\n",
      "341/341 [==============================] - 22s 65ms/step - loss: 0.0123 - val_loss: 0.0161\n",
      "Epoch 6/30\n",
      "341/341 [==============================] - 21s 61ms/step - loss: 0.0121 - val_loss: 0.0160\n",
      "Epoch 7/30\n",
      "341/341 [==============================] - 18s 53ms/step - loss: 0.0121 - val_loss: 0.0159\n",
      "Epoch 8/30\n",
      "341/341 [==============================] - 18s 53ms/step - loss: 0.0121 - val_loss: 0.0161\n",
      "Epoch 9/30\n",
      "341/341 [==============================] - 18s 53ms/step - loss: 0.0121 - val_loss: 0.0161\n",
      "Epoch 10/30\n",
      "341/341 [==============================] - 18s 53ms/step - loss: 0.0120 - val_loss: 0.0167\n",
      "Epoch 11/30\n",
      "341/341 [==============================] - 18s 53ms/step - loss: 0.0120 - val_loss: 0.0165\n",
      "Epoch 12/30\n",
      "341/341 [==============================] - 18s 53ms/step - loss: 0.0121 - val_loss: 0.0163\n",
      "Epoch 13/30\n",
      "341/341 [==============================] - 18s 53ms/step - loss: 0.0120 - val_loss: 0.0159\n",
      "Epoch 14/30\n",
      "341/341 [==============================] - 18s 53ms/step - loss: 0.0120 - val_loss: 0.0160\n",
      "Epoch 15/30\n",
      "341/341 [==============================] - 18s 52ms/step - loss: 0.0120 - val_loss: 0.0171\n",
      "Epoch 16/30\n",
      "341/341 [==============================] - 18s 53ms/step - loss: 0.0119 - val_loss: 0.0161\n",
      "Epoch 17/30\n",
      "341/341 [==============================] - 18s 52ms/step - loss: 0.0119 - val_loss: 0.0163\n",
      "Epoch 18/30\n",
      "341/341 [==============================] - 18s 53ms/step - loss: 0.0120 - val_loss: 0.0163\n",
      "Epoch 19/30\n",
      "341/341 [==============================] - 18s 53ms/step - loss: 0.0119 - val_loss: 0.0166\n",
      "Epoch 20/30\n",
      "341/341 [==============================] - 18s 53ms/step - loss: 0.0120 - val_loss: 0.0160\n",
      "Epoch 21/30\n",
      "341/341 [==============================] - 18s 52ms/step - loss: 0.0118 - val_loss: 0.0167\n",
      "Epoch 22/30\n",
      "341/341 [==============================] - 18s 53ms/step - loss: 0.0118 - val_loss: 0.0163\n",
      "Epoch 23/30\n",
      "341/341 [==============================] - 18s 52ms/step - loss: 0.0119 - val_loss: 0.0164\n",
      "Epoch 24/30\n",
      "341/341 [==============================] - 18s 53ms/step - loss: 0.0118 - val_loss: 0.0167\n",
      "Epoch 25/30\n",
      "341/341 [==============================] - 18s 52ms/step - loss: 0.0118 - val_loss: 0.0179\n",
      "Epoch 26/30\n",
      "341/341 [==============================] - 18s 53ms/step - loss: 0.0117 - val_loss: 0.0162\n",
      "Epoch 27/30\n",
      "341/341 [==============================] - 18s 53ms/step - loss: 0.0117 - val_loss: 0.0172\n",
      "Epoch 28/30\n",
      "341/341 [==============================] - 18s 53ms/step - loss: 0.0118 - val_loss: 0.0161\n",
      "Epoch 29/30\n",
      "341/341 [==============================] - 18s 53ms/step - loss: 0.0118 - val_loss: 0.0169\n",
      "Epoch 30/30\n",
      "341/341 [==============================] - 18s 53ms/step - loss: 0.0117 - val_loss: 0.0164\n"
     ]
    },
    {
     "name": "stderr",
     "output_type": "stream",
     "text": [
      "WARNING:absl:Found untraced functions such as lstm_cell_7_layer_call_fn, lstm_cell_7_layer_call_and_return_conditional_losses while saving (showing 2 of 2). These functions will not be directly callable after loading.\n"
     ]
    },
    {
     "name": "stdout",
     "output_type": "stream",
     "text": [
      "INFO:tensorflow:Assets written to: Direct_Multivariate_Ensemble, n_outputs=1, mars/3_step_lookahead_Direct_Multivariate\\assets\n"
     ]
    },
    {
     "name": "stderr",
     "output_type": "stream",
     "text": [
      "INFO:tensorflow:Assets written to: Direct_Multivariate_Ensemble, n_outputs=1, mars/3_step_lookahead_Direct_Multivariate\\assets\n",
      "WARNING:absl:<keras.layers.recurrent.LSTMCell object at 0x000001D376921CD0> has the same name 'LSTMCell' as a built-in Keras object. Consider renaming <class 'keras.layers.recurrent.LSTMCell'> to avoid naming conflicts when loading with `tf.keras.models.load_model`. If renaming is not possible, pass the object in the `custom_objects` parameter of the load function.\n"
     ]
    },
    {
     "name": "stdout",
     "output_type": "stream",
     "text": [
      "Epoch 1/30\n",
      "341/341 [==============================] - 21s 55ms/step - loss: 0.0316 - val_loss: 0.0238\n",
      "Epoch 2/30\n",
      "341/341 [==============================] - 18s 53ms/step - loss: 0.0139 - val_loss: 0.0192\n",
      "Epoch 3/30\n",
      "341/341 [==============================] - 18s 52ms/step - loss: 0.0137 - val_loss: 0.0188\n",
      "Epoch 4/30\n",
      "341/341 [==============================] - 18s 53ms/step - loss: 0.0136 - val_loss: 0.0184\n",
      "Epoch 5/30\n",
      "341/341 [==============================] - 18s 53ms/step - loss: 0.0134 - val_loss: 0.0184\n",
      "Epoch 6/30\n",
      "341/341 [==============================] - 18s 52ms/step - loss: 0.0136 - val_loss: 0.0184\n",
      "Epoch 7/30\n",
      "341/341 [==============================] - 18s 52ms/step - loss: 0.0134 - val_loss: 0.0202\n",
      "Epoch 8/30\n",
      "341/341 [==============================] - 18s 52ms/step - loss: 0.0134 - val_loss: 0.0194\n",
      "Epoch 9/30\n",
      "341/341 [==============================] - 18s 53ms/step - loss: 0.0134 - val_loss: 0.0186\n",
      "Epoch 10/30\n",
      "341/341 [==============================] - 18s 52ms/step - loss: 0.0133 - val_loss: 0.0210\n",
      "Epoch 11/30\n",
      "341/341 [==============================] - 18s 52ms/step - loss: 0.0134 - val_loss: 0.0181\n",
      "Epoch 12/30\n",
      "341/341 [==============================] - 18s 53ms/step - loss: 0.0133 - val_loss: 0.0218\n",
      "Epoch 13/30\n",
      "341/341 [==============================] - 18s 52ms/step - loss: 0.0133 - val_loss: 0.0194\n",
      "Epoch 14/30\n",
      "341/341 [==============================] - 18s 52ms/step - loss: 0.0132 - val_loss: 0.0184\n",
      "Epoch 15/30\n",
      "341/341 [==============================] - 18s 52ms/step - loss: 0.0132 - val_loss: 0.0197\n",
      "Epoch 16/30\n",
      "341/341 [==============================] - 18s 53ms/step - loss: 0.0132 - val_loss: 0.0204\n",
      "Epoch 17/30\n",
      "341/341 [==============================] - 18s 52ms/step - loss: 0.0131 - val_loss: 0.0187\n",
      "Epoch 18/30\n",
      "341/341 [==============================] - 18s 53ms/step - loss: 0.0131 - val_loss: 0.0196\n",
      "Epoch 19/30\n",
      "341/341 [==============================] - 18s 53ms/step - loss: 0.0132 - val_loss: 0.0193\n",
      "Epoch 20/30\n",
      "341/341 [==============================] - 18s 53ms/step - loss: 0.0131 - val_loss: 0.0259\n",
      "Epoch 21/30\n",
      "341/341 [==============================] - 18s 52ms/step - loss: 0.0131 - val_loss: 0.0196\n",
      "Epoch 22/30\n",
      "341/341 [==============================] - 18s 52ms/step - loss: 0.0132 - val_loss: 0.0193\n",
      "Epoch 23/30\n",
      "341/341 [==============================] - 18s 52ms/step - loss: 0.0132 - val_loss: 0.0196\n",
      "Epoch 24/30\n",
      "341/341 [==============================] - 18s 53ms/step - loss: 0.0131 - val_loss: 0.0183\n",
      "Epoch 25/30\n",
      "341/341 [==============================] - 18s 52ms/step - loss: 0.0130 - val_loss: 0.0183\n",
      "Epoch 26/30\n",
      "341/341 [==============================] - 18s 54ms/step - loss: 0.0130 - val_loss: 0.0192\n",
      "Epoch 27/30\n",
      "341/341 [==============================] - 18s 52ms/step - loss: 0.0130 - val_loss: 0.0199\n",
      "Epoch 28/30\n",
      "341/341 [==============================] - 18s 52ms/step - loss: 0.0130 - val_loss: 0.0191\n",
      "Epoch 29/30\n",
      "341/341 [==============================] - 18s 52ms/step - loss: 0.0131 - val_loss: 0.0215\n",
      "Epoch 30/30\n",
      "341/341 [==============================] - 18s 52ms/step - loss: 0.0130 - val_loss: 0.0181\n"
     ]
    },
    {
     "name": "stderr",
     "output_type": "stream",
     "text": [
      "WARNING:absl:Found untraced functions such as lstm_cell_8_layer_call_fn, lstm_cell_8_layer_call_and_return_conditional_losses while saving (showing 2 of 2). These functions will not be directly callable after loading.\n"
     ]
    },
    {
     "name": "stdout",
     "output_type": "stream",
     "text": [
      "INFO:tensorflow:Assets written to: Direct_Multivariate_Ensemble, n_outputs=1, mars/4_step_lookahead_Direct_Multivariate\\assets\n"
     ]
    },
    {
     "name": "stderr",
     "output_type": "stream",
     "text": [
      "INFO:tensorflow:Assets written to: Direct_Multivariate_Ensemble, n_outputs=1, mars/4_step_lookahead_Direct_Multivariate\\assets\n",
      "WARNING:absl:<keras.layers.recurrent.LSTMCell object at 0x000001D3356C9CA0> has the same name 'LSTMCell' as a built-in Keras object. Consider renaming <class 'keras.layers.recurrent.LSTMCell'> to avoid naming conflicts when loading with `tf.keras.models.load_model`. If renaming is not possible, pass the object in the `custom_objects` parameter of the load function.\n"
     ]
    },
    {
     "name": "stdout",
     "output_type": "stream",
     "text": [
      "Epoch 1/30\n",
      "341/341 [==============================] - 21s 55ms/step - loss: 0.0192 - val_loss: 0.0218\n",
      "Epoch 2/30\n",
      "341/341 [==============================] - 18s 53ms/step - loss: 0.0146 - val_loss: 0.0187\n",
      "Epoch 3/30\n",
      "341/341 [==============================] - 18s 53ms/step - loss: 0.0144 - val_loss: 0.0191\n",
      "Epoch 4/30\n",
      "341/341 [==============================] - 18s 53ms/step - loss: 0.0144 - val_loss: 0.0189\n",
      "Epoch 5/30\n",
      "341/341 [==============================] - 18s 53ms/step - loss: 0.0142 - val_loss: 0.0201\n",
      "Epoch 6/30\n",
      "341/341 [==============================] - 18s 53ms/step - loss: 0.0142 - val_loss: 0.0199\n",
      "Epoch 7/30\n",
      "341/341 [==============================] - 18s 53ms/step - loss: 0.0142 - val_loss: 0.0189\n",
      "Epoch 8/30\n",
      "341/341 [==============================] - 18s 53ms/step - loss: 0.0141 - val_loss: 0.0196\n",
      "Epoch 9/30\n",
      "341/341 [==============================] - 18s 53ms/step - loss: 0.0141 - val_loss: 0.0191\n",
      "Epoch 10/30\n",
      "341/341 [==============================] - 18s 53ms/step - loss: 0.0141 - val_loss: 0.0200\n",
      "Epoch 11/30\n",
      "341/341 [==============================] - 18s 53ms/step - loss: 0.0140 - val_loss: 0.0190\n",
      "Epoch 12/30\n",
      "341/341 [==============================] - 18s 53ms/step - loss: 0.0140 - val_loss: 0.0199\n",
      "Epoch 13/30\n",
      "341/341 [==============================] - 18s 52ms/step - loss: 0.0140 - val_loss: 0.0197\n",
      "Epoch 14/30\n",
      "341/341 [==============================] - 18s 53ms/step - loss: 0.0140 - val_loss: 0.0194\n",
      "Epoch 15/30\n",
      "341/341 [==============================] - 18s 53ms/step - loss: 0.0139 - val_loss: 0.0201\n",
      "Epoch 16/30\n",
      "341/341 [==============================] - 18s 53ms/step - loss: 0.0140 - val_loss: 0.0200\n",
      "Epoch 17/30\n",
      "341/341 [==============================] - 18s 52ms/step - loss: 0.0139 - val_loss: 0.0216\n",
      "Epoch 18/30\n",
      "341/341 [==============================] - 18s 53ms/step - loss: 0.0140 - val_loss: 0.0209\n",
      "Epoch 19/30\n",
      "341/341 [==============================] - 18s 52ms/step - loss: 0.0139 - val_loss: 0.0202\n",
      "Epoch 20/30\n",
      "341/341 [==============================] - 18s 53ms/step - loss: 0.0140 - val_loss: 0.0228\n",
      "Epoch 21/30\n",
      "341/341 [==============================] - 18s 53ms/step - loss: 0.0139 - val_loss: 0.0197\n",
      "Epoch 22/30\n",
      "341/341 [==============================] - 18s 53ms/step - loss: 0.0140 - val_loss: 0.0201\n",
      "Epoch 23/30\n",
      "341/341 [==============================] - 18s 54ms/step - loss: 0.0140 - val_loss: 0.0197\n",
      "Epoch 24/30\n",
      "341/341 [==============================] - 18s 53ms/step - loss: 0.0139 - val_loss: 0.0197\n",
      "Epoch 25/30\n",
      "341/341 [==============================] - 18s 53ms/step - loss: 0.0138 - val_loss: 0.0195\n",
      "Epoch 26/30\n",
      "341/341 [==============================] - 18s 52ms/step - loss: 0.0138 - val_loss: 0.0206\n",
      "Epoch 27/30\n",
      "341/341 [==============================] - 19s 55ms/step - loss: 0.0139 - val_loss: 0.0206\n",
      "Epoch 28/30\n",
      "341/341 [==============================] - 18s 53ms/step - loss: 0.0139 - val_loss: 0.0194\n",
      "Epoch 29/30\n",
      "341/341 [==============================] - 18s 53ms/step - loss: 0.0138 - val_loss: 0.0220\n",
      "Epoch 30/30\n",
      "341/341 [==============================] - 18s 53ms/step - loss: 0.0138 - val_loss: 0.0199\n"
     ]
    },
    {
     "name": "stderr",
     "output_type": "stream",
     "text": [
      "WARNING:absl:Found untraced functions such as lstm_cell_9_layer_call_fn, lstm_cell_9_layer_call_and_return_conditional_losses while saving (showing 2 of 2). These functions will not be directly callable after loading.\n"
     ]
    },
    {
     "name": "stdout",
     "output_type": "stream",
     "text": [
      "INFO:tensorflow:Assets written to: Direct_Multivariate_Ensemble, n_outputs=1, mars/5_step_lookahead_Direct_Multivariate\\assets\n"
     ]
    },
    {
     "name": "stderr",
     "output_type": "stream",
     "text": [
      "INFO:tensorflow:Assets written to: Direct_Multivariate_Ensemble, n_outputs=1, mars/5_step_lookahead_Direct_Multivariate\\assets\n",
      "WARNING:absl:<keras.layers.recurrent.LSTMCell object at 0x000001D3344E8820> has the same name 'LSTMCell' as a built-in Keras object. Consider renaming <class 'keras.layers.recurrent.LSTMCell'> to avoid naming conflicts when loading with `tf.keras.models.load_model`. If renaming is not possible, pass the object in the `custom_objects` parameter of the load function.\n"
     ]
    },
    {
     "name": "stdout",
     "output_type": "stream",
     "text": [
      "Epoch 1/30\n",
      "341/341 [==============================] - 21s 54ms/step - loss: 0.0304 - val_loss: 0.0210\n",
      "Epoch 2/30\n",
      "341/341 [==============================] - 18s 53ms/step - loss: 0.0152 - val_loss: 0.0198\n",
      "Epoch 3/30\n",
      "341/341 [==============================] - 18s 53ms/step - loss: 0.0150 - val_loss: 0.0198\n",
      "Epoch 4/30\n",
      "341/341 [==============================] - 18s 53ms/step - loss: 0.0148 - val_loss: 0.0198\n",
      "Epoch 5/30\n",
      "341/341 [==============================] - 18s 53ms/step - loss: 0.0147 - val_loss: 0.0200\n",
      "Epoch 6/30\n",
      "341/341 [==============================] - 18s 52ms/step - loss: 0.0148 - val_loss: 0.0201\n",
      "Epoch 7/30\n",
      "341/341 [==============================] - 18s 52ms/step - loss: 0.0147 - val_loss: 0.0201\n",
      "Epoch 8/30\n",
      "341/341 [==============================] - 18s 52ms/step - loss: 0.0146 - val_loss: 0.0214\n",
      "Epoch 9/30\n",
      "341/341 [==============================] - 18s 52ms/step - loss: 0.0146 - val_loss: 0.0210\n",
      "Epoch 10/30\n",
      "341/341 [==============================] - 18s 52ms/step - loss: 0.0146 - val_loss: 0.0228\n",
      "Epoch 11/30\n",
      "341/341 [==============================] - 18s 52ms/step - loss: 0.0144 - val_loss: 0.0225\n",
      "Epoch 12/30\n",
      "341/341 [==============================] - 18s 53ms/step - loss: 0.0146 - val_loss: 0.0238\n",
      "Epoch 13/30\n",
      "341/341 [==============================] - 18s 53ms/step - loss: 0.0145 - val_loss: 0.0208\n",
      "Epoch 14/30\n",
      "341/341 [==============================] - 18s 53ms/step - loss: 0.0144 - val_loss: 0.0212\n",
      "Epoch 15/30\n",
      "341/341 [==============================] - 18s 53ms/step - loss: 0.0145 - val_loss: 0.0211\n",
      "Epoch 16/30\n",
      "341/341 [==============================] - 18s 52ms/step - loss: 0.0144 - val_loss: 0.0210\n",
      "Epoch 17/30\n",
      "341/341 [==============================] - 18s 53ms/step - loss: 0.0144 - val_loss: 0.0214\n",
      "Epoch 18/30\n",
      "341/341 [==============================] - 18s 52ms/step - loss: 0.0145 - val_loss: 0.0230\n",
      "Epoch 19/30\n",
      "341/341 [==============================] - 18s 52ms/step - loss: 0.0143 - val_loss: 0.0209\n",
      "Epoch 20/30\n",
      "341/341 [==============================] - 18s 52ms/step - loss: 0.0143 - val_loss: 0.0203\n",
      "Epoch 21/30\n",
      "341/341 [==============================] - 18s 52ms/step - loss: 0.0143 - val_loss: 0.0229\n",
      "Epoch 22/30\n",
      "341/341 [==============================] - 18s 52ms/step - loss: 0.0143 - val_loss: 0.0203\n",
      "Epoch 23/30\n",
      "341/341 [==============================] - 18s 52ms/step - loss: 0.0142 - val_loss: 0.0218\n",
      "Epoch 24/30\n",
      "341/341 [==============================] - 18s 53ms/step - loss: 0.0143 - val_loss: 0.0221\n",
      "Epoch 25/30\n",
      "341/341 [==============================] - 18s 53ms/step - loss: 0.0142 - val_loss: 0.0227\n",
      "Epoch 26/30\n",
      "341/341 [==============================] - 18s 52ms/step - loss: 0.0143 - val_loss: 0.0213\n",
      "Epoch 27/30\n",
      "341/341 [==============================] - 18s 52ms/step - loss: 0.0143 - val_loss: 0.0213\n",
      "Epoch 28/30\n",
      "341/341 [==============================] - 18s 52ms/step - loss: 0.0142 - val_loss: 0.0224\n",
      "Epoch 29/30\n",
      "341/341 [==============================] - 18s 53ms/step - loss: 0.0141 - val_loss: 0.0231\n",
      "Epoch 30/30\n",
      "341/341 [==============================] - 18s 52ms/step - loss: 0.0141 - val_loss: 0.0216\n"
     ]
    },
    {
     "name": "stderr",
     "output_type": "stream",
     "text": [
      "WARNING:absl:Found untraced functions such as lstm_cell_10_layer_call_fn, lstm_cell_10_layer_call_and_return_conditional_losses while saving (showing 2 of 2). These functions will not be directly callable after loading.\n"
     ]
    },
    {
     "name": "stdout",
     "output_type": "stream",
     "text": [
      "INFO:tensorflow:Assets written to: Direct_Multivariate_Ensemble, n_outputs=1, mars/6_step_lookahead_Direct_Multivariate\\assets\n"
     ]
    },
    {
     "name": "stderr",
     "output_type": "stream",
     "text": [
      "INFO:tensorflow:Assets written to: Direct_Multivariate_Ensemble, n_outputs=1, mars/6_step_lookahead_Direct_Multivariate\\assets\n",
      "WARNING:absl:<keras.layers.recurrent.LSTMCell object at 0x000001D3309EA130> has the same name 'LSTMCell' as a built-in Keras object. Consider renaming <class 'keras.layers.recurrent.LSTMCell'> to avoid naming conflicts when loading with `tf.keras.models.load_model`. If renaming is not possible, pass the object in the `custom_objects` parameter of the load function.\n"
     ]
    },
    {
     "name": "stdout",
     "output_type": "stream",
     "text": [
      "Epoch 1/30\n",
      "341/341 [==============================] - 21s 55ms/step - loss: 0.0211 - val_loss: 0.0210\n",
      "Epoch 2/30\n",
      "341/341 [==============================] - 18s 53ms/step - loss: 0.0157 - val_loss: 0.0210\n",
      "Epoch 3/30\n",
      "341/341 [==============================] - 18s 53ms/step - loss: 0.0155 - val_loss: 0.0219\n",
      "Epoch 4/30\n",
      "341/341 [==============================] - 18s 53ms/step - loss: 0.0156 - val_loss: 0.0211\n",
      "Epoch 5/30\n",
      "341/341 [==============================] - 18s 53ms/step - loss: 0.0154 - val_loss: 0.0214\n",
      "Epoch 6/30\n",
      "341/341 [==============================] - 18s 53ms/step - loss: 0.0154 - val_loss: 0.0224\n",
      "Epoch 7/30\n",
      "341/341 [==============================] - 18s 53ms/step - loss: 0.0153 - val_loss: 0.0236\n",
      "Epoch 8/30\n",
      "341/341 [==============================] - 18s 53ms/step - loss: 0.0153 - val_loss: 0.0211\n",
      "Epoch 9/30\n",
      "341/341 [==============================] - 18s 52ms/step - loss: 0.0153 - val_loss: 0.0250\n",
      "Epoch 10/30\n",
      "341/341 [==============================] - 18s 53ms/step - loss: 0.0153 - val_loss: 0.0221\n",
      "Epoch 11/30\n",
      "341/341 [==============================] - 18s 53ms/step - loss: 0.0153 - val_loss: 0.0215\n",
      "Epoch 12/30\n",
      "341/341 [==============================] - 18s 53ms/step - loss: 0.0152 - val_loss: 0.0250\n",
      "Epoch 13/30\n",
      "341/341 [==============================] - 18s 53ms/step - loss: 0.0153 - val_loss: 0.0216\n",
      "Epoch 14/30\n",
      "341/341 [==============================] - 18s 53ms/step - loss: 0.0153 - val_loss: 0.0215\n",
      "Epoch 15/30\n",
      "341/341 [==============================] - 18s 53ms/step - loss: 0.0153 - val_loss: 0.0247\n",
      "Epoch 16/30\n",
      "341/341 [==============================] - 18s 53ms/step - loss: 0.0154 - val_loss: 0.0218\n",
      "Epoch 17/30\n",
      "341/341 [==============================] - 18s 53ms/step - loss: 0.0150 - val_loss: 0.0220\n",
      "Epoch 18/30\n",
      "341/341 [==============================] - 18s 53ms/step - loss: 0.0151 - val_loss: 0.0221\n",
      "Epoch 19/30\n",
      "341/341 [==============================] - 18s 53ms/step - loss: 0.0151 - val_loss: 0.0212\n",
      "Epoch 20/30\n",
      "341/341 [==============================] - 18s 53ms/step - loss: 0.0150 - val_loss: 0.0222\n",
      "Epoch 21/30\n",
      "341/341 [==============================] - 18s 53ms/step - loss: 0.0150 - val_loss: 0.0216\n",
      "Epoch 22/30\n",
      "341/341 [==============================] - 18s 53ms/step - loss: 0.0150 - val_loss: 0.0212\n",
      "Epoch 23/30\n",
      "341/341 [==============================] - 18s 53ms/step - loss: 0.0150 - val_loss: 0.0222\n",
      "Epoch 24/30\n",
      "341/341 [==============================] - 18s 53ms/step - loss: 0.0150 - val_loss: 0.0218\n",
      "Epoch 25/30\n",
      "341/341 [==============================] - 18s 53ms/step - loss: 0.0150 - val_loss: 0.0209\n",
      "Epoch 26/30\n",
      "341/341 [==============================] - 18s 53ms/step - loss: 0.0149 - val_loss: 0.0221\n",
      "Epoch 27/30\n",
      "341/341 [==============================] - 18s 53ms/step - loss: 0.0149 - val_loss: 0.0213\n",
      "Epoch 28/30\n",
      "341/341 [==============================] - 18s 53ms/step - loss: 0.0149 - val_loss: 0.0233\n",
      "Epoch 29/30\n",
      "341/341 [==============================] - 18s 53ms/step - loss: 0.0151 - val_loss: 0.0223\n",
      "Epoch 30/30\n",
      "341/341 [==============================] - 18s 53ms/step - loss: 0.0149 - val_loss: 0.0222\n"
     ]
    },
    {
     "name": "stderr",
     "output_type": "stream",
     "text": [
      "WARNING:absl:Found untraced functions such as lstm_cell_11_layer_call_fn, lstm_cell_11_layer_call_and_return_conditional_losses while saving (showing 2 of 2). These functions will not be directly callable after loading.\n"
     ]
    },
    {
     "name": "stdout",
     "output_type": "stream",
     "text": [
      "INFO:tensorflow:Assets written to: Direct_Multivariate_Ensemble, n_outputs=1, mars/7_step_lookahead_Direct_Multivariate\\assets\n"
     ]
    },
    {
     "name": "stderr",
     "output_type": "stream",
     "text": [
      "INFO:tensorflow:Assets written to: Direct_Multivariate_Ensemble, n_outputs=1, mars/7_step_lookahead_Direct_Multivariate\\assets\n",
      "WARNING:absl:<keras.layers.recurrent.LSTMCell object at 0x000001D3348476A0> has the same name 'LSTMCell' as a built-in Keras object. Consider renaming <class 'keras.layers.recurrent.LSTMCell'> to avoid naming conflicts when loading with `tf.keras.models.load_model`. If renaming is not possible, pass the object in the `custom_objects` parameter of the load function.\n"
     ]
    },
    {
     "name": "stdout",
     "output_type": "stream",
     "text": [
      "Epoch 1/30\n",
      "341/341 [==============================] - 21s 55ms/step - loss: 0.0267 - val_loss: 0.0220\n",
      "Epoch 2/30\n",
      "341/341 [==============================] - 18s 53ms/step - loss: 0.0164 - val_loss: 0.0209\n",
      "Epoch 3/30\n",
      "341/341 [==============================] - 18s 53ms/step - loss: 0.0162 - val_loss: 0.0207\n",
      "Epoch 4/30\n",
      "341/341 [==============================] - 18s 53ms/step - loss: 0.0162 - val_loss: 0.0208\n",
      "Epoch 5/30\n",
      "341/341 [==============================] - 18s 53ms/step - loss: 0.0160 - val_loss: 0.0212\n",
      "Epoch 6/30\n",
      "341/341 [==============================] - 18s 53ms/step - loss: 0.0160 - val_loss: 0.0216\n",
      "Epoch 7/30\n",
      "341/341 [==============================] - 18s 53ms/step - loss: 0.0160 - val_loss: 0.0214\n",
      "Epoch 8/30\n",
      "341/341 [==============================] - 18s 53ms/step - loss: 0.0159 - val_loss: 0.0214\n",
      "Epoch 9/30\n",
      "341/341 [==============================] - 18s 53ms/step - loss: 0.0159 - val_loss: 0.0213\n",
      "Epoch 10/30\n",
      "341/341 [==============================] - 18s 53ms/step - loss: 0.0158 - val_loss: 0.0216\n",
      "Epoch 11/30\n",
      "341/341 [==============================] - 18s 53ms/step - loss: 0.0159 - val_loss: 0.0218\n",
      "Epoch 12/30\n",
      "341/341 [==============================] - 18s 53ms/step - loss: 0.0157 - val_loss: 0.0219\n",
      "Epoch 13/30\n",
      "341/341 [==============================] - 18s 53ms/step - loss: 0.0158 - val_loss: 0.0236\n",
      "Epoch 14/30\n",
      "341/341 [==============================] - 18s 52ms/step - loss: 0.0159 - val_loss: 0.0223\n",
      "Epoch 15/30\n",
      "341/341 [==============================] - 18s 53ms/step - loss: 0.0157 - val_loss: 0.0248\n",
      "Epoch 16/30\n",
      "341/341 [==============================] - 18s 53ms/step - loss: 0.0156 - val_loss: 0.0225\n",
      "Epoch 17/30\n",
      "341/341 [==============================] - 18s 52ms/step - loss: 0.0157 - val_loss: 0.0262\n",
      "Epoch 18/30\n",
      "341/341 [==============================] - 18s 52ms/step - loss: 0.0156 - val_loss: 0.0246\n",
      "Epoch 19/30\n",
      "341/341 [==============================] - 18s 53ms/step - loss: 0.0156 - val_loss: 0.0229\n",
      "Epoch 20/30\n",
      "341/341 [==============================] - 18s 53ms/step - loss: 0.0156 - val_loss: 0.0235\n",
      "Epoch 21/30\n",
      "341/341 [==============================] - 18s 53ms/step - loss: 0.0156 - val_loss: 0.0274\n",
      "Epoch 22/30\n",
      "341/341 [==============================] - 18s 52ms/step - loss: 0.0155 - val_loss: 0.0236\n",
      "Epoch 23/30\n",
      "341/341 [==============================] - 18s 53ms/step - loss: 0.0154 - val_loss: 0.0231\n",
      "Epoch 24/30\n",
      "341/341 [==============================] - 18s 53ms/step - loss: 0.0154 - val_loss: 0.0259\n",
      "Epoch 25/30\n",
      "341/341 [==============================] - 18s 53ms/step - loss: 0.0156 - val_loss: 0.0254\n",
      "Epoch 26/30\n",
      "341/341 [==============================] - 18s 53ms/step - loss: 0.0154 - val_loss: 0.0243\n",
      "Epoch 27/30\n",
      "341/341 [==============================] - 18s 52ms/step - loss: 0.0154 - val_loss: 0.0227\n",
      "Epoch 28/30\n",
      "341/341 [==============================] - 18s 52ms/step - loss: 0.0154 - val_loss: 0.0223\n",
      "Epoch 29/30\n",
      "341/341 [==============================] - 18s 53ms/step - loss: 0.0154 - val_loss: 0.0238\n",
      "Epoch 30/30\n",
      "341/341 [==============================] - 18s 53ms/step - loss: 0.0153 - val_loss: 0.0237\n"
     ]
    },
    {
     "name": "stderr",
     "output_type": "stream",
     "text": [
      "WARNING:absl:Found untraced functions such as lstm_cell_12_layer_call_fn, lstm_cell_12_layer_call_and_return_conditional_losses while saving (showing 2 of 2). These functions will not be directly callable after loading.\n"
     ]
    },
    {
     "name": "stdout",
     "output_type": "stream",
     "text": [
      "INFO:tensorflow:Assets written to: Direct_Multivariate_Ensemble, n_outputs=1, mars/8_step_lookahead_Direct_Multivariate\\assets\n"
     ]
    },
    {
     "name": "stderr",
     "output_type": "stream",
     "text": [
      "INFO:tensorflow:Assets written to: Direct_Multivariate_Ensemble, n_outputs=1, mars/8_step_lookahead_Direct_Multivariate\\assets\n",
      "WARNING:absl:<keras.layers.recurrent.LSTMCell object at 0x000001D31A75E2E0> has the same name 'LSTMCell' as a built-in Keras object. Consider renaming <class 'keras.layers.recurrent.LSTMCell'> to avoid naming conflicts when loading with `tf.keras.models.load_model`. If renaming is not possible, pass the object in the `custom_objects` parameter of the load function.\n"
     ]
    },
    {
     "name": "stdout",
     "output_type": "stream",
     "text": [
      "Epoch 1/30\n",
      "340/340 [==============================] - 20s 54ms/step - loss: 0.0180 - val_loss: 0.0211\n",
      "Epoch 2/30\n",
      "340/340 [==============================] - 18s 52ms/step - loss: 0.0165 - val_loss: 0.0211\n",
      "Epoch 3/30\n",
      "340/340 [==============================] - 18s 52ms/step - loss: 0.0164 - val_loss: 0.0230\n",
      "Epoch 4/30\n",
      "340/340 [==============================] - 18s 52ms/step - loss: 0.0163 - val_loss: 0.0218\n",
      "Epoch 5/30\n",
      "340/340 [==============================] - 18s 52ms/step - loss: 0.0163 - val_loss: 0.0245\n",
      "Epoch 6/30\n",
      "340/340 [==============================] - 18s 52ms/step - loss: 0.0162 - val_loss: 0.0217\n",
      "Epoch 7/30\n",
      "340/340 [==============================] - 17s 51ms/step - loss: 0.0162 - val_loss: 0.0233\n",
      "Epoch 8/30\n",
      "340/340 [==============================] - 17s 51ms/step - loss: 0.0162 - val_loss: 0.0222\n",
      "Epoch 9/30\n",
      "340/340 [==============================] - 17s 51ms/step - loss: 0.0162 - val_loss: 0.0232\n",
      "Epoch 10/30\n",
      "340/340 [==============================] - 17s 51ms/step - loss: 0.0160 - val_loss: 0.0224\n",
      "Epoch 11/30\n",
      "340/340 [==============================] - 18s 52ms/step - loss: 0.0162 - val_loss: 0.0260\n",
      "Epoch 12/30\n",
      "340/340 [==============================] - 18s 52ms/step - loss: 0.0161 - val_loss: 0.0272\n",
      "Epoch 13/30\n",
      "340/340 [==============================] - 18s 52ms/step - loss: 0.0161 - val_loss: 0.0231\n",
      "Epoch 14/30\n",
      "340/340 [==============================] - 18s 52ms/step - loss: 0.0162 - val_loss: 0.0266\n",
      "Epoch 15/30\n",
      "340/340 [==============================] - 18s 52ms/step - loss: 0.0161 - val_loss: 0.0250\n",
      "Epoch 16/30\n",
      "340/340 [==============================] - 18s 52ms/step - loss: 0.0160 - val_loss: 0.0232\n",
      "Epoch 17/30\n",
      "340/340 [==============================] - 18s 52ms/step - loss: 0.0162 - val_loss: 0.0242\n",
      "Epoch 18/30\n",
      "340/340 [==============================] - 18s 52ms/step - loss: 0.0161 - val_loss: 0.0228\n",
      "Epoch 19/30\n",
      "340/340 [==============================] - 18s 53ms/step - loss: 0.0161 - val_loss: 0.0229\n",
      "Epoch 20/30\n",
      "340/340 [==============================] - 18s 52ms/step - loss: 0.0160 - val_loss: 0.0227\n",
      "Epoch 21/30\n",
      "340/340 [==============================] - 18s 52ms/step - loss: 0.0160 - val_loss: 0.0242\n",
      "Epoch 22/30\n",
      "340/340 [==============================] - 18s 52ms/step - loss: 0.0160 - val_loss: 0.0256\n",
      "Epoch 23/30\n",
      "340/340 [==============================] - 18s 52ms/step - loss: 0.0160 - val_loss: 0.0236\n",
      "Epoch 24/30\n",
      "340/340 [==============================] - 18s 53ms/step - loss: 0.0160 - val_loss: 0.0239\n",
      "Epoch 25/30\n",
      "340/340 [==============================] - 18s 52ms/step - loss: 0.0159 - val_loss: 0.0243\n",
      "Epoch 26/30\n",
      "340/340 [==============================] - 17s 51ms/step - loss: 0.0159 - val_loss: 0.0234\n",
      "Epoch 27/30\n",
      "340/340 [==============================] - 18s 52ms/step - loss: 0.0158 - val_loss: 0.0227\n",
      "Epoch 28/30\n",
      "340/340 [==============================] - 17s 51ms/step - loss: 0.0158 - val_loss: 0.0272\n",
      "Epoch 29/30\n",
      "340/340 [==============================] - 17s 51ms/step - loss: 0.0159 - val_loss: 0.0236\n",
      "Epoch 30/30\n",
      "340/340 [==============================] - 18s 52ms/step - loss: 0.0158 - val_loss: 0.0263\n"
     ]
    },
    {
     "name": "stderr",
     "output_type": "stream",
     "text": [
      "WARNING:absl:Found untraced functions such as lstm_cell_13_layer_call_fn, lstm_cell_13_layer_call_and_return_conditional_losses while saving (showing 2 of 2). These functions will not be directly callable after loading.\n"
     ]
    },
    {
     "name": "stdout",
     "output_type": "stream",
     "text": [
      "INFO:tensorflow:Assets written to: Direct_Multivariate_Ensemble, n_outputs=1, mars/9_step_lookahead_Direct_Multivariate\\assets\n"
     ]
    },
    {
     "name": "stderr",
     "output_type": "stream",
     "text": [
      "INFO:tensorflow:Assets written to: Direct_Multivariate_Ensemble, n_outputs=1, mars/9_step_lookahead_Direct_Multivariate\\assets\n",
      "WARNING:absl:<keras.layers.recurrent.LSTMCell object at 0x000001D37429AA30> has the same name 'LSTMCell' as a built-in Keras object. Consider renaming <class 'keras.layers.recurrent.LSTMCell'> to avoid naming conflicts when loading with `tf.keras.models.load_model`. If renaming is not possible, pass the object in the `custom_objects` parameter of the load function.\n"
     ]
    },
    {
     "name": "stdout",
     "output_type": "stream",
     "text": [
      "Epoch 1/30\n",
      "340/340 [==============================] - 20s 53ms/step - loss: 0.0171 - val_loss: 0.0220\n",
      "Epoch 2/30\n",
      "340/340 [==============================] - 18s 53ms/step - loss: 0.0168 - val_loss: 0.0222\n",
      "Epoch 3/30\n",
      "340/340 [==============================] - 18s 52ms/step - loss: 0.0167 - val_loss: 0.0239\n",
      "Epoch 4/30\n",
      "340/340 [==============================] - 18s 52ms/step - loss: 0.0165 - val_loss: 0.0234\n",
      "Epoch 5/30\n",
      "340/340 [==============================] - 18s 52ms/step - loss: 0.0165 - val_loss: 0.0249\n",
      "Epoch 6/30\n",
      "340/340 [==============================] - 18s 51ms/step - loss: 0.0165 - val_loss: 0.0244\n",
      "Epoch 7/30\n",
      "340/340 [==============================] - 17s 51ms/step - loss: 0.0165 - val_loss: 0.0249\n",
      "Epoch 8/30\n",
      "340/340 [==============================] - 18s 52ms/step - loss: 0.0165 - val_loss: 0.0265\n",
      "Epoch 9/30\n",
      "340/340 [==============================] - 18s 52ms/step - loss: 0.0164 - val_loss: 0.0295\n",
      "Epoch 10/30\n",
      "340/340 [==============================] - 18s 52ms/step - loss: 0.0164 - val_loss: 0.0264\n",
      "Epoch 11/30\n",
      "340/340 [==============================] - 18s 52ms/step - loss: 0.0163 - val_loss: 0.0271\n",
      "Epoch 12/30\n",
      "340/340 [==============================] - 18s 52ms/step - loss: 0.0164 - val_loss: 0.0246\n",
      "Epoch 13/30\n",
      "340/340 [==============================] - 18s 52ms/step - loss: 0.0163 - val_loss: 0.0254\n",
      "Epoch 14/30\n",
      "340/340 [==============================] - 18s 52ms/step - loss: 0.0164 - val_loss: 0.0307\n",
      "Epoch 15/30\n",
      "340/340 [==============================] - 18s 53ms/step - loss: 0.0163 - val_loss: 0.0276\n",
      "Epoch 16/30\n",
      "340/340 [==============================] - 18s 52ms/step - loss: 0.0163 - val_loss: 0.0252\n",
      "Epoch 17/30\n",
      "340/340 [==============================] - 18s 52ms/step - loss: 0.0162 - val_loss: 0.0270\n",
      "Epoch 18/30\n",
      "340/340 [==============================] - 18s 52ms/step - loss: 0.0162 - val_loss: 0.0249\n",
      "Epoch 19/30\n",
      "340/340 [==============================] - 18s 52ms/step - loss: 0.0161 - val_loss: 0.0245\n",
      "Epoch 20/30\n",
      "340/340 [==============================] - 18s 52ms/step - loss: 0.0161 - val_loss: 0.0258\n",
      "Epoch 21/30\n",
      "340/340 [==============================] - 18s 52ms/step - loss: 0.0161 - val_loss: 0.0262\n",
      "Epoch 22/30\n",
      "340/340 [==============================] - 17s 51ms/step - loss: 0.0161 - val_loss: 0.0242\n",
      "Epoch 23/30\n",
      "340/340 [==============================] - 18s 52ms/step - loss: 0.0160 - val_loss: 0.0254\n",
      "Epoch 24/30\n",
      "340/340 [==============================] - 18s 52ms/step - loss: 0.0159 - val_loss: 0.0233\n",
      "Epoch 25/30\n",
      "340/340 [==============================] - 18s 52ms/step - loss: 0.0160 - val_loss: 0.0239\n",
      "Epoch 26/30\n",
      "340/340 [==============================] - 18s 52ms/step - loss: 0.0159 - val_loss: 0.0223\n",
      "Epoch 27/30\n",
      "340/340 [==============================] - 17s 51ms/step - loss: 0.0160 - val_loss: 0.0226\n",
      "Epoch 28/30\n",
      "340/340 [==============================] - 17s 51ms/step - loss: 0.0158 - val_loss: 0.0244\n",
      "Epoch 29/30\n",
      "340/340 [==============================] - 17s 51ms/step - loss: 0.0158 - val_loss: 0.0226\n",
      "Epoch 30/30\n",
      "340/340 [==============================] - 18s 52ms/step - loss: 0.0158 - val_loss: 0.0226\n"
     ]
    },
    {
     "name": "stderr",
     "output_type": "stream",
     "text": [
      "WARNING:absl:Found untraced functions such as lstm_cell_14_layer_call_fn, lstm_cell_14_layer_call_and_return_conditional_losses while saving (showing 2 of 2). These functions will not be directly callable after loading.\n"
     ]
    },
    {
     "name": "stdout",
     "output_type": "stream",
     "text": [
      "INFO:tensorflow:Assets written to: Direct_Multivariate_Ensemble, n_outputs=1, mars/10_step_lookahead_Direct_Multivariate\\assets\n"
     ]
    },
    {
     "name": "stderr",
     "output_type": "stream",
     "text": [
      "INFO:tensorflow:Assets written to: Direct_Multivariate_Ensemble, n_outputs=1, mars/10_step_lookahead_Direct_Multivariate\\assets\n",
      "WARNING:absl:<keras.layers.recurrent.LSTMCell object at 0x000001D330125160> has the same name 'LSTMCell' as a built-in Keras object. Consider renaming <class 'keras.layers.recurrent.LSTMCell'> to avoid naming conflicts when loading with `tf.keras.models.load_model`. If renaming is not possible, pass the object in the `custom_objects` parameter of the load function.\n"
     ]
    },
    {
     "name": "stdout",
     "output_type": "stream",
     "text": [
      "Epoch 1/30\n",
      "340/340 [==============================] - 21s 55ms/step - loss: 0.0219 - val_loss: 0.0226\n",
      "Epoch 2/30\n",
      "340/340 [==============================] - 18s 53ms/step - loss: 0.0173 - val_loss: 0.0223\n",
      "Epoch 3/30\n",
      "340/340 [==============================] - 18s 53ms/step - loss: 0.0171 - val_loss: 0.0226\n",
      "Epoch 4/30\n",
      "340/340 [==============================] - 18s 53ms/step - loss: 0.0171 - val_loss: 0.0235\n",
      "Epoch 5/30\n",
      "340/340 [==============================] - 18s 52ms/step - loss: 0.0170 - val_loss: 0.0232\n",
      "Epoch 6/30\n",
      "340/340 [==============================] - 18s 52ms/step - loss: 0.0170 - val_loss: 0.0228\n",
      "Epoch 7/30\n",
      "340/340 [==============================] - 18s 53ms/step - loss: 0.0170 - val_loss: 0.0252\n",
      "Epoch 8/30\n",
      "340/340 [==============================] - 18s 52ms/step - loss: 0.0169 - val_loss: 0.0230\n",
      "Epoch 9/30\n",
      "340/340 [==============================] - 18s 53ms/step - loss: 0.0167 - val_loss: 0.0277\n",
      "Epoch 10/30\n",
      "340/340 [==============================] - 18s 53ms/step - loss: 0.0168 - val_loss: 0.0241\n",
      "Epoch 11/30\n",
      "340/340 [==============================] - 18s 53ms/step - loss: 0.0167 - val_loss: 0.0255\n",
      "Epoch 12/30\n",
      "340/340 [==============================] - 18s 53ms/step - loss: 0.0167 - val_loss: 0.0232\n",
      "Epoch 13/30\n",
      "340/340 [==============================] - 18s 53ms/step - loss: 0.0167 - val_loss: 0.0263\n",
      "Epoch 14/30\n",
      "340/340 [==============================] - 18s 52ms/step - loss: 0.0165 - val_loss: 0.0256\n",
      "Epoch 15/30\n",
      "340/340 [==============================] - 18s 53ms/step - loss: 0.0165 - val_loss: 0.0268\n",
      "Epoch 16/30\n",
      "340/340 [==============================] - 18s 53ms/step - loss: 0.0165 - val_loss: 0.0275\n",
      "Epoch 17/30\n",
      "340/340 [==============================] - 18s 52ms/step - loss: 0.0165 - val_loss: 0.0264\n",
      "Epoch 18/30\n",
      "340/340 [==============================] - 18s 53ms/step - loss: 0.0164 - val_loss: 0.0285\n",
      "Epoch 19/30\n",
      "340/340 [==============================] - 18s 53ms/step - loss: 0.0164 - val_loss: 0.0271\n",
      "Epoch 20/30\n",
      "340/340 [==============================] - 18s 52ms/step - loss: 0.0165 - val_loss: 0.0251\n",
      "Epoch 21/30\n",
      "340/340 [==============================] - 18s 52ms/step - loss: 0.0164 - val_loss: 0.0269\n",
      "Epoch 22/30\n",
      "340/340 [==============================] - 18s 53ms/step - loss: 0.0163 - val_loss: 0.0295\n",
      "Epoch 23/30\n",
      "340/340 [==============================] - 18s 53ms/step - loss: 0.0165 - val_loss: 0.0246\n",
      "Epoch 24/30\n",
      "340/340 [==============================] - 18s 52ms/step - loss: 0.0163 - val_loss: 0.0284\n",
      "Epoch 25/30\n",
      "340/340 [==============================] - 18s 52ms/step - loss: 0.0163 - val_loss: 0.0289\n",
      "Epoch 26/30\n",
      "340/340 [==============================] - 18s 53ms/step - loss: 0.0162 - val_loss: 0.0243\n",
      "Epoch 27/30\n",
      "340/340 [==============================] - 18s 53ms/step - loss: 0.0167 - val_loss: 0.0259\n",
      "Epoch 28/30\n",
      "340/340 [==============================] - 18s 53ms/step - loss: 0.0162 - val_loss: 0.0294\n",
      "Epoch 29/30\n",
      "340/340 [==============================] - 18s 53ms/step - loss: 0.0163 - val_loss: 0.0310\n",
      "Epoch 30/30\n",
      "340/340 [==============================] - 18s 53ms/step - loss: 0.0162 - val_loss: 0.0285\n"
     ]
    },
    {
     "name": "stderr",
     "output_type": "stream",
     "text": [
      "WARNING:absl:Found untraced functions such as lstm_cell_15_layer_call_fn, lstm_cell_15_layer_call_and_return_conditional_losses while saving (showing 2 of 2). These functions will not be directly callable after loading.\n"
     ]
    },
    {
     "name": "stdout",
     "output_type": "stream",
     "text": [
      "INFO:tensorflow:Assets written to: Direct_Multivariate_Ensemble, n_outputs=1, mars/11_step_lookahead_Direct_Multivariate\\assets\n"
     ]
    },
    {
     "name": "stderr",
     "output_type": "stream",
     "text": [
      "INFO:tensorflow:Assets written to: Direct_Multivariate_Ensemble, n_outputs=1, mars/11_step_lookahead_Direct_Multivariate\\assets\n",
      "WARNING:absl:<keras.layers.recurrent.LSTMCell object at 0x000001D334C60EB0> has the same name 'LSTMCell' as a built-in Keras object. Consider renaming <class 'keras.layers.recurrent.LSTMCell'> to avoid naming conflicts when loading with `tf.keras.models.load_model`. If renaming is not possible, pass the object in the `custom_objects` parameter of the load function.\n"
     ]
    },
    {
     "name": "stdout",
     "output_type": "stream",
     "text": [
      "Epoch 1/30\n",
      "340/340 [==============================] - 21s 55ms/step - loss: 0.0239 - val_loss: 0.0231\n",
      "Epoch 2/30\n",
      "340/340 [==============================] - 18s 53ms/step - loss: 0.0179 - val_loss: 0.0233\n",
      "Epoch 3/30\n",
      "340/340 [==============================] - 18s 53ms/step - loss: 0.0177 - val_loss: 0.0232\n",
      "Epoch 4/30\n",
      "340/340 [==============================] - 18s 52ms/step - loss: 0.0176 - val_loss: 0.0232\n",
      "Epoch 5/30\n",
      "340/340 [==============================] - 18s 53ms/step - loss: 0.0175 - val_loss: 0.0234\n",
      "Epoch 6/30\n",
      "340/340 [==============================] - 18s 53ms/step - loss: 0.0174 - val_loss: 0.0247\n",
      "Epoch 7/30\n",
      "340/340 [==============================] - 18s 53ms/step - loss: 0.0172 - val_loss: 0.0255\n",
      "Epoch 8/30\n",
      "340/340 [==============================] - 18s 52ms/step - loss: 0.0170 - val_loss: 0.0254\n",
      "Epoch 9/30\n",
      "340/340 [==============================] - 18s 53ms/step - loss: 0.0170 - val_loss: 0.0245\n",
      "Epoch 10/30\n",
      "340/340 [==============================] - 18s 53ms/step - loss: 0.0171 - val_loss: 0.0245\n",
      "Epoch 11/30\n",
      "340/340 [==============================] - 18s 52ms/step - loss: 0.0172 - val_loss: 0.0271\n",
      "Epoch 12/30\n",
      "340/340 [==============================] - 18s 52ms/step - loss: 0.0171 - val_loss: 0.0261\n",
      "Epoch 13/30\n",
      "340/340 [==============================] - 19s 57ms/step - loss: 0.0170 - val_loss: 0.0250\n",
      "Epoch 14/30\n",
      "340/340 [==============================] - 19s 55ms/step - loss: 0.0169 - val_loss: 0.0253\n",
      "Epoch 15/30\n",
      "340/340 [==============================] - 18s 53ms/step - loss: 0.0169 - val_loss: 0.0257\n",
      "Epoch 16/30\n",
      "340/340 [==============================] - 18s 53ms/step - loss: 0.0168 - val_loss: 0.0265\n",
      "Epoch 17/30\n",
      "340/340 [==============================] - 18s 53ms/step - loss: 0.0167 - val_loss: 0.0262\n",
      "Epoch 18/30\n",
      "340/340 [==============================] - 18s 53ms/step - loss: 0.0166 - val_loss: 0.0245\n",
      "Epoch 19/30\n",
      "340/340 [==============================] - 18s 52ms/step - loss: 0.0166 - val_loss: 0.0253\n",
      "Epoch 20/30\n",
      "340/340 [==============================] - 18s 53ms/step - loss: 0.0166 - val_loss: 0.0247\n",
      "Epoch 21/30\n",
      "340/340 [==============================] - 18s 53ms/step - loss: 0.0166 - val_loss: 0.0244\n",
      "Epoch 22/30\n",
      "340/340 [==============================] - 18s 53ms/step - loss: 0.0166 - val_loss: 0.0274\n",
      "Epoch 23/30\n",
      "340/340 [==============================] - 18s 53ms/step - loss: 0.0165 - val_loss: 0.0252\n",
      "Epoch 24/30\n",
      "340/340 [==============================] - 18s 53ms/step - loss: 0.0165 - val_loss: 0.0250\n",
      "Epoch 25/30\n",
      "340/340 [==============================] - 18s 53ms/step - loss: 0.0163 - val_loss: 0.0273\n",
      "Epoch 26/30\n",
      "340/340 [==============================] - 18s 53ms/step - loss: 0.0165 - val_loss: 0.0256\n",
      "Epoch 27/30\n",
      "340/340 [==============================] - 18s 52ms/step - loss: 0.0165 - val_loss: 0.0250\n",
      "Epoch 28/30\n",
      "340/340 [==============================] - 18s 53ms/step - loss: 0.0163 - val_loss: 0.0242\n",
      "Epoch 29/30\n",
      "340/340 [==============================] - 18s 53ms/step - loss: 0.0163 - val_loss: 0.0244\n",
      "Epoch 30/30\n",
      "340/340 [==============================] - 18s 53ms/step - loss: 0.0162 - val_loss: 0.0247\n"
     ]
    },
    {
     "name": "stderr",
     "output_type": "stream",
     "text": [
      "WARNING:absl:Found untraced functions such as lstm_cell_16_layer_call_fn, lstm_cell_16_layer_call_and_return_conditional_losses while saving (showing 2 of 2). These functions will not be directly callable after loading.\n"
     ]
    },
    {
     "name": "stdout",
     "output_type": "stream",
     "text": [
      "INFO:tensorflow:Assets written to: Direct_Multivariate_Ensemble, n_outputs=1, mars/12_step_lookahead_Direct_Multivariate\\assets\n"
     ]
    },
    {
     "name": "stderr",
     "output_type": "stream",
     "text": [
      "INFO:tensorflow:Assets written to: Direct_Multivariate_Ensemble, n_outputs=1, mars/12_step_lookahead_Direct_Multivariate\\assets\n",
      "WARNING:absl:<keras.layers.recurrent.LSTMCell object at 0x000001D2B111C160> has the same name 'LSTMCell' as a built-in Keras object. Consider renaming <class 'keras.layers.recurrent.LSTMCell'> to avoid naming conflicts when loading with `tf.keras.models.load_model`. If renaming is not possible, pass the object in the `custom_objects` parameter of the load function.\n"
     ]
    },
    {
     "name": "stdout",
     "output_type": "stream",
     "text": [
      "Epoch 1/30\n",
      "340/340 [==============================] - 21s 54ms/step - loss: 0.0218 - val_loss: 0.0247\n",
      "Epoch 2/30\n",
      "340/340 [==============================] - 18s 54ms/step - loss: 0.0186 - val_loss: 0.0241\n",
      "Epoch 3/30\n",
      "340/340 [==============================] - 18s 52ms/step - loss: 0.0183 - val_loss: 0.0250\n",
      "Epoch 4/30\n",
      "340/340 [==============================] - 18s 53ms/step - loss: 0.0182 - val_loss: 0.0245\n",
      "Epoch 5/30\n",
      "340/340 [==============================] - 18s 52ms/step - loss: 0.0181 - val_loss: 0.0254\n",
      "Epoch 6/30\n",
      "340/340 [==============================] - 18s 53ms/step - loss: 0.0180 - val_loss: 0.0245\n",
      "Epoch 7/30\n",
      "340/340 [==============================] - 18s 52ms/step - loss: 0.0179 - val_loss: 0.0265\n",
      "Epoch 8/30\n",
      "340/340 [==============================] - 18s 53ms/step - loss: 0.0179 - val_loss: 0.0245\n",
      "Epoch 9/30\n",
      "340/340 [==============================] - 18s 52ms/step - loss: 0.0179 - val_loss: 0.0277\n",
      "Epoch 10/30\n",
      "340/340 [==============================] - 18s 52ms/step - loss: 0.0178 - val_loss: 0.0290\n",
      "Epoch 11/30\n",
      "340/340 [==============================] - 18s 52ms/step - loss: 0.0178 - val_loss: 0.0273\n",
      "Epoch 12/30\n",
      "340/340 [==============================] - 18s 53ms/step - loss: 0.0177 - val_loss: 0.0257\n",
      "Epoch 13/30\n",
      "340/340 [==============================] - 18s 53ms/step - loss: 0.0177 - val_loss: 0.0272\n",
      "Epoch 14/30\n",
      "340/340 [==============================] - 18s 52ms/step - loss: 0.0175 - val_loss: 0.0283\n",
      "Epoch 15/30\n",
      "340/340 [==============================] - 18s 52ms/step - loss: 0.0175 - val_loss: 0.0304\n",
      "Epoch 16/30\n",
      "340/340 [==============================] - 18s 53ms/step - loss: 0.0174 - val_loss: 0.0272\n",
      "Epoch 17/30\n",
      "340/340 [==============================] - 18s 53ms/step - loss: 0.0174 - val_loss: 0.0300\n",
      "Epoch 18/30\n",
      "340/340 [==============================] - 18s 53ms/step - loss: 0.0174 - val_loss: 0.0268\n",
      "Epoch 19/30\n",
      "340/340 [==============================] - 18s 53ms/step - loss: 0.0173 - val_loss: 0.0278\n",
      "Epoch 20/30\n",
      "340/340 [==============================] - 18s 53ms/step - loss: 0.0172 - val_loss: 0.0325\n",
      "Epoch 21/30\n",
      "340/340 [==============================] - 18s 53ms/step - loss: 0.0171 - val_loss: 0.0298\n",
      "Epoch 22/30\n",
      "340/340 [==============================] - 18s 53ms/step - loss: 0.0171 - val_loss: 0.0382\n",
      "Epoch 23/30\n",
      "340/340 [==============================] - 18s 52ms/step - loss: 0.0171 - val_loss: 0.0321\n",
      "Epoch 24/30\n",
      "340/340 [==============================] - 19s 56ms/step - loss: 0.0170 - val_loss: 0.0369\n",
      "Epoch 25/30\n",
      "340/340 [==============================] - 19s 55ms/step - loss: 0.0171 - val_loss: 0.0314\n",
      "Epoch 26/30\n",
      "340/340 [==============================] - 19s 55ms/step - loss: 0.0170 - val_loss: 0.0375\n",
      "Epoch 27/30\n",
      "340/340 [==============================] - 18s 53ms/step - loss: 0.0171 - val_loss: 0.0282\n",
      "Epoch 28/30\n",
      "340/340 [==============================] - 19s 55ms/step - loss: 0.0170 - val_loss: 0.0290\n",
      "Epoch 29/30\n",
      "340/340 [==============================] - 18s 54ms/step - loss: 0.0170 - val_loss: 0.0344\n",
      "Epoch 30/30\n",
      "340/340 [==============================] - 18s 53ms/step - loss: 0.0169 - val_loss: 0.0433\n"
     ]
    },
    {
     "name": "stderr",
     "output_type": "stream",
     "text": [
      "WARNING:absl:Found untraced functions such as lstm_cell_17_layer_call_fn, lstm_cell_17_layer_call_and_return_conditional_losses while saving (showing 2 of 2). These functions will not be directly callable after loading.\n"
     ]
    },
    {
     "name": "stdout",
     "output_type": "stream",
     "text": [
      "INFO:tensorflow:Assets written to: Direct_Multivariate_Ensemble, n_outputs=1, mars/13_step_lookahead_Direct_Multivariate\\assets\n"
     ]
    },
    {
     "name": "stderr",
     "output_type": "stream",
     "text": [
      "INFO:tensorflow:Assets written to: Direct_Multivariate_Ensemble, n_outputs=1, mars/13_step_lookahead_Direct_Multivariate\\assets\n",
      "WARNING:absl:<keras.layers.recurrent.LSTMCell object at 0x000001D375623970> has the same name 'LSTMCell' as a built-in Keras object. Consider renaming <class 'keras.layers.recurrent.LSTMCell'> to avoid naming conflicts when loading with `tf.keras.models.load_model`. If renaming is not possible, pass the object in the `custom_objects` parameter of the load function.\n"
     ]
    },
    {
     "name": "stdout",
     "output_type": "stream",
     "text": [
      "Epoch 1/30\n",
      "340/340 [==============================] - 21s 55ms/step - loss: 0.0240 - val_loss: 0.0239\n",
      "Epoch 2/30\n",
      "340/340 [==============================] - 18s 53ms/step - loss: 0.0188 - val_loss: 0.0242\n",
      "Epoch 3/30\n",
      "340/340 [==============================] - 18s 53ms/step - loss: 0.0187 - val_loss: 0.0249\n",
      "Epoch 4/30\n",
      "340/340 [==============================] - 18s 53ms/step - loss: 0.0186 - val_loss: 0.0273\n",
      "Epoch 5/30\n",
      "340/340 [==============================] - 18s 53ms/step - loss: 0.0185 - val_loss: 0.0263\n",
      "Epoch 6/30\n",
      "340/340 [==============================] - 18s 53ms/step - loss: 0.0185 - val_loss: 0.0253\n",
      "Epoch 7/30\n",
      "340/340 [==============================] - 18s 53ms/step - loss: 0.0183 - val_loss: 0.0292\n",
      "Epoch 8/30\n",
      "340/340 [==============================] - 18s 53ms/step - loss: 0.0184 - val_loss: 0.0290\n",
      "Epoch 9/30\n",
      "340/340 [==============================] - 18s 53ms/step - loss: 0.0182 - val_loss: 0.0288\n",
      "Epoch 10/30\n",
      "340/340 [==============================] - 18s 53ms/step - loss: 0.0182 - val_loss: 0.0269\n",
      "Epoch 11/30\n",
      "340/340 [==============================] - 18s 53ms/step - loss: 0.0183 - val_loss: 0.0285\n",
      "Epoch 12/30\n",
      "340/340 [==============================] - 18s 53ms/step - loss: 0.0181 - val_loss: 0.0386\n",
      "Epoch 13/30\n",
      "340/340 [==============================] - 18s 53ms/step - loss: 0.0181 - val_loss: 0.0371\n",
      "Epoch 14/30\n",
      "340/340 [==============================] - 18s 53ms/step - loss: 0.0180 - val_loss: 0.0304\n",
      "Epoch 15/30\n",
      "340/340 [==============================] - 18s 53ms/step - loss: 0.0181 - val_loss: 0.0283\n",
      "Epoch 16/30\n",
      "340/340 [==============================] - 18s 53ms/step - loss: 0.0179 - val_loss: 0.0275\n",
      "Epoch 17/30\n",
      "340/340 [==============================] - 18s 53ms/step - loss: 0.0179 - val_loss: 0.0279\n",
      "Epoch 18/30\n",
      "340/340 [==============================] - 18s 53ms/step - loss: 0.0179 - val_loss: 0.0280\n",
      "Epoch 19/30\n",
      "340/340 [==============================] - 18s 53ms/step - loss: 0.0178 - val_loss: 0.0288\n",
      "Epoch 20/30\n",
      "340/340 [==============================] - 18s 53ms/step - loss: 0.0178 - val_loss: 0.0279\n",
      "Epoch 21/30\n",
      "340/340 [==============================] - 18s 53ms/step - loss: 0.0177 - val_loss: 0.0256\n",
      "Epoch 22/30\n",
      "340/340 [==============================] - 18s 54ms/step - loss: 0.0177 - val_loss: 0.0259\n",
      "Epoch 23/30\n",
      "340/340 [==============================] - 18s 53ms/step - loss: 0.0178 - val_loss: 0.0283\n",
      "Epoch 24/30\n",
      "340/340 [==============================] - 18s 53ms/step - loss: 0.0178 - val_loss: 0.0267\n",
      "Epoch 25/30\n",
      "340/340 [==============================] - 18s 53ms/step - loss: 0.0178 - val_loss: 0.0294\n",
      "Epoch 26/30\n",
      "340/340 [==============================] - 18s 53ms/step - loss: 0.0176 - val_loss: 0.0272\n",
      "Epoch 27/30\n",
      "340/340 [==============================] - 18s 53ms/step - loss: 0.0177 - val_loss: 0.0276\n",
      "Epoch 28/30\n",
      "340/340 [==============================] - 18s 53ms/step - loss: 0.0177 - val_loss: 0.0264\n",
      "Epoch 29/30\n",
      "340/340 [==============================] - 18s 53ms/step - loss: 0.0177 - val_loss: 0.0258\n",
      "Epoch 30/30\n",
      "340/340 [==============================] - 18s 53ms/step - loss: 0.0177 - val_loss: 0.0274\n"
     ]
    },
    {
     "name": "stderr",
     "output_type": "stream",
     "text": [
      "WARNING:absl:Found untraced functions such as lstm_cell_18_layer_call_fn, lstm_cell_18_layer_call_and_return_conditional_losses while saving (showing 2 of 2). These functions will not be directly callable after loading.\n"
     ]
    },
    {
     "name": "stdout",
     "output_type": "stream",
     "text": [
      "INFO:tensorflow:Assets written to: Direct_Multivariate_Ensemble, n_outputs=1, mars/14_step_lookahead_Direct_Multivariate\\assets\n"
     ]
    },
    {
     "name": "stderr",
     "output_type": "stream",
     "text": [
      "INFO:tensorflow:Assets written to: Direct_Multivariate_Ensemble, n_outputs=1, mars/14_step_lookahead_Direct_Multivariate\\assets\n",
      "WARNING:absl:<keras.layers.recurrent.LSTMCell object at 0x000001D32383ECD0> has the same name 'LSTMCell' as a built-in Keras object. Consider renaming <class 'keras.layers.recurrent.LSTMCell'> to avoid naming conflicts when loading with `tf.keras.models.load_model`. If renaming is not possible, pass the object in the `custom_objects` parameter of the load function.\n"
     ]
    },
    {
     "name": "stdout",
     "output_type": "stream",
     "text": [
      "Epoch 1/30\n",
      "340/340 [==============================] - 23s 62ms/step - loss: 0.0244 - val_loss: 0.0241\n",
      "Epoch 2/30\n",
      "340/340 [==============================] - 19s 55ms/step - loss: 0.0193 - val_loss: 0.0246\n",
      "Epoch 3/30\n",
      "340/340 [==============================] - 18s 54ms/step - loss: 0.0190 - val_loss: 0.0252\n",
      "Epoch 4/30\n",
      "340/340 [==============================] - 18s 54ms/step - loss: 0.0189 - val_loss: 0.0273\n",
      "Epoch 5/30\n",
      "340/340 [==============================] - 18s 54ms/step - loss: 0.0187 - val_loss: 0.0306\n",
      "Epoch 6/30\n",
      "340/340 [==============================] - 18s 54ms/step - loss: 0.0189 - val_loss: 0.0298\n",
      "Epoch 7/30\n",
      "340/340 [==============================] - 18s 54ms/step - loss: 0.0187 - val_loss: 0.0272\n",
      "Epoch 8/30\n",
      "340/340 [==============================] - 18s 54ms/step - loss: 0.0187 - val_loss: 0.0332\n",
      "Epoch 9/30\n",
      "340/340 [==============================] - 18s 53ms/step - loss: 0.0188 - val_loss: 0.0292\n",
      "Epoch 10/30\n",
      "340/340 [==============================] - 18s 54ms/step - loss: 0.0187 - val_loss: 0.0288\n",
      "Epoch 11/30\n",
      "340/340 [==============================] - 18s 54ms/step - loss: 0.0186 - val_loss: 0.0319\n",
      "Epoch 12/30\n",
      "340/340 [==============================] - 18s 54ms/step - loss: 0.0186 - val_loss: 0.0305\n",
      "Epoch 13/30\n",
      "340/340 [==============================] - 18s 54ms/step - loss: 0.0186 - val_loss: 0.0306\n",
      "Epoch 14/30\n",
      "340/340 [==============================] - 18s 54ms/step - loss: 0.0186 - val_loss: 0.0289\n",
      "Epoch 15/30\n",
      "340/340 [==============================] - 18s 54ms/step - loss: 0.0184 - val_loss: 0.0282\n",
      "Epoch 16/30\n",
      "340/340 [==============================] - 19s 55ms/step - loss: 0.0183 - val_loss: 0.0341\n",
      "Epoch 17/30\n",
      "340/340 [==============================] - 18s 54ms/step - loss: 0.0183 - val_loss: 0.0306\n",
      "Epoch 18/30\n",
      "340/340 [==============================] - 18s 54ms/step - loss: 0.0182 - val_loss: 0.0320\n",
      "Epoch 19/30\n",
      "340/340 [==============================] - 18s 54ms/step - loss: 0.0181 - val_loss: 0.0316\n",
      "Epoch 20/30\n",
      "340/340 [==============================] - 18s 54ms/step - loss: 0.0181 - val_loss: 0.0296\n",
      "Epoch 21/30\n",
      "340/340 [==============================] - 18s 54ms/step - loss: 0.0180 - val_loss: 0.0478\n",
      "Epoch 22/30\n",
      "340/340 [==============================] - 18s 54ms/step - loss: 0.0181 - val_loss: 0.0352\n",
      "Epoch 23/30\n",
      "340/340 [==============================] - 18s 54ms/step - loss: 0.0179 - val_loss: 0.0368\n",
      "Epoch 24/30\n",
      "340/340 [==============================] - 18s 53ms/step - loss: 0.0178 - val_loss: 0.0389\n",
      "Epoch 25/30\n",
      "340/340 [==============================] - 18s 54ms/step - loss: 0.0180 - val_loss: 0.0300\n",
      "Epoch 26/30\n",
      "340/340 [==============================] - 18s 54ms/step - loss: 0.0178 - val_loss: 0.0321\n",
      "Epoch 27/30\n",
      "340/340 [==============================] - 18s 53ms/step - loss: 0.0181 - val_loss: 0.0315\n",
      "Epoch 28/30\n",
      "340/340 [==============================] - 18s 54ms/step - loss: 0.0177 - val_loss: 0.0341\n",
      "Epoch 29/30\n",
      "340/340 [==============================] - 18s 54ms/step - loss: 0.0179 - val_loss: 0.0317\n",
      "Epoch 30/30\n",
      "340/340 [==============================] - 18s 54ms/step - loss: 0.0176 - val_loss: 0.0364\n"
     ]
    },
    {
     "name": "stderr",
     "output_type": "stream",
     "text": [
      "WARNING:absl:Found untraced functions such as lstm_cell_19_layer_call_fn, lstm_cell_19_layer_call_and_return_conditional_losses while saving (showing 2 of 2). These functions will not be directly callable after loading.\n"
     ]
    },
    {
     "name": "stdout",
     "output_type": "stream",
     "text": [
      "INFO:tensorflow:Assets written to: Direct_Multivariate_Ensemble, n_outputs=1, mars/15_step_lookahead_Direct_Multivariate\\assets\n"
     ]
    },
    {
     "name": "stderr",
     "output_type": "stream",
     "text": [
      "INFO:tensorflow:Assets written to: Direct_Multivariate_Ensemble, n_outputs=1, mars/15_step_lookahead_Direct_Multivariate\\assets\n",
      "WARNING:absl:<keras.layers.recurrent.LSTMCell object at 0x000001D32FCB9910> has the same name 'LSTMCell' as a built-in Keras object. Consider renaming <class 'keras.layers.recurrent.LSTMCell'> to avoid naming conflicts when loading with `tf.keras.models.load_model`. If renaming is not possible, pass the object in the `custom_objects` parameter of the load function.\n"
     ]
    },
    {
     "name": "stdout",
     "output_type": "stream",
     "text": [
      "Epoch 1/30\n",
      "340/340 [==============================] - 21s 56ms/step - loss: 0.0213 - val_loss: 0.0249\n",
      "Epoch 2/30\n",
      "340/340 [==============================] - 18s 54ms/step - loss: 0.0196 - val_loss: 0.0251\n",
      "Epoch 3/30\n",
      "340/340 [==============================] - 18s 54ms/step - loss: 0.0194 - val_loss: 0.0288\n",
      "Epoch 4/30\n",
      "340/340 [==============================] - 18s 54ms/step - loss: 0.0192 - val_loss: 0.0260\n",
      "Epoch 5/30\n",
      "340/340 [==============================] - 18s 54ms/step - loss: 0.0193 - val_loss: 0.0264\n",
      "Epoch 6/30\n",
      "340/340 [==============================] - 18s 54ms/step - loss: 0.0192 - val_loss: 0.0268\n",
      "Epoch 7/30\n",
      "340/340 [==============================] - 18s 54ms/step - loss: 0.0190 - val_loss: 0.0279\n",
      "Epoch 8/30\n",
      "340/340 [==============================] - 18s 54ms/step - loss: 0.0190 - val_loss: 0.0265\n",
      "Epoch 9/30\n",
      "340/340 [==============================] - 18s 54ms/step - loss: 0.0190 - val_loss: 0.0301\n",
      "Epoch 10/30\n",
      "340/340 [==============================] - 22s 64ms/step - loss: 0.0188 - val_loss: 0.0314\n",
      "Epoch 11/30\n",
      "340/340 [==============================] - 21s 60ms/step - loss: 0.0188 - val_loss: 0.0295\n",
      "Epoch 12/30\n",
      "340/340 [==============================] - 18s 54ms/step - loss: 0.0186 - val_loss: 0.0270\n",
      "Epoch 13/30\n",
      "340/340 [==============================] - 18s 54ms/step - loss: 0.0186 - val_loss: 0.0273\n",
      "Epoch 14/30\n",
      "340/340 [==============================] - 18s 54ms/step - loss: 0.0185 - val_loss: 0.0268\n",
      "Epoch 15/30\n",
      "340/340 [==============================] - 18s 54ms/step - loss: 0.0185 - val_loss: 0.0312\n",
      "Epoch 16/30\n",
      "340/340 [==============================] - 18s 53ms/step - loss: 0.0184 - val_loss: 0.0268\n",
      "Epoch 17/30\n",
      "340/340 [==============================] - 18s 53ms/step - loss: 0.0184 - val_loss: 0.0285\n",
      "Epoch 18/30\n",
      "340/340 [==============================] - 19s 55ms/step - loss: 0.0184 - val_loss: 0.0282\n",
      "Epoch 19/30\n",
      "340/340 [==============================] - 18s 54ms/step - loss: 0.0182 - val_loss: 0.0264\n",
      "Epoch 20/30\n",
      "340/340 [==============================] - 18s 54ms/step - loss: 0.0183 - val_loss: 0.0312\n",
      "Epoch 21/30\n",
      "340/340 [==============================] - 18s 54ms/step - loss: 0.0183 - val_loss: 0.0408\n",
      "Epoch 22/30\n",
      "340/340 [==============================] - 18s 54ms/step - loss: 0.0184 - val_loss: 0.0264\n",
      "Epoch 23/30\n",
      "340/340 [==============================] - 18s 53ms/step - loss: 0.0183 - val_loss: 0.0276\n",
      "Epoch 24/30\n",
      "340/340 [==============================] - 18s 54ms/step - loss: 0.0181 - val_loss: 0.0275\n",
      "Epoch 25/30\n",
      "340/340 [==============================] - 18s 54ms/step - loss: 0.0184 - val_loss: 0.0262\n",
      "Epoch 26/30\n",
      "340/340 [==============================] - 18s 54ms/step - loss: 0.0180 - val_loss: 0.0283\n",
      "Epoch 27/30\n",
      "340/340 [==============================] - 18s 54ms/step - loss: 0.0181 - val_loss: 0.0264\n",
      "Epoch 28/30\n",
      "340/340 [==============================] - 18s 54ms/step - loss: 0.0179 - val_loss: 0.0273\n",
      "Epoch 29/30\n",
      "340/340 [==============================] - 18s 54ms/step - loss: 0.0177 - val_loss: 0.0276\n",
      "Epoch 30/30\n",
      "340/340 [==============================] - 18s 54ms/step - loss: 0.0181 - val_loss: 0.0260\n"
     ]
    },
    {
     "name": "stderr",
     "output_type": "stream",
     "text": [
      "WARNING:absl:Found untraced functions such as lstm_cell_20_layer_call_fn, lstm_cell_20_layer_call_and_return_conditional_losses while saving (showing 2 of 2). These functions will not be directly callable after loading.\n"
     ]
    },
    {
     "name": "stdout",
     "output_type": "stream",
     "text": [
      "INFO:tensorflow:Assets written to: Direct_Multivariate_Ensemble, n_outputs=1, mars/16_step_lookahead_Direct_Multivariate\\assets\n"
     ]
    },
    {
     "name": "stderr",
     "output_type": "stream",
     "text": [
      "INFO:tensorflow:Assets written to: Direct_Multivariate_Ensemble, n_outputs=1, mars/16_step_lookahead_Direct_Multivariate\\assets\n",
      "WARNING:absl:<keras.layers.recurrent.LSTMCell object at 0x000001D37795A580> has the same name 'LSTMCell' as a built-in Keras object. Consider renaming <class 'keras.layers.recurrent.LSTMCell'> to avoid naming conflicts when loading with `tf.keras.models.load_model`. If renaming is not possible, pass the object in the `custom_objects` parameter of the load function.\n"
     ]
    },
    {
     "name": "stdout",
     "output_type": "stream",
     "text": [
      "Epoch 1/30\n",
      "340/340 [==============================] - 21s 55ms/step - loss: 0.0355 - val_loss: 0.0261\n",
      "Epoch 2/30\n",
      "340/340 [==============================] - 18s 54ms/step - loss: 0.0202 - val_loss: 0.0260\n",
      "Epoch 3/30\n",
      "340/340 [==============================] - 18s 54ms/step - loss: 0.0199 - val_loss: 0.0299\n",
      "Epoch 4/30\n",
      "340/340 [==============================] - 18s 54ms/step - loss: 0.0197 - val_loss: 0.0266\n",
      "Epoch 5/30\n",
      "340/340 [==============================] - 18s 54ms/step - loss: 0.0195 - val_loss: 0.0281\n",
      "Epoch 6/30\n",
      "340/340 [==============================] - 18s 54ms/step - loss: 0.0195 - val_loss: 0.0287\n",
      "Epoch 7/30\n",
      "340/340 [==============================] - 18s 54ms/step - loss: 0.0194 - val_loss: 0.0343\n",
      "Epoch 8/30\n",
      "340/340 [==============================] - 18s 54ms/step - loss: 0.0194 - val_loss: 0.0380\n",
      "Epoch 9/30\n",
      "340/340 [==============================] - 18s 54ms/step - loss: 0.0194 - val_loss: 0.0319\n",
      "Epoch 10/30\n",
      "340/340 [==============================] - 18s 54ms/step - loss: 0.0193 - val_loss: 0.0378\n",
      "Epoch 11/30\n",
      "340/340 [==============================] - 18s 54ms/step - loss: 0.0192 - val_loss: 0.0452\n",
      "Epoch 12/30\n",
      "340/340 [==============================] - 18s 54ms/step - loss: 0.0192 - val_loss: 0.0334\n",
      "Epoch 13/30\n",
      "340/340 [==============================] - 18s 54ms/step - loss: 0.0191 - val_loss: 0.0301\n",
      "Epoch 14/30\n",
      "340/340 [==============================] - 18s 54ms/step - loss: 0.0191 - val_loss: 0.0271\n",
      "Epoch 15/30\n",
      "340/340 [==============================] - 18s 54ms/step - loss: 0.0190 - val_loss: 0.0332\n",
      "Epoch 16/30\n",
      "340/340 [==============================] - 18s 54ms/step - loss: 0.0189 - val_loss: 0.0325\n",
      "Epoch 17/30\n",
      "340/340 [==============================] - 18s 53ms/step - loss: 0.0188 - val_loss: 0.0437\n",
      "Epoch 18/30\n",
      "340/340 [==============================] - 18s 54ms/step - loss: 0.0188 - val_loss: 0.0354\n",
      "Epoch 19/30\n",
      "340/340 [==============================] - 18s 54ms/step - loss: 0.0186 - val_loss: 0.0387\n",
      "Epoch 20/30\n",
      "340/340 [==============================] - 18s 54ms/step - loss: 0.0185 - val_loss: 0.0505\n",
      "Epoch 21/30\n",
      "340/340 [==============================] - 18s 54ms/step - loss: 0.0186 - val_loss: 0.0333\n",
      "Epoch 22/30\n",
      "340/340 [==============================] - 18s 54ms/step - loss: 0.0185 - val_loss: 0.0425\n",
      "Epoch 23/30\n",
      "340/340 [==============================] - 18s 54ms/step - loss: 0.0184 - val_loss: 0.0458\n",
      "Epoch 24/30\n",
      "340/340 [==============================] - 18s 54ms/step - loss: 0.0184 - val_loss: 0.0413\n",
      "Epoch 25/30\n",
      "340/340 [==============================] - 18s 54ms/step - loss: 0.0183 - val_loss: 0.0332\n",
      "Epoch 26/30\n",
      "340/340 [==============================] - 18s 54ms/step - loss: 0.0183 - val_loss: 0.0456\n",
      "Epoch 27/30\n",
      "340/340 [==============================] - 18s 54ms/step - loss: 0.0183 - val_loss: 0.0465\n",
      "Epoch 28/30\n",
      "340/340 [==============================] - 18s 54ms/step - loss: 0.0182 - val_loss: 0.0468\n",
      "Epoch 29/30\n",
      "340/340 [==============================] - 19s 55ms/step - loss: 0.0182 - val_loss: 0.0425\n",
      "Epoch 30/30\n",
      "340/340 [==============================] - 18s 53ms/step - loss: 0.0180 - val_loss: 0.0456\n"
     ]
    },
    {
     "name": "stderr",
     "output_type": "stream",
     "text": [
      "WARNING:absl:Found untraced functions such as lstm_cell_21_layer_call_fn, lstm_cell_21_layer_call_and_return_conditional_losses while saving (showing 2 of 2). These functions will not be directly callable after loading.\n"
     ]
    },
    {
     "name": "stdout",
     "output_type": "stream",
     "text": [
      "INFO:tensorflow:Assets written to: Direct_Multivariate_Ensemble, n_outputs=1, mars/17_step_lookahead_Direct_Multivariate\\assets\n"
     ]
    },
    {
     "name": "stderr",
     "output_type": "stream",
     "text": [
      "INFO:tensorflow:Assets written to: Direct_Multivariate_Ensemble, n_outputs=1, mars/17_step_lookahead_Direct_Multivariate\\assets\n",
      "WARNING:absl:<keras.layers.recurrent.LSTMCell object at 0x000001D377D83370> has the same name 'LSTMCell' as a built-in Keras object. Consider renaming <class 'keras.layers.recurrent.LSTMCell'> to avoid naming conflicts when loading with `tf.keras.models.load_model`. If renaming is not possible, pass the object in the `custom_objects` parameter of the load function.\n"
     ]
    },
    {
     "name": "stdout",
     "output_type": "stream",
     "text": [
      "Epoch 1/30\n",
      "340/340 [==============================] - 22s 58ms/step - loss: 0.0234 - val_loss: 0.0286\n",
      "Epoch 2/30\n",
      "340/340 [==============================] - 18s 54ms/step - loss: 0.0202 - val_loss: 0.0274\n",
      "Epoch 3/30\n",
      "340/340 [==============================] - 18s 52ms/step - loss: 0.0201 - val_loss: 0.0305\n",
      "Epoch 4/30\n",
      "340/340 [==============================] - 18s 52ms/step - loss: 0.0200 - val_loss: 0.0276\n",
      "Epoch 5/30\n",
      "340/340 [==============================] - 18s 53ms/step - loss: 0.0199 - val_loss: 0.0277\n",
      "Epoch 6/30\n",
      "340/340 [==============================] - 18s 52ms/step - loss: 0.0200 - val_loss: 0.0280\n",
      "Epoch 7/30\n",
      "340/340 [==============================] - 18s 52ms/step - loss: 0.0198 - val_loss: 0.0291\n",
      "Epoch 8/30\n",
      "340/340 [==============================] - 18s 52ms/step - loss: 0.0197 - val_loss: 0.0288\n",
      "Epoch 9/30\n",
      "340/340 [==============================] - 18s 52ms/step - loss: 0.0198 - val_loss: 0.0290\n",
      "Epoch 10/30\n",
      "340/340 [==============================] - 18s 53ms/step - loss: 0.0198 - val_loss: 0.0300\n",
      "Epoch 11/30\n",
      "340/340 [==============================] - 18s 53ms/step - loss: 0.0197 - val_loss: 0.0321\n",
      "Epoch 12/30\n",
      "340/340 [==============================] - 18s 52ms/step - loss: 0.0196 - val_loss: 0.0346\n",
      "Epoch 13/30\n",
      "340/340 [==============================] - 18s 53ms/step - loss: 0.0196 - val_loss: 0.0325\n",
      "Epoch 14/30\n",
      "340/340 [==============================] - 19s 55ms/step - loss: 0.0195 - val_loss: 0.0285\n",
      "Epoch 15/30\n",
      "340/340 [==============================] - 18s 53ms/step - loss: 0.0194 - val_loss: 0.0352\n",
      "Epoch 16/30\n",
      "340/340 [==============================] - 18s 54ms/step - loss: 0.0192 - val_loss: 0.0283\n",
      "Epoch 17/30\n",
      "340/340 [==============================] - 18s 54ms/step - loss: 0.0193 - val_loss: 0.0297\n",
      "Epoch 18/30\n",
      "340/340 [==============================] - 18s 54ms/step - loss: 0.0191 - val_loss: 0.0341\n",
      "Epoch 19/30\n",
      "340/340 [==============================] - 18s 54ms/step - loss: 0.0191 - val_loss: 0.0382\n",
      "Epoch 20/30\n",
      "340/340 [==============================] - 18s 53ms/step - loss: 0.0190 - val_loss: 0.0331\n",
      "Epoch 21/30\n",
      "340/340 [==============================] - 18s 54ms/step - loss: 0.0189 - val_loss: 0.0322\n",
      "Epoch 22/30\n",
      "340/340 [==============================] - 19s 57ms/step - loss: 0.0191 - val_loss: 0.0339\n",
      "Epoch 23/30\n",
      "340/340 [==============================] - 19s 55ms/step - loss: 0.0189 - val_loss: 0.0344\n",
      "Epoch 24/30\n",
      "340/340 [==============================] - 18s 54ms/step - loss: 0.0191 - val_loss: 0.0320\n",
      "Epoch 25/30\n",
      "340/340 [==============================] - 19s 56ms/step - loss: 0.0190 - val_loss: 0.0349\n",
      "Epoch 26/30\n",
      "340/340 [==============================] - 18s 53ms/step - loss: 0.0189 - val_loss: 0.0335\n",
      "Epoch 27/30\n",
      "340/340 [==============================] - 18s 53ms/step - loss: 0.0188 - val_loss: 0.0363\n",
      "Epoch 28/30\n",
      "340/340 [==============================] - 18s 53ms/step - loss: 0.0190 - val_loss: 0.0378\n",
      "Epoch 29/30\n",
      "340/340 [==============================] - 18s 54ms/step - loss: 0.0188 - val_loss: 0.0327\n",
      "Epoch 30/30\n",
      "340/340 [==============================] - 19s 55ms/step - loss: 0.0190 - val_loss: 0.0307\n"
     ]
    },
    {
     "name": "stderr",
     "output_type": "stream",
     "text": [
      "WARNING:absl:Found untraced functions such as lstm_cell_22_layer_call_fn, lstm_cell_22_layer_call_and_return_conditional_losses while saving (showing 2 of 2). These functions will not be directly callable after loading.\n"
     ]
    },
    {
     "name": "stdout",
     "output_type": "stream",
     "text": [
      "INFO:tensorflow:Assets written to: Direct_Multivariate_Ensemble, n_outputs=1, mars/18_step_lookahead_Direct_Multivariate\\assets\n"
     ]
    },
    {
     "name": "stderr",
     "output_type": "stream",
     "text": [
      "INFO:tensorflow:Assets written to: Direct_Multivariate_Ensemble, n_outputs=1, mars/18_step_lookahead_Direct_Multivariate\\assets\n",
      "WARNING:absl:<keras.layers.recurrent.LSTMCell object at 0x000001D31A75E340> has the same name 'LSTMCell' as a built-in Keras object. Consider renaming <class 'keras.layers.recurrent.LSTMCell'> to avoid naming conflicts when loading with `tf.keras.models.load_model`. If renaming is not possible, pass the object in the `custom_objects` parameter of the load function.\n"
     ]
    },
    {
     "name": "stdout",
     "output_type": "stream",
     "text": [
      "Epoch 1/30\n",
      "340/340 [==============================] - 22s 58ms/step - loss: 0.0398 - val_loss: 0.0268\n",
      "Epoch 2/30\n",
      "340/340 [==============================] - 18s 53ms/step - loss: 0.0208 - val_loss: 0.0262\n",
      "Epoch 3/30\n",
      "340/340 [==============================] - 18s 53ms/step - loss: 0.0205 - val_loss: 0.0262\n",
      "Epoch 4/30\n",
      "340/340 [==============================] - 18s 54ms/step - loss: 0.0202 - val_loss: 0.0270\n",
      "Epoch 5/30\n",
      "340/340 [==============================] - 18s 54ms/step - loss: 0.0202 - val_loss: 0.0268\n",
      "Epoch 6/30\n",
      "340/340 [==============================] - 18s 54ms/step - loss: 0.0202 - val_loss: 0.0302\n",
      "Epoch 7/30\n",
      "340/340 [==============================] - 18s 53ms/step - loss: 0.0202 - val_loss: 0.0296\n",
      "Epoch 8/30\n",
      "340/340 [==============================] - 19s 55ms/step - loss: 0.0202 - val_loss: 0.0316\n",
      "Epoch 9/30\n",
      "340/340 [==============================] - 18s 54ms/step - loss: 0.0201 - val_loss: 0.0316\n",
      "Epoch 10/30\n",
      "340/340 [==============================] - 18s 54ms/step - loss: 0.0199 - val_loss: 0.0318\n",
      "Epoch 11/30\n",
      "340/340 [==============================] - 19s 55ms/step - loss: 0.0200 - val_loss: 0.0307\n",
      "Epoch 12/30\n",
      "340/340 [==============================] - 18s 54ms/step - loss: 0.0199 - val_loss: 0.0340\n",
      "Epoch 13/30\n",
      "340/340 [==============================] - 19s 57ms/step - loss: 0.0199 - val_loss: 0.0324\n",
      "Epoch 14/30\n",
      "340/340 [==============================] - 18s 53ms/step - loss: 0.0198 - val_loss: 0.0357\n",
      "Epoch 15/30\n",
      "340/340 [==============================] - 19s 55ms/step - loss: 0.0197 - val_loss: 0.0405\n",
      "Epoch 16/30\n",
      "340/340 [==============================] - 18s 54ms/step - loss: 0.0197 - val_loss: 0.0329\n",
      "Epoch 17/30\n",
      "340/340 [==============================] - 19s 55ms/step - loss: 0.0199 - val_loss: 0.0378\n",
      "Epoch 18/30\n",
      "340/340 [==============================] - 18s 54ms/step - loss: 0.0197 - val_loss: 0.0314\n",
      "Epoch 19/30\n",
      "340/340 [==============================] - 18s 54ms/step - loss: 0.0197 - val_loss: 0.0354\n",
      "Epoch 20/30\n",
      "340/340 [==============================] - 18s 54ms/step - loss: 0.0197 - val_loss: 0.0355\n",
      "Epoch 21/30\n",
      "340/340 [==============================] - 18s 54ms/step - loss: 0.0196 - val_loss: 0.0349\n",
      "Epoch 22/30\n",
      "340/340 [==============================] - 18s 54ms/step - loss: 0.0196 - val_loss: 0.0334\n",
      "Epoch 23/30\n",
      "340/340 [==============================] - 18s 54ms/step - loss: 0.0195 - val_loss: 0.0336\n",
      "Epoch 24/30\n",
      "340/340 [==============================] - 18s 53ms/step - loss: 0.0195 - val_loss: 0.0431\n",
      "Epoch 25/30\n",
      "340/340 [==============================] - 18s 53ms/step - loss: 0.0195 - val_loss: 0.0418\n",
      "Epoch 26/30\n",
      "340/340 [==============================] - 18s 54ms/step - loss: 0.0193 - val_loss: 0.0319\n",
      "Epoch 27/30\n",
      "340/340 [==============================] - 18s 54ms/step - loss: 0.0194 - val_loss: 0.0346\n",
      "Epoch 28/30\n",
      "340/340 [==============================] - 18s 54ms/step - loss: 0.0191 - val_loss: 0.0376\n",
      "Epoch 29/30\n",
      "340/340 [==============================] - 18s 53ms/step - loss: 0.0192 - val_loss: 0.0354\n",
      "Epoch 30/30\n",
      "340/340 [==============================] - 18s 54ms/step - loss: 0.0191 - val_loss: 0.0316\n"
     ]
    },
    {
     "name": "stderr",
     "output_type": "stream",
     "text": [
      "WARNING:absl:Found untraced functions such as lstm_cell_23_layer_call_fn, lstm_cell_23_layer_call_and_return_conditional_losses while saving (showing 2 of 2). These functions will not be directly callable after loading.\n"
     ]
    },
    {
     "name": "stdout",
     "output_type": "stream",
     "text": [
      "INFO:tensorflow:Assets written to: Direct_Multivariate_Ensemble, n_outputs=1, mars/19_step_lookahead_Direct_Multivariate\\assets\n"
     ]
    },
    {
     "name": "stderr",
     "output_type": "stream",
     "text": [
      "INFO:tensorflow:Assets written to: Direct_Multivariate_Ensemble, n_outputs=1, mars/19_step_lookahead_Direct_Multivariate\\assets\n",
      "WARNING:absl:<keras.layers.recurrent.LSTMCell object at 0x000001D31A739D90> has the same name 'LSTMCell' as a built-in Keras object. Consider renaming <class 'keras.layers.recurrent.LSTMCell'> to avoid naming conflicts when loading with `tf.keras.models.load_model`. If renaming is not possible, pass the object in the `custom_objects` parameter of the load function.\n"
     ]
    },
    {
     "name": "stdout",
     "output_type": "stream",
     "text": [
      "Epoch 1/30\n",
      "340/340 [==============================] - 21s 55ms/step - loss: 0.0260 - val_loss: 0.0261\n",
      "Epoch 2/30\n",
      "340/340 [==============================] - 18s 53ms/step - loss: 0.0208 - val_loss: 0.0268\n",
      "Epoch 3/30\n",
      "340/340 [==============================] - 18s 54ms/step - loss: 0.0206 - val_loss: 0.0294\n",
      "Epoch 4/30\n",
      "340/340 [==============================] - 18s 54ms/step - loss: 0.0204 - val_loss: 0.0291\n",
      "Epoch 5/30\n",
      "340/340 [==============================] - 19s 55ms/step - loss: 0.0203 - val_loss: 0.0360\n",
      "Epoch 6/30\n",
      "340/340 [==============================] - 18s 54ms/step - loss: 0.0202 - val_loss: 0.0363\n",
      "Epoch 7/30\n",
      "340/340 [==============================] - 18s 54ms/step - loss: 0.0202 - val_loss: 0.0340\n",
      "Epoch 8/30\n",
      "340/340 [==============================] - 18s 53ms/step - loss: 0.0201 - val_loss: 0.0478\n",
      "Epoch 9/30\n",
      "340/340 [==============================] - 18s 53ms/step - loss: 0.0200 - val_loss: 0.0402\n",
      "Epoch 10/30\n",
      "340/340 [==============================] - 18s 54ms/step - loss: 0.0200 - val_loss: 0.0372\n",
      "Epoch 11/30\n",
      "340/340 [==============================] - 19s 55ms/step - loss: 0.0199 - val_loss: 0.0322\n",
      "Epoch 12/30\n",
      "340/340 [==============================] - 18s 54ms/step - loss: 0.0199 - val_loss: 0.0322\n",
      "Epoch 13/30\n",
      "340/340 [==============================] - 18s 53ms/step - loss: 0.0198 - val_loss: 0.0334\n",
      "Epoch 14/30\n",
      "340/340 [==============================] - 18s 54ms/step - loss: 0.0197 - val_loss: 0.0314\n",
      "Epoch 15/30\n",
      "340/340 [==============================] - 18s 54ms/step - loss: 0.0197 - val_loss: 0.0328\n",
      "Epoch 16/30\n",
      "340/340 [==============================] - 18s 54ms/step - loss: 0.0196 - val_loss: 0.0301\n",
      "Epoch 17/30\n",
      " 82/340 [======>.......................] - ETA: 11s - loss: 0.0218"
     ]
    },
    {
     "ename": "KeyboardInterrupt",
     "evalue": "",
     "output_type": "error",
     "traceback": [
      "\u001b[1;31m---------------------------------------------------------------------------\u001b[0m",
      "\u001b[1;31mKeyboardInterrupt\u001b[0m                         Traceback (most recent call last)",
      "\u001b[1;32m~\\AppData\\Local\\Temp/ipykernel_13264/750123844.py\u001b[0m in \u001b[0;36m<module>\u001b[1;34m\u001b[0m\n\u001b[0;32m     10\u001b[0m     \u001b[0mmodel\u001b[0m\u001b[1;33m.\u001b[0m\u001b[0mcompile\u001b[0m\u001b[1;33m(\u001b[0m\u001b[0moptimizer\u001b[0m\u001b[1;33m=\u001b[0m\u001b[1;34m'adam'\u001b[0m\u001b[1;33m,\u001b[0m \u001b[0mloss\u001b[0m\u001b[1;33m=\u001b[0m\u001b[1;34m'mse'\u001b[0m\u001b[1;33m)\u001b[0m\u001b[1;33m\u001b[0m\u001b[1;33m\u001b[0m\u001b[0m\n\u001b[0;32m     11\u001b[0m \u001b[1;33m\u001b[0m\u001b[0m\n\u001b[1;32m---> 12\u001b[1;33m     \u001b[0mmodel\u001b[0m\u001b[1;33m.\u001b[0m\u001b[0mfit\u001b[0m\u001b[1;33m(\u001b[0m\u001b[0mX_train\u001b[0m\u001b[1;33m,\u001b[0m \u001b[0my_train\u001b[0m\u001b[1;33m,\u001b[0m \u001b[0mepochs\u001b[0m\u001b[1;33m=\u001b[0m\u001b[1;36m30\u001b[0m\u001b[1;33m,\u001b[0m \u001b[0mverbose\u001b[0m\u001b[1;33m=\u001b[0m\u001b[1;36m1\u001b[0m\u001b[1;33m,\u001b[0m \u001b[0mvalidation_data\u001b[0m \u001b[1;33m=\u001b[0m\u001b[1;33m(\u001b[0m\u001b[0mX_val\u001b[0m\u001b[1;33m,\u001b[0m\u001b[0my_val2\u001b[0m\u001b[1;33m)\u001b[0m\u001b[1;33m)\u001b[0m\u001b[1;33m\u001b[0m\u001b[1;33m\u001b[0m\u001b[0m\n\u001b[0m\u001b[0;32m     13\u001b[0m     \u001b[0mmodel\u001b[0m\u001b[1;33m.\u001b[0m\u001b[0msave\u001b[0m\u001b[1;33m(\u001b[0m\u001b[1;33m(\u001b[0m\u001b[1;34m'Direct_Multivariate_Ensemble, n_outputs=1, mars/'\u001b[0m \u001b[1;33m+\u001b[0m \u001b[0mstr\u001b[0m\u001b[1;33m(\u001b[0m\u001b[0mi\u001b[0m\u001b[1;33m)\u001b[0m \u001b[1;33m+\u001b[0m \u001b[1;34m'_step_lookahead_Direct_Multivariate'\u001b[0m\u001b[1;33m)\u001b[0m\u001b[1;33m)\u001b[0m\u001b[1;33m\u001b[0m\u001b[1;33m\u001b[0m\u001b[0m\n",
      "\u001b[1;32mD:\\Anaconda\\lib\\site-packages\\keras\\utils\\traceback_utils.py\u001b[0m in \u001b[0;36merror_handler\u001b[1;34m(*args, **kwargs)\u001b[0m\n\u001b[0;32m     62\u001b[0m     \u001b[0mfiltered_tb\u001b[0m \u001b[1;33m=\u001b[0m \u001b[1;32mNone\u001b[0m\u001b[1;33m\u001b[0m\u001b[1;33m\u001b[0m\u001b[0m\n\u001b[0;32m     63\u001b[0m     \u001b[1;32mtry\u001b[0m\u001b[1;33m:\u001b[0m\u001b[1;33m\u001b[0m\u001b[1;33m\u001b[0m\u001b[0m\n\u001b[1;32m---> 64\u001b[1;33m       \u001b[1;32mreturn\u001b[0m \u001b[0mfn\u001b[0m\u001b[1;33m(\u001b[0m\u001b[1;33m*\u001b[0m\u001b[0margs\u001b[0m\u001b[1;33m,\u001b[0m \u001b[1;33m**\u001b[0m\u001b[0mkwargs\u001b[0m\u001b[1;33m)\u001b[0m\u001b[1;33m\u001b[0m\u001b[1;33m\u001b[0m\u001b[0m\n\u001b[0m\u001b[0;32m     65\u001b[0m     \u001b[1;32mexcept\u001b[0m \u001b[0mException\u001b[0m \u001b[1;32mas\u001b[0m \u001b[0me\u001b[0m\u001b[1;33m:\u001b[0m  \u001b[1;31m# pylint: disable=broad-except\u001b[0m\u001b[1;33m\u001b[0m\u001b[1;33m\u001b[0m\u001b[0m\n\u001b[0;32m     66\u001b[0m       \u001b[0mfiltered_tb\u001b[0m \u001b[1;33m=\u001b[0m \u001b[0m_process_traceback_frames\u001b[0m\u001b[1;33m(\u001b[0m\u001b[0me\u001b[0m\u001b[1;33m.\u001b[0m\u001b[0m__traceback__\u001b[0m\u001b[1;33m)\u001b[0m\u001b[1;33m\u001b[0m\u001b[1;33m\u001b[0m\u001b[0m\n",
      "\u001b[1;32mD:\\Anaconda\\lib\\site-packages\\keras\\engine\\training.py\u001b[0m in \u001b[0;36mfit\u001b[1;34m(self, x, y, batch_size, epochs, verbose, callbacks, validation_split, validation_data, shuffle, class_weight, sample_weight, initial_epoch, steps_per_epoch, validation_steps, validation_batch_size, validation_freq, max_queue_size, workers, use_multiprocessing)\u001b[0m\n\u001b[0;32m   1382\u001b[0m                 _r=1):\n\u001b[0;32m   1383\u001b[0m               \u001b[0mcallbacks\u001b[0m\u001b[1;33m.\u001b[0m\u001b[0mon_train_batch_begin\u001b[0m\u001b[1;33m(\u001b[0m\u001b[0mstep\u001b[0m\u001b[1;33m)\u001b[0m\u001b[1;33m\u001b[0m\u001b[1;33m\u001b[0m\u001b[0m\n\u001b[1;32m-> 1384\u001b[1;33m               \u001b[0mtmp_logs\u001b[0m \u001b[1;33m=\u001b[0m \u001b[0mself\u001b[0m\u001b[1;33m.\u001b[0m\u001b[0mtrain_function\u001b[0m\u001b[1;33m(\u001b[0m\u001b[0miterator\u001b[0m\u001b[1;33m)\u001b[0m\u001b[1;33m\u001b[0m\u001b[1;33m\u001b[0m\u001b[0m\n\u001b[0m\u001b[0;32m   1385\u001b[0m               \u001b[1;32mif\u001b[0m \u001b[0mdata_handler\u001b[0m\u001b[1;33m.\u001b[0m\u001b[0mshould_sync\u001b[0m\u001b[1;33m:\u001b[0m\u001b[1;33m\u001b[0m\u001b[1;33m\u001b[0m\u001b[0m\n\u001b[0;32m   1386\u001b[0m                 \u001b[0mcontext\u001b[0m\u001b[1;33m.\u001b[0m\u001b[0masync_wait\u001b[0m\u001b[1;33m(\u001b[0m\u001b[1;33m)\u001b[0m\u001b[1;33m\u001b[0m\u001b[1;33m\u001b[0m\u001b[0m\n",
      "\u001b[1;32m~\\AppData\\Roaming\\Python\\Python39\\site-packages\\tensorflow\\python\\util\\traceback_utils.py\u001b[0m in \u001b[0;36merror_handler\u001b[1;34m(*args, **kwargs)\u001b[0m\n\u001b[0;32m    148\u001b[0m     \u001b[0mfiltered_tb\u001b[0m \u001b[1;33m=\u001b[0m \u001b[1;32mNone\u001b[0m\u001b[1;33m\u001b[0m\u001b[1;33m\u001b[0m\u001b[0m\n\u001b[0;32m    149\u001b[0m     \u001b[1;32mtry\u001b[0m\u001b[1;33m:\u001b[0m\u001b[1;33m\u001b[0m\u001b[1;33m\u001b[0m\u001b[0m\n\u001b[1;32m--> 150\u001b[1;33m       \u001b[1;32mreturn\u001b[0m \u001b[0mfn\u001b[0m\u001b[1;33m(\u001b[0m\u001b[1;33m*\u001b[0m\u001b[0margs\u001b[0m\u001b[1;33m,\u001b[0m \u001b[1;33m**\u001b[0m\u001b[0mkwargs\u001b[0m\u001b[1;33m)\u001b[0m\u001b[1;33m\u001b[0m\u001b[1;33m\u001b[0m\u001b[0m\n\u001b[0m\u001b[0;32m    151\u001b[0m     \u001b[1;32mexcept\u001b[0m \u001b[0mException\u001b[0m \u001b[1;32mas\u001b[0m \u001b[0me\u001b[0m\u001b[1;33m:\u001b[0m\u001b[1;33m\u001b[0m\u001b[1;33m\u001b[0m\u001b[0m\n\u001b[0;32m    152\u001b[0m       \u001b[0mfiltered_tb\u001b[0m \u001b[1;33m=\u001b[0m \u001b[0m_process_traceback_frames\u001b[0m\u001b[1;33m(\u001b[0m\u001b[0me\u001b[0m\u001b[1;33m.\u001b[0m\u001b[0m__traceback__\u001b[0m\u001b[1;33m)\u001b[0m\u001b[1;33m\u001b[0m\u001b[1;33m\u001b[0m\u001b[0m\n",
      "\u001b[1;32m~\\AppData\\Roaming\\Python\\Python39\\site-packages\\tensorflow\\python\\eager\\def_function.py\u001b[0m in \u001b[0;36m__call__\u001b[1;34m(self, *args, **kwds)\u001b[0m\n\u001b[0;32m    913\u001b[0m \u001b[1;33m\u001b[0m\u001b[0m\n\u001b[0;32m    914\u001b[0m       \u001b[1;32mwith\u001b[0m \u001b[0mOptionalXlaContext\u001b[0m\u001b[1;33m(\u001b[0m\u001b[0mself\u001b[0m\u001b[1;33m.\u001b[0m\u001b[0m_jit_compile\u001b[0m\u001b[1;33m)\u001b[0m\u001b[1;33m:\u001b[0m\u001b[1;33m\u001b[0m\u001b[1;33m\u001b[0m\u001b[0m\n\u001b[1;32m--> 915\u001b[1;33m         \u001b[0mresult\u001b[0m \u001b[1;33m=\u001b[0m \u001b[0mself\u001b[0m\u001b[1;33m.\u001b[0m\u001b[0m_call\u001b[0m\u001b[1;33m(\u001b[0m\u001b[1;33m*\u001b[0m\u001b[0margs\u001b[0m\u001b[1;33m,\u001b[0m \u001b[1;33m**\u001b[0m\u001b[0mkwds\u001b[0m\u001b[1;33m)\u001b[0m\u001b[1;33m\u001b[0m\u001b[1;33m\u001b[0m\u001b[0m\n\u001b[0m\u001b[0;32m    916\u001b[0m \u001b[1;33m\u001b[0m\u001b[0m\n\u001b[0;32m    917\u001b[0m       \u001b[0mnew_tracing_count\u001b[0m \u001b[1;33m=\u001b[0m \u001b[0mself\u001b[0m\u001b[1;33m.\u001b[0m\u001b[0mexperimental_get_tracing_count\u001b[0m\u001b[1;33m(\u001b[0m\u001b[1;33m)\u001b[0m\u001b[1;33m\u001b[0m\u001b[1;33m\u001b[0m\u001b[0m\n",
      "\u001b[1;32m~\\AppData\\Roaming\\Python\\Python39\\site-packages\\tensorflow\\python\\eager\\def_function.py\u001b[0m in \u001b[0;36m_call\u001b[1;34m(self, *args, **kwds)\u001b[0m\n\u001b[0;32m    945\u001b[0m       \u001b[1;31m# In this case we have created variables on the first call, so we run the\u001b[0m\u001b[1;33m\u001b[0m\u001b[1;33m\u001b[0m\u001b[0m\n\u001b[0;32m    946\u001b[0m       \u001b[1;31m# defunned version which is guaranteed to never create variables.\u001b[0m\u001b[1;33m\u001b[0m\u001b[1;33m\u001b[0m\u001b[0m\n\u001b[1;32m--> 947\u001b[1;33m       \u001b[1;32mreturn\u001b[0m \u001b[0mself\u001b[0m\u001b[1;33m.\u001b[0m\u001b[0m_stateless_fn\u001b[0m\u001b[1;33m(\u001b[0m\u001b[1;33m*\u001b[0m\u001b[0margs\u001b[0m\u001b[1;33m,\u001b[0m \u001b[1;33m**\u001b[0m\u001b[0mkwds\u001b[0m\u001b[1;33m)\u001b[0m  \u001b[1;31m# pylint: disable=not-callable\u001b[0m\u001b[1;33m\u001b[0m\u001b[1;33m\u001b[0m\u001b[0m\n\u001b[0m\u001b[0;32m    948\u001b[0m     \u001b[1;32melif\u001b[0m \u001b[0mself\u001b[0m\u001b[1;33m.\u001b[0m\u001b[0m_stateful_fn\u001b[0m \u001b[1;32mis\u001b[0m \u001b[1;32mnot\u001b[0m \u001b[1;32mNone\u001b[0m\u001b[1;33m:\u001b[0m\u001b[1;33m\u001b[0m\u001b[1;33m\u001b[0m\u001b[0m\n\u001b[0;32m    949\u001b[0m       \u001b[1;31m# Release the lock early so that multiple threads can perform the call\u001b[0m\u001b[1;33m\u001b[0m\u001b[1;33m\u001b[0m\u001b[0m\n",
      "\u001b[1;32m~\\AppData\\Roaming\\Python\\Python39\\site-packages\\tensorflow\\python\\eager\\function.py\u001b[0m in \u001b[0;36m__call__\u001b[1;34m(self, *args, **kwargs)\u001b[0m\n\u001b[0;32m   2954\u001b[0m       (graph_function,\n\u001b[0;32m   2955\u001b[0m        filtered_flat_args) = self._maybe_define_function(args, kwargs)\n\u001b[1;32m-> 2956\u001b[1;33m     return graph_function._call_flat(\n\u001b[0m\u001b[0;32m   2957\u001b[0m         filtered_flat_args, captured_inputs=graph_function.captured_inputs)  # pylint: disable=protected-access\n\u001b[0;32m   2958\u001b[0m \u001b[1;33m\u001b[0m\u001b[0m\n",
      "\u001b[1;32m~\\AppData\\Roaming\\Python\\Python39\\site-packages\\tensorflow\\python\\eager\\function.py\u001b[0m in \u001b[0;36m_call_flat\u001b[1;34m(self, args, captured_inputs, cancellation_manager)\u001b[0m\n\u001b[0;32m   1851\u001b[0m         and executing_eagerly):\n\u001b[0;32m   1852\u001b[0m       \u001b[1;31m# No tape is watching; skip to running the function.\u001b[0m\u001b[1;33m\u001b[0m\u001b[1;33m\u001b[0m\u001b[0m\n\u001b[1;32m-> 1853\u001b[1;33m       return self._build_call_outputs(self._inference_function.call(\n\u001b[0m\u001b[0;32m   1854\u001b[0m           ctx, args, cancellation_manager=cancellation_manager))\n\u001b[0;32m   1855\u001b[0m     forward_backward = self._select_forward_and_backward_functions(\n",
      "\u001b[1;32m~\\AppData\\Roaming\\Python\\Python39\\site-packages\\tensorflow\\python\\eager\\function.py\u001b[0m in \u001b[0;36mcall\u001b[1;34m(self, ctx, args, cancellation_manager)\u001b[0m\n\u001b[0;32m    497\u001b[0m       \u001b[1;32mwith\u001b[0m \u001b[0m_InterpolateFunctionError\u001b[0m\u001b[1;33m(\u001b[0m\u001b[0mself\u001b[0m\u001b[1;33m)\u001b[0m\u001b[1;33m:\u001b[0m\u001b[1;33m\u001b[0m\u001b[1;33m\u001b[0m\u001b[0m\n\u001b[0;32m    498\u001b[0m         \u001b[1;32mif\u001b[0m \u001b[0mcancellation_manager\u001b[0m \u001b[1;32mis\u001b[0m \u001b[1;32mNone\u001b[0m\u001b[1;33m:\u001b[0m\u001b[1;33m\u001b[0m\u001b[1;33m\u001b[0m\u001b[0m\n\u001b[1;32m--> 499\u001b[1;33m           outputs = execute.execute(\n\u001b[0m\u001b[0;32m    500\u001b[0m               \u001b[0mstr\u001b[0m\u001b[1;33m(\u001b[0m\u001b[0mself\u001b[0m\u001b[1;33m.\u001b[0m\u001b[0msignature\u001b[0m\u001b[1;33m.\u001b[0m\u001b[0mname\u001b[0m\u001b[1;33m)\u001b[0m\u001b[1;33m,\u001b[0m\u001b[1;33m\u001b[0m\u001b[1;33m\u001b[0m\u001b[0m\n\u001b[0;32m    501\u001b[0m               \u001b[0mnum_outputs\u001b[0m\u001b[1;33m=\u001b[0m\u001b[0mself\u001b[0m\u001b[1;33m.\u001b[0m\u001b[0m_num_outputs\u001b[0m\u001b[1;33m,\u001b[0m\u001b[1;33m\u001b[0m\u001b[1;33m\u001b[0m\u001b[0m\n",
      "\u001b[1;32m~\\AppData\\Roaming\\Python\\Python39\\site-packages\\tensorflow\\python\\eager\\execute.py\u001b[0m in \u001b[0;36mquick_execute\u001b[1;34m(op_name, num_outputs, inputs, attrs, ctx, name)\u001b[0m\n\u001b[0;32m     52\u001b[0m   \u001b[1;32mtry\u001b[0m\u001b[1;33m:\u001b[0m\u001b[1;33m\u001b[0m\u001b[1;33m\u001b[0m\u001b[0m\n\u001b[0;32m     53\u001b[0m     \u001b[0mctx\u001b[0m\u001b[1;33m.\u001b[0m\u001b[0mensure_initialized\u001b[0m\u001b[1;33m(\u001b[0m\u001b[1;33m)\u001b[0m\u001b[1;33m\u001b[0m\u001b[1;33m\u001b[0m\u001b[0m\n\u001b[1;32m---> 54\u001b[1;33m     tensors = pywrap_tfe.TFE_Py_Execute(ctx._handle, device_name, op_name,\n\u001b[0m\u001b[0;32m     55\u001b[0m                                         inputs, attrs, num_outputs)\n\u001b[0;32m     56\u001b[0m   \u001b[1;32mexcept\u001b[0m \u001b[0mcore\u001b[0m\u001b[1;33m.\u001b[0m\u001b[0m_NotOkStatusException\u001b[0m \u001b[1;32mas\u001b[0m \u001b[0me\u001b[0m\u001b[1;33m:\u001b[0m\u001b[1;33m\u001b[0m\u001b[1;33m\u001b[0m\u001b[0m\n",
      "\u001b[1;31mKeyboardInterrupt\u001b[0m: "
     ]
    }
   ],
   "source": [
    "\n",
    "for i in range(1,21):\n",
    "    n_step_lookahead = i\n",
    "    X_train, y_train, X_val, y_val, scaler = generate_training_val_examples()\n",
    "    X_train2, y_train2, X_val2, y_val2, scaler2 = generate_training_val_examples()\n",
    "\n",
    "    model = Sequential()\n",
    "    model.add(LSTM(units =15,activation='tanh',input_shape=(n_steps_in, len(inputs)),dropout=0.01))\n",
    "    model.add(Dense(n_steps_out))\n",
    "    opt = keras.optimizers.Adam(learning_rate=0.01, decay=0.0001)\n",
    "    model.compile(optimizer='adam', loss='mse')\n",
    "\n",
    "    model.fit(X_train, y_train, epochs=30, verbose=1, validation_data =(X_val,y_val2))\n",
    "    model.save(('Direct_Multivariate_Ensemble, n_outputs=1, mars/' + str(i) + '_step_lookahead_Direct_Multivariate'))"
   ]
  },
  {
   "cell_type": "markdown",
   "id": "52a3aaef",
   "metadata": {},
   "source": [
    "## Evaluate 1 step lookahead\n"
   ]
  },
  {
   "cell_type": "code",
   "execution_count": 45,
   "id": "0ec655c8",
   "metadata": {},
   "outputs": [],
   "source": [
    "from sklearn.preprocessing import MinMaxScaler\n",
    "from sklearn.metrics import r2_score\n",
    "from sklearn.metrics import mean_squared_error\n",
    "from sklearn.metrics import mean_absolute_error\n",
    "from sklearn.metrics import mean_absolute_percentage_error\n",
    "\n",
    "\n",
    "\n"
   ]
  },
  {
   "cell_type": "markdown",
   "id": "4b71867c-b942-43c5-ba9e-d5144cf1432a",
   "metadata": {},
   "source": [
    "### Generate the same training/valdidation data for the first model"
   ]
  },
  {
   "cell_type": "code",
   "execution_count": 46,
   "id": "e9c77119-20c0-4772-8379-f4480a7f3621",
   "metadata": {
    "tags": []
   },
   "outputs": [],
   "source": [
    "#Create Training Examples for all lookaheads\n",
    "resample_rate = '5T'\n",
    "start_date='2021-11-26 00:00:00'\n",
    "end_date='2022-01-26 23:55:00' \n",
    "inputs = ['min_gas_price', 'max_gas_price', 'min_gas_price_24hr_lag', 'Open']\n",
    "#No of timesteps behind to forecast on, no of timesteps to forecast ahead\n",
    "n_steps_in = 2016\n",
    "n_steps_out = 1\n",
    "#How many timesteps between start of training examples\n",
    "step_interval = 1\n",
    "n_step_lookahead = 1\n",
    "\n",
    "X_train, y_train, X_val, y_val, scaler = generate_training_val_examples()\n",
    "X_train2, y_train2, X_val2, y_val2, scaler2 = generate_training_val_examples_no_limits()"
   ]
  },
  {
   "cell_type": "code",
   "execution_count": 47,
   "id": "802f901d-1981-4c6a-b6cc-25f9c9776e14",
   "metadata": {},
   "outputs": [],
   "source": [
    "model = keras.models.load_model('Direct_Multivariate_Ensemble, n_outputs=1, mars/1_step_lookahead_Direct_Multivariate')"
   ]
  },
  {
   "cell_type": "code",
   "execution_count": 48,
   "id": "14f686a5-a8dd-49d9-8cec-8a2cd007e8d6",
   "metadata": {},
   "outputs": [
    {
     "name": "stdout",
     "output_type": "stream",
     "text": [
      "146/146 [==============================] - 4s 22ms/step\n"
     ]
    }
   ],
   "source": [
    "yhat = model.predict(X_val, verbose=1)"
   ]
  },
  {
   "cell_type": "code",
   "execution_count": 54,
   "id": "716123c3",
   "metadata": {
    "collapsed": true,
    "jupyter": {
     "outputs_hidden": true
    },
    "tags": []
   },
   "outputs": [
    {
     "name": "stdout",
     "output_type": "stream",
     "text": [
      "RMSE 51.786726109039805\n",
      "MAE 24.55438658463023\n",
      "MAPE 0.14301903866972257\n",
      "R^2 0.3682352777719391\n"
     ]
    },
    {
     "data": {
      "image/png": "[encoded data removed]",
      "text/plain": [
       "<Figure size 1440x1440 with 3 Axes>"
      ]
     },
     "metadata": {
      "needs_background": "light"
     },
     "output_type": "display_data"
    }
   ],
   "source": [
    "#Minmax scaler has been fit with nd data, add dummy columns so the scaler can be applied to min gas rpice\n",
    "pred_descaled= (scaler.inverse_transform(array([yhat,]*(len(inputs))).transpose()[0]))[:, :1]\n",
    "groud_truth_descaled= (scaler2.inverse_transform(array([y_val2,]*(len(inputs))).transpose()[0][0]))[ :, :1]\n",
    "#groud_truth_descaled= (scaler.inverse_transform(array([y_val,]*(len(inputs))).transpose()[0][0]))[ :, :1]\n",
    "\n",
    "f, (ax1, ax2, ax3) = plt.subplots(3, 1, sharey=True)\n",
    "f.set_figwidth(20)\n",
    "f.set_figheight(20)\n",
    "ax1.plot(groud_truth_descaled)\n",
    "ax1.title.set_text('Gas Price Actual')\n",
    "ax2.plot(pred_descaled)\n",
    "ax2.title.set_text('Gas Price Prediction')\n",
    "ax3.title.set_text('Overlayed')\n",
    "ax3.plot(groud_truth_descaled, color='blue',label='Predicted '+' Gas Price')\n",
    "ax3.plot(pred_descaled, color='red',label='real '+' Gas Price')\n",
    "\n",
    "\n",
    "\n",
    "print('RMSE ' + str(mean_squared_error(groud_truth_descaled, pred_descaled, squared=False)))\n",
    "print('MAE ' + str(mean_absolute_error(groud_truth_descaled, pred_descaled)))\n",
    "print('MAPE ' + str(mean_absolute_percentage_error(groud_truth_descaled, pred_descaled)))\n",
    "print('R^2 ' + str(r2_score(groud_truth_descaled, pred_descaled)))"
   ]
  },
  {
   "cell_type": "markdown",
   "id": "bb87bb37-e26b-4432-8243-933c1dc2bdd0",
   "metadata": {},
   "source": [
    "Looks like our forecast is pretty good when the values are not outside the thresholds. May be worth testing a higher threshold. The forecast can still be of some value; if we know where the threshold is, we can assume higher than the prediction if it is close to the threshold"
   ]
  },
  {
   "cell_type": "markdown",
   "id": "524ec3f0-f7ff-403e-b165-ef8b856f6937",
   "metadata": {},
   "source": [
    "# Lets look at the 1 hour lookahead"
   ]
  },
  {
   "cell_type": "code",
   "execution_count": 62,
   "id": "8cd15a5f-31d0-4d98-bc9d-2f74409b8e52",
   "metadata": {},
   "outputs": [],
   "source": [
    "#Create Training Examples for all lookaheads\n",
    "resample_rate = '5T'\n",
    "start_date='2021-11-26 00:00:00'\n",
    "end_date='2022-01-26 23:55:00' \n",
    "inputs = ['min_gas_price', 'max_gas_price', 'min_gas_price_24hr_lag', 'Open']\n",
    "#No of timesteps behind to forecast on, no of timesteps to forecast ahead\n",
    "n_steps_in = 2016\n",
    "n_steps_out = 1\n",
    "#How many timesteps between start of training examples\n",
    "step_interval = 1\n",
    "n_step_lookahead = 12\n",
    "\n",
    "X_train, y_train, X_val, y_val, scaler = generate_training_val_examples()\n",
    "X_train2, y_train2, X_val2, y_val2, scaler2 = generate_training_val_examples_no_limits()"
   ]
  },
  {
   "cell_type": "code",
   "execution_count": 63,
   "id": "616fe29f-34f6-4831-a9c8-360c30d74ca5",
   "metadata": {},
   "outputs": [],
   "source": [
    "model = keras.models.load_model('Direct_Multivariate_Ensemble, n_outputs=1, mars/1_step_lookahead_Direct_Multivariate')"
   ]
  },
  {
   "cell_type": "code",
   "execution_count": 64,
   "id": "5de68215-9acd-42b0-87b7-5ef31528ba1f",
   "metadata": {},
   "outputs": [
    {
     "name": "stdout",
     "output_type": "stream",
     "text": [
      "146/146 [==============================] - 4s 21ms/step\n"
     ]
    }
   ],
   "source": [
    "yhat = model.predict(X_val, verbose=1)"
   ]
  },
  {
   "cell_type": "code",
   "execution_count": 65,
   "id": "0d192096-7e7c-4c15-a6d6-616611f4779d",
   "metadata": {},
   "outputs": [
    {
     "name": "stdout",
     "output_type": "stream",
     "text": [
      "RMSE 56.41750715201485\n",
      "MAE 29.384681004905723\n",
      "MAPE 0.17573549516384993\n",
      "R^2 0.25008579641640094\n"
     ]
    },
    {
     "data": {
      "image/png": "[encoded data removed]",
      "text/plain": [
       "<Figure size 1440x1440 with 3 Axes>"
      ]
     },
     "metadata": {
      "needs_background": "light"
     },
     "output_type": "display_data"
    }
   ],
   "source": [
    "#Minmax scaler has been fit with nd data, add dummy columns so the scaler can be applied to min gas rpice\n",
    "pred_descaled= (scaler.inverse_transform(array([yhat,]*(len(inputs))).transpose()[0]))[:, :1]\n",
    "groud_truth_descaled= (scaler2.inverse_transform(array([y_val2,]*(len(inputs))).transpose()[0][0]))[ :, :1]\n",
    "#groud_truth_descaled= (scaler.inverse_transform(array([y_val,]*(len(inputs))).transpose()[0][0]))[ :, :1]\n",
    "\n",
    "f, (ax1, ax2, ax3) = plt.subplots(3, 1, sharey=True)\n",
    "f.set_figwidth(20)\n",
    "f.set_figheight(20)\n",
    "ax1.plot(groud_truth_descaled)\n",
    "ax1.title.set_text('Gas Price Actual')\n",
    "ax2.plot(pred_descaled)\n",
    "ax2.title.set_text('Gas Price Prediction')\n",
    "ax3.title.set_text('Overlayed')\n",
    "ax3.plot(groud_truth_descaled, color='blue',label='Predicted '+' Gas Price')\n",
    "ax3.plot(pred_descaled, color='red',label='real '+' Gas Price')\n",
    "\n",
    "\n",
    "\n",
    "print('RMSE ' + str(mean_squared_error(groud_truth_descaled, pred_descaled, squared=False)))\n",
    "print('MAE ' + str(mean_absolute_error(groud_truth_descaled, pred_descaled)))\n",
    "print('MAPE ' + str(mean_absolute_percentage_error(groud_truth_descaled, pred_descaled)))\n",
    "print('R^2 ' + str(r2_score(groud_truth_descaled, pred_descaled)))"
   ]
  },
  {
   "cell_type": "markdown",
   "id": "a108b8cb-ee07-4b4c-84ea-8b972403e6f8",
   "metadata": {},
   "source": [
    "## Lets look at the metrics for all lookaheads"
   ]
  },
  {
   "cell_type": "code",
   "execution_count": 56,
   "id": "f0ee7f98-0260-491d-a87a-eb854106b9eb",
   "metadata": {},
   "outputs": [],
   "source": [
    "\n",
    "def descale_y_retrun_metrics(yhat, y_val2):\n",
    "    #We will use validation data that has not had outleirs limited, will be a different min/max scaler as such\n",
    "    pred_descaled= (scaler.inverse_transform(array([yhat,]*(len(inputs))).transpose()[0]))[:, :1]\n",
    "    groud_truth_descaled= (scaler2.inverse_transform(array([y_val2,]*(len(inputs))).transpose()[0][0]))[ :, :1]\n",
    "    RMSE = mean_squared_error(groud_truth_descaled, pred_descaled, squared=False)\n",
    "    MSE = mean_squared_error(groud_truth_descaled, pred_descaled, squared=True)\n",
    "    MAE = mean_absolute_error(groud_truth_descaled, pred_descaled)\n",
    "    MAPE = mean_absolute_percentage_error(groud_truth_descaled, pred_descaled)\n",
    "    R2 = r2_score(groud_truth_descaled, pred_descaled)\n",
    "    return RMSE, MAE, MAPE, R2, MSE"
   ]
  },
  {
   "cell_type": "code",
   "execution_count": 57,
   "id": "fabf27ba-0c7c-4c8b-82fb-2fb6938e5107",
   "metadata": {},
   "outputs": [
    {
     "name": "stdout",
     "output_type": "stream",
     "text": [
      "146/146 [==============================] - 3s 21ms/step\n",
      "146/146 [==============================] - 3s 21ms/step\n",
      "146/146 [==============================] - 4s 21ms/step\n",
      "146/146 [==============================] - 4s 21ms/step\n",
      "146/146 [==============================] - 4s 22ms/step\n",
      "146/146 [==============================] - 3s 21ms/step\n",
      "146/146 [==============================] - 4s 21ms/step\n",
      "146/146 [==============================] - 4s 21ms/step\n",
      "146/146 [==============================] - 3s 21ms/step\n",
      "146/146 [==============================] - 4s 23ms/step\n",
      "146/146 [==============================] - 4s 22ms/step\n",
      "146/146 [==============================] - 4s 22ms/step\n",
      "146/146 [==============================] - 4s 22ms/step\n",
      "146/146 [==============================] - 4s 22ms/step\n",
      "146/146 [==============================] - 3s 21ms/step\n",
      "146/146 [==============================] - 3s 20ms/step\n",
      "146/146 [==============================] - 4s 22ms/step\n",
      "146/146 [==============================] - 3s 21ms/step\n"
     ]
    }
   ],
   "source": [
    "RMSE_list, MAE_list, MAPE_list, R2_list, MSE_list = [],[],[],[],[]\n",
    "for i in range(1,19):\n",
    "    n_step_lookahead = i\n",
    "    model = keras.models.load_model('Direct_Multivariate_Ensemble, n_outputs=1, mars/' + str(i) +'_step_lookahead_Direct_Multivariate' )\n",
    "    X_train, y_train, X_val, y_val, scaler = generate_training_val_examples()\n",
    "    X_train2, y_train2, X_val2, y_val2, scaler2 = generate_training_val_examples_no_limits()\n",
    "    yhat = model.predict(X_val, verbose=1)\n",
    "    RMSE, MAE, MAPE, R2, MSE = descale_y_retrun_metrics(yhat, y_val2)\n",
    "    RMSE_list.append(RMSE)\n",
    "    MAE_list.append(MAE)\n",
    "    MAPE_list.append(MAPE)\n",
    "    R2_list.append(R2)\n",
    "    MSE_list.append(MSE)"
   ]
  },
  {
   "cell_type": "code",
   "execution_count": 58,
   "id": "bde9e7b3-9159-41c2-84d6-acb185b09414",
   "metadata": {},
   "outputs": [],
   "source": [
    "metrics_df = pd.DataFrame({'RMSE':RMSE_list, 'MSE':RMSE_list, 'MAE':MAE_list, 'MAPE':MAPE_list, 'R2':R2_list}, index=range(1,19))\n"
   ]
  },
  {
   "cell_type": "code",
   "execution_count": 61,
   "id": "c076d36c-1dcf-414e-8822-513b3a7e31f9",
   "metadata": {},
   "outputs": [],
   "source": [
    "metrics_df.to_csv('Direct_Multistep_Multivariate_Metrics_2.csv')"
   ]
  },
  {
   "cell_type": "code",
   "execution_count": 59,
   "id": "e733cba3-4caf-4734-807a-cd48eb22c116",
   "metadata": {},
   "outputs": [
    {
     "data": {
      "text/html": [
       "<div>\n",
       "<style scoped>\n",
       "    .dataframe tbody tr th:only-of-type {\n",
       "        vertical-align: middle;\n",
       "    }\n",
       "\n",
       "    .dataframe tbody tr th {\n",
       "        vertical-align: top;\n",
       "    }\n",
       "\n",
       "    .dataframe thead th {\n",
       "        text-align: right;\n",
       "    }\n",
       "</style>\n",
       "<table border=\"1\" class=\"dataframe\">\n",
       "  <thead>\n",
       "    <tr style=\"text-align: right;\">\n",
       "      <th></th>\n",
       "      <th>RMSE</th>\n",
       "      <th>MSE</th>\n",
       "      <th>MAE</th>\n",
       "      <th>MAPE</th>\n",
       "      <th>R2</th>\n",
       "    </tr>\n",
       "  </thead>\n",
       "  <tbody>\n",
       "    <tr>\n",
       "      <th>1</th>\n",
       "      <td>46.093705</td>\n",
       "      <td>46.093705</td>\n",
       "      <td>19.435829</td>\n",
       "      <td>0.109141</td>\n",
       "      <td>0.499594</td>\n",
       "    </tr>\n",
       "    <tr>\n",
       "      <th>2</th>\n",
       "      <td>49.416465</td>\n",
       "      <td>49.416465</td>\n",
       "      <td>24.132708</td>\n",
       "      <td>0.150500</td>\n",
       "      <td>0.424849</td>\n",
       "    </tr>\n",
       "    <tr>\n",
       "      <th>3</th>\n",
       "      <td>51.364177</td>\n",
       "      <td>51.364177</td>\n",
       "      <td>25.247997</td>\n",
       "      <td>0.156080</td>\n",
       "      <td>0.378503</td>\n",
       "    </tr>\n",
       "    <tr>\n",
       "      <th>4</th>\n",
       "      <td>52.727064</td>\n",
       "      <td>52.727064</td>\n",
       "      <td>25.817202</td>\n",
       "      <td>0.157443</td>\n",
       "      <td>0.345084</td>\n",
       "    </tr>\n",
       "    <tr>\n",
       "      <th>5</th>\n",
       "      <td>53.096263</td>\n",
       "      <td>53.096263</td>\n",
       "      <td>27.352520</td>\n",
       "      <td>0.171546</td>\n",
       "      <td>0.335880</td>\n",
       "    </tr>\n",
       "    <tr>\n",
       "      <th>6</th>\n",
       "      <td>54.021329</td>\n",
       "      <td>54.021329</td>\n",
       "      <td>27.870691</td>\n",
       "      <td>0.173030</td>\n",
       "      <td>0.312538</td>\n",
       "    </tr>\n",
       "    <tr>\n",
       "      <th>7</th>\n",
       "      <td>54.327531</td>\n",
       "      <td>54.327531</td>\n",
       "      <td>29.045816</td>\n",
       "      <td>0.187026</td>\n",
       "      <td>0.304551</td>\n",
       "    </tr>\n",
       "    <tr>\n",
       "      <th>8</th>\n",
       "      <td>54.701973</td>\n",
       "      <td>54.701973</td>\n",
       "      <td>30.191496</td>\n",
       "      <td>0.198802</td>\n",
       "      <td>0.294931</td>\n",
       "    </tr>\n",
       "    <tr>\n",
       "      <th>9</th>\n",
       "      <td>55.554632</td>\n",
       "      <td>55.554632</td>\n",
       "      <td>30.889443</td>\n",
       "      <td>0.202816</td>\n",
       "      <td>0.272780</td>\n",
       "    </tr>\n",
       "    <tr>\n",
       "      <th>10</th>\n",
       "      <td>55.293055</td>\n",
       "      <td>55.293055</td>\n",
       "      <td>29.409941</td>\n",
       "      <td>0.186526</td>\n",
       "      <td>0.279681</td>\n",
       "    </tr>\n",
       "    <tr>\n",
       "      <th>11</th>\n",
       "      <td>57.017142</td>\n",
       "      <td>57.017142</td>\n",
       "      <td>32.357005</td>\n",
       "      <td>0.214689</td>\n",
       "      <td>0.234060</td>\n",
       "    </tr>\n",
       "    <tr>\n",
       "      <th>12</th>\n",
       "      <td>56.241287</td>\n",
       "      <td>56.241287</td>\n",
       "      <td>30.035913</td>\n",
       "      <td>0.188616</td>\n",
       "      <td>0.254763</td>\n",
       "    </tr>\n",
       "    <tr>\n",
       "      <th>13</th>\n",
       "      <td>61.853351</td>\n",
       "      <td>61.853351</td>\n",
       "      <td>37.126531</td>\n",
       "      <td>0.262430</td>\n",
       "      <td>0.098627</td>\n",
       "    </tr>\n",
       "    <tr>\n",
       "      <th>14</th>\n",
       "      <td>56.565615</td>\n",
       "      <td>56.565615</td>\n",
       "      <td>32.431858</td>\n",
       "      <td>0.218213</td>\n",
       "      <td>0.246153</td>\n",
       "    </tr>\n",
       "    <tr>\n",
       "      <th>15</th>\n",
       "      <td>60.232499</td>\n",
       "      <td>60.232499</td>\n",
       "      <td>35.326257</td>\n",
       "      <td>0.239043</td>\n",
       "      <td>0.145249</td>\n",
       "    </tr>\n",
       "    <tr>\n",
       "      <th>16</th>\n",
       "      <td>57.810339</td>\n",
       "      <td>57.810339</td>\n",
       "      <td>31.382880</td>\n",
       "      <td>0.203123</td>\n",
       "      <td>0.212611</td>\n",
       "    </tr>\n",
       "    <tr>\n",
       "      <th>17</th>\n",
       "      <td>62.674993</td>\n",
       "      <td>62.674993</td>\n",
       "      <td>38.455140</td>\n",
       "      <td>0.266416</td>\n",
       "      <td>0.074677</td>\n",
       "    </tr>\n",
       "    <tr>\n",
       "      <th>18</th>\n",
       "      <td>58.096148</td>\n",
       "      <td>58.096148</td>\n",
       "      <td>34.293420</td>\n",
       "      <td>0.235553</td>\n",
       "      <td>0.204941</td>\n",
       "    </tr>\n",
       "  </tbody>\n",
       "</table>\n",
       "</div>"
      ],
      "text/plain": [
       "         RMSE        MSE        MAE      MAPE        R2\n",
       "1   46.093705  46.093705  19.435829  0.109141  0.499594\n",
       "2   49.416465  49.416465  24.132708  0.150500  0.424849\n",
       "3   51.364177  51.364177  25.247997  0.156080  0.378503\n",
       "4   52.727064  52.727064  25.817202  0.157443  0.345084\n",
       "5   53.096263  53.096263  27.352520  0.171546  0.335880\n",
       "6   54.021329  54.021329  27.870691  0.173030  0.312538\n",
       "7   54.327531  54.327531  29.045816  0.187026  0.304551\n",
       "8   54.701973  54.701973  30.191496  0.198802  0.294931\n",
       "9   55.554632  55.554632  30.889443  0.202816  0.272780\n",
       "10  55.293055  55.293055  29.409941  0.186526  0.279681\n",
       "11  57.017142  57.017142  32.357005  0.214689  0.234060\n",
       "12  56.241287  56.241287  30.035913  0.188616  0.254763\n",
       "13  61.853351  61.853351  37.126531  0.262430  0.098627\n",
       "14  56.565615  56.565615  32.431858  0.218213  0.246153\n",
       "15  60.232499  60.232499  35.326257  0.239043  0.145249\n",
       "16  57.810339  57.810339  31.382880  0.203123  0.212611\n",
       "17  62.674993  62.674993  38.455140  0.266416  0.074677\n",
       "18  58.096148  58.096148  34.293420  0.235553  0.204941"
      ]
     },
     "execution_count": 59,
     "metadata": {},
     "output_type": "execute_result"
    }
   ],
   "source": [
    "metrics_df"
   ]
  },
  {
   "cell_type": "code",
   "execution_count": null,
   "id": "2779cac1-b3f4-4ac9-8a34-e6160bc89f60",
   "metadata": {},
   "outputs": [],
   "source": []
  }
 ],
 "metadata": {
  "kernelspec": {
   "display_name": "Python 3 (ipykernel)",
   "language": "python",
   "name": "python3"
  },
  "language_info": {
   "codemirror_mode": {
    "name": "ipython",
    "version": 3
   },
   "file_extension": ".py",
   "mimetype": "text/x-python",
   "name": "python",
   "nbconvert_exporter": "python",
   "pygments_lexer": "ipython3",
   "version": "3.9.7"
  }
 },
 "nbformat": 4,
 "nbformat_minor": 5
}
