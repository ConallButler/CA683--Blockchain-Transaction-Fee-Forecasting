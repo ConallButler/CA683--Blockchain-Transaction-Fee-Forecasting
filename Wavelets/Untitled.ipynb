{
 "cells": [
  {
   "cell_type": "code",
   "execution_count": 7,
   "id": "0860e356",
   "metadata": {},
   "outputs": [
    {
     "name": "stderr",
     "output_type": "stream",
     "text": [
      "Using libcurl 7.64.1 with Schannel\n",
      "\n"
     ]
    }
   ],
   "source": [
    "library(biwavelet)\n",
    "library(zoo) # For time series\n",
    "library(curl)"
   ]
  },
  {
   "cell_type": "code",
   "execution_count": 2,
   "id": "fe95ec30",
   "metadata": {},
   "outputs": [],
   "source": [
    "Data <- read.csv(\"C:\\\\Users\\\\conal\\\\Desktop\\\\MCM\\\\Practicum\\\\data\\\\ETH,gas,usage merged 11-26 to 01-26.csv\")"
   ]
  },
  {
   "cell_type": "code",
   "execution_count": 3,
   "id": "dd7f95b5",
   "metadata": {},
   "outputs": [
    {
     "data": {
      "text/html": [
       "<table class=\"dataframe\">\n",
       "<caption>A data.frame: 6 × 8</caption>\n",
       "<thead>\n",
       "\t<tr><th></th><th scope=col>datetime</th><th scope=col>gas_limit</th><th scope=col>gas_used</th><th scope=col>Open</th><th scope=col>avg_gas_price</th><th scope=col>max_gas_price</th><th scope=col>min_gas_price</th><th scope=col>block_utilisation</th></tr>\n",
       "\t<tr><th></th><th scope=col>&lt;chr&gt;</th><th scope=col>&lt;dbl&gt;</th><th scope=col>&lt;dbl&gt;</th><th scope=col>&lt;dbl&gt;</th><th scope=col>&lt;dbl&gt;</th><th scope=col>&lt;dbl&gt;</th><th scope=col>&lt;dbl&gt;</th><th scope=col>&lt;dbl&gt;</th></tr>\n",
       "</thead>\n",
       "<tbody>\n",
       "\t<tr><th scope=row>1</th><td>2021-11-26 00:00:00</td><td>29992673</td><td>13471634</td><td>4524.48</td><td> 96.87951</td><td>340.1477</td><td>81.68553</td><td>0.4491642</td></tr>\n",
       "\t<tr><th scope=row>2</th><td>2021-11-26 00:01:00</td><td>29999991</td><td>15168195</td><td>4529.90</td><td>100.55543</td><td>391.8277</td><td>82.40792</td><td>0.5056066</td></tr>\n",
       "\t<tr><th scope=row>3</th><td>2021-11-26 00:02:00</td><td>30043943</td><td>18203555</td><td>4528.51</td><td> 91.89840</td><td>435.1020</td><td>75.40829</td><td>0.6058977</td></tr>\n",
       "\t<tr><th scope=row>4</th><td>2021-11-26 00:03:00</td><td>29999988</td><td>18020441</td><td>4533.54</td><td> 91.04711</td><td>378.7148</td><td>83.79399</td><td>0.6006816</td></tr>\n",
       "\t<tr><th scope=row>5</th><td>2021-11-26 00:04:00</td><td>30014633</td><td>15731356</td><td>4534.97</td><td>108.14150</td><td>535.5105</td><td>96.35265</td><td>0.5241229</td></tr>\n",
       "\t<tr><th scope=row>6</th><td>2021-11-26 00:05:00</td><td>29992655</td><td>19835067</td><td>4535.31</td><td>108.76125</td><td>343.8863</td><td>96.11986</td><td>0.6613308</td></tr>\n",
       "</tbody>\n",
       "</table>\n"
      ],
      "text/latex": [
       "A data.frame: 6 × 8\n",
       "\\begin{tabular}{r|llllllll}\n",
       "  & datetime & gas\\_limit & gas\\_used & Open & avg\\_gas\\_price & max\\_gas\\_price & min\\_gas\\_price & block\\_utilisation\\\\\n",
       "  & <chr> & <dbl> & <dbl> & <dbl> & <dbl> & <dbl> & <dbl> & <dbl>\\\\\n",
       "\\hline\n",
       "\t1 & 2021-11-26 00:00:00 & 29992673 & 13471634 & 4524.48 &  96.87951 & 340.1477 & 81.68553 & 0.4491642\\\\\n",
       "\t2 & 2021-11-26 00:01:00 & 29999991 & 15168195 & 4529.90 & 100.55543 & 391.8277 & 82.40792 & 0.5056066\\\\\n",
       "\t3 & 2021-11-26 00:02:00 & 30043943 & 18203555 & 4528.51 &  91.89840 & 435.1020 & 75.40829 & 0.6058977\\\\\n",
       "\t4 & 2021-11-26 00:03:00 & 29999988 & 18020441 & 4533.54 &  91.04711 & 378.7148 & 83.79399 & 0.6006816\\\\\n",
       "\t5 & 2021-11-26 00:04:00 & 30014633 & 15731356 & 4534.97 & 108.14150 & 535.5105 & 96.35265 & 0.5241229\\\\\n",
       "\t6 & 2021-11-26 00:05:00 & 29992655 & 19835067 & 4535.31 & 108.76125 & 343.8863 & 96.11986 & 0.6613308\\\\\n",
       "\\end{tabular}\n"
      ],
      "text/markdown": [
       "\n",
       "A data.frame: 6 × 8\n",
       "\n",
       "| <!--/--> | datetime &lt;chr&gt; | gas_limit &lt;dbl&gt; | gas_used &lt;dbl&gt; | Open &lt;dbl&gt; | avg_gas_price &lt;dbl&gt; | max_gas_price &lt;dbl&gt; | min_gas_price &lt;dbl&gt; | block_utilisation &lt;dbl&gt; |\n",
       "|---|---|---|---|---|---|---|---|---|\n",
       "| 1 | 2021-11-26 00:00:00 | 29992673 | 13471634 | 4524.48 |  96.87951 | 340.1477 | 81.68553 | 0.4491642 |\n",
       "| 2 | 2021-11-26 00:01:00 | 29999991 | 15168195 | 4529.90 | 100.55543 | 391.8277 | 82.40792 | 0.5056066 |\n",
       "| 3 | 2021-11-26 00:02:00 | 30043943 | 18203555 | 4528.51 |  91.89840 | 435.1020 | 75.40829 | 0.6058977 |\n",
       "| 4 | 2021-11-26 00:03:00 | 29999988 | 18020441 | 4533.54 |  91.04711 | 378.7148 | 83.79399 | 0.6006816 |\n",
       "| 5 | 2021-11-26 00:04:00 | 30014633 | 15731356 | 4534.97 | 108.14150 | 535.5105 | 96.35265 | 0.5241229 |\n",
       "| 6 | 2021-11-26 00:05:00 | 29992655 | 19835067 | 4535.31 | 108.76125 | 343.8863 | 96.11986 | 0.6613308 |\n",
       "\n"
      ],
      "text/plain": [
       "  datetime            gas_limit gas_used Open    avg_gas_price max_gas_price\n",
       "1 2021-11-26 00:00:00 29992673  13471634 4524.48  96.87951     340.1477     \n",
       "2 2021-11-26 00:01:00 29999991  15168195 4529.90 100.55543     391.8277     \n",
       "3 2021-11-26 00:02:00 30043943  18203555 4528.51  91.89840     435.1020     \n",
       "4 2021-11-26 00:03:00 29999988  18020441 4533.54  91.04711     378.7148     \n",
       "5 2021-11-26 00:04:00 30014633  15731356 4534.97 108.14150     535.5105     \n",
       "6 2021-11-26 00:05:00 29992655  19835067 4535.31 108.76125     343.8863     \n",
       "  min_gas_price block_utilisation\n",
       "1 81.68553      0.4491642        \n",
       "2 82.40792      0.5056066        \n",
       "3 75.40829      0.6058977        \n",
       "4 83.79399      0.6006816        \n",
       "5 96.35265      0.5241229        \n",
       "6 96.11986      0.6613308        "
      ]
     },
     "metadata": {},
     "output_type": "display_data"
    }
   ],
   "source": [
    "head(Data)"
   ]
  },
  {
   "cell_type": "code",
   "execution_count": 4,
   "id": "fb983d3b",
   "metadata": {},
   "outputs": [],
   "source": [
    "Data[is.na(Data)] <- 0"
   ]
  },
  {
   "cell_type": "code",
   "execution_count": null,
   "id": "bc85710e",
   "metadata": {},
   "outputs": [],
   "source": []
  }
 ],
 "metadata": {
  "kernelspec": {
   "display_name": "R",
   "language": "R",
   "name": "ir"
  },
  "language_info": {
   "codemirror_mode": "r",
   "file_extension": ".r",
   "mimetype": "text/x-r-source",
   "name": "R",
   "pygments_lexer": "r",
   "version": "4.1.2"
  }
 },
 "nbformat": 4,
 "nbformat_minor": 5
}
