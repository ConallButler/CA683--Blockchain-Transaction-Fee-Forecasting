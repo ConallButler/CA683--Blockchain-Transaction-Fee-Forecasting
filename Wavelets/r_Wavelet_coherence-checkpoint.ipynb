{
 "cells": [
  {
   "cell_type": "code",
   "execution_count": 2,
   "id": "c02f5cd7",
   "metadata": {},
   "outputs": [
    {
     "name": "stderr",
     "output_type": "stream",
     "text": [
      "Installing package into 'C:/Users/conal/Documents/R/win-library/4.1'\n",
      "(as 'lib' is unspecified)\n",
      "\n",
      "also installing the dependencies 'colorspace', 'farver', 'labeling', 'munsell', 'R6', 'RColorBrewer', 'magrittr', 'pkgconfig', 'gtable', 'isoband', 'scales', 'tibble', 'withr', 'dotCall64', 'viridisLite', 'ggplot2', 'gridExtra', 'spam', 'viridis', 'maps', 'iterators', 'fields', 'foreach', 'Rcpp'\n",
      "\n",
      "\n"
     ]
    },
    {
     "name": "stdout",
     "output_type": "stream",
     "text": [
      "\n",
      "  There is a binary version available but the source version is later:\n",
      "           binary source needs_compilation\n",
      "colorspace  2.0-2  2.0-3              TRUE\n",
      "\n",
      "package 'farver' successfully unpacked and MD5 sums checked\n",
      "package 'labeling' successfully unpacked and MD5 sums checked\n",
      "package 'munsell' successfully unpacked and MD5 sums checked\n",
      "package 'R6' successfully unpacked and MD5 sums checked\n",
      "package 'RColorBrewer' successfully unpacked and MD5 sums checked\n",
      "package 'magrittr' successfully unpacked and MD5 sums checked\n",
      "package 'pkgconfig' successfully unpacked and MD5 sums checked\n",
      "package 'gtable' successfully unpacked and MD5 sums checked\n",
      "package 'isoband' successfully unpacked and MD5 sums checked\n",
      "package 'scales' successfully unpacked and MD5 sums checked\n",
      "package 'tibble' successfully unpacked and MD5 sums checked\n",
      "package 'withr' successfully unpacked and MD5 sums checked\n",
      "package 'dotCall64' successfully unpacked and MD5 sums checked\n",
      "package 'viridisLite' successfully unpacked and MD5 sums checked\n",
      "package 'ggplot2' successfully unpacked and MD5 sums checked\n",
      "package 'gridExtra' successfully unpacked and MD5 sums checked\n",
      "package 'spam' successfully unpacked and MD5 sums checked\n",
      "package 'viridis' successfully unpacked and MD5 sums checked\n",
      "package 'maps' successfully unpacked and MD5 sums checked\n",
      "package 'iterators' successfully unpacked and MD5 sums checked\n",
      "package 'fields' successfully unpacked and MD5 sums checked\n",
      "package 'foreach' successfully unpacked and MD5 sums checked\n",
      "package 'Rcpp' successfully unpacked and MD5 sums checked\n",
      "package 'biwavelet' successfully unpacked and MD5 sums checked\n",
      "\n",
      "The downloaded binary packages are in\n",
      "\tC:\\Users\\conal\\AppData\\Local\\Temp\\Rtmpma510o\\downloaded_packages\n"
     ]
    },
    {
     "name": "stderr",
     "output_type": "stream",
     "text": [
      "installing the source package 'colorspace'\n",
      "\n",
      "\n"
     ]
    }
   ],
   "source": [
    "install.packages(\"biwavelet\")"
   ]
  },
  {
   "cell_type": "code",
   "execution_count": 3,
   "id": "f8ca8858",
   "metadata": {},
   "outputs": [
    {
     "name": "stderr",
     "output_type": "stream",
     "text": [
      "biwavelet 0.20.21 loaded.\n",
      "\n"
     ]
    }
   ],
   "source": [
    "library(biwavelet)\n"
   ]
  },
  {
   "cell_type": "code",
   "execution_count": 23,
   "id": "7ae8edde",
   "metadata": {},
   "outputs": [],
   "source": [
    "Data <- read.csv(\"C:\\\\Users\\\\conal\\\\Desktop\\\\MCM\\\\Practicum\\\\data\\\\ETH,gas,usage merged 11-26 to 01-26.csv\")"
   ]
  },
  {
   "cell_type": "code",
   "execution_count": 24,
   "id": "2dc622c5",
   "metadata": {},
   "outputs": [
    {
     "data": {
      "text/html": [
       "<table class=\"dataframe\">\n",
       "<caption>A data.frame: 6 × 8</caption>\n",
       "<thead>\n",
       "\t<tr><th></th><th scope=col>Date</th><th scope=col>gas_limit</th><th scope=col>gas_used</th><th scope=col>Open</th><th scope=col>avg_gas_price</th><th scope=col>max_gas_price</th><th scope=col>min_gas_price</th><th scope=col>block_utilisation</th></tr>\n",
       "\t<tr><th></th><th scope=col>&lt;chr&gt;</th><th scope=col>&lt;dbl&gt;</th><th scope=col>&lt;dbl&gt;</th><th scope=col>&lt;dbl&gt;</th><th scope=col>&lt;dbl&gt;</th><th scope=col>&lt;dbl&gt;</th><th scope=col>&lt;dbl&gt;</th><th scope=col>&lt;dbl&gt;</th></tr>\n",
       "</thead>\n",
       "<tbody>\n",
       "\t<tr><th scope=row>1</th><td>26/11/2021 00:00</td><td>29992673</td><td>13471634</td><td>4524.48</td><td> 96.87954</td><td>340.1478</td><td>81.68553</td><td>0.4491642</td></tr>\n",
       "\t<tr><th scope=row>2</th><td>26/11/2021 00:01</td><td>29999991</td><td>15168195</td><td>4529.90</td><td>100.55549</td><td>391.8277</td><td>82.40792</td><td>0.5056066</td></tr>\n",
       "\t<tr><th scope=row>3</th><td>26/11/2021 00:02</td><td>30043943</td><td>18203555</td><td>4528.51</td><td> 91.89840</td><td>435.1021</td><td>75.40829</td><td>0.6058977</td></tr>\n",
       "\t<tr><th scope=row>4</th><td>26/11/2021 00:03</td><td>29999988</td><td>18020441</td><td>4533.54</td><td> 91.04711</td><td>378.7140</td><td>83.79399</td><td>0.6006816</td></tr>\n",
       "\t<tr><th scope=row>5</th><td>26/11/2021 00:04</td><td>30014633</td><td>15731356</td><td>4534.97</td><td>108.14141</td><td>535.5103</td><td>96.35271</td><td>0.5241229</td></tr>\n",
       "\t<tr><th scope=row>6</th><td>26/11/2021 00:05</td><td>29992655</td><td>19835067</td><td>4535.31</td><td>108.76125</td><td>343.8862</td><td>96.11979</td><td>0.6613308</td></tr>\n",
       "</tbody>\n",
       "</table>\n"
      ],
      "text/latex": [
       "A data.frame: 6 × 8\n",
       "\\begin{tabular}{r|llllllll}\n",
       "  & Date & gas\\_limit & gas\\_used & Open & avg\\_gas\\_price & max\\_gas\\_price & min\\_gas\\_price & block\\_utilisation\\\\\n",
       "  & <chr> & <dbl> & <dbl> & <dbl> & <dbl> & <dbl> & <dbl> & <dbl>\\\\\n",
       "\\hline\n",
       "\t1 & 26/11/2021 00:00 & 29992673 & 13471634 & 4524.48 &  96.87954 & 340.1478 & 81.68553 & 0.4491642\\\\\n",
       "\t2 & 26/11/2021 00:01 & 29999991 & 15168195 & 4529.90 & 100.55549 & 391.8277 & 82.40792 & 0.5056066\\\\\n",
       "\t3 & 26/11/2021 00:02 & 30043943 & 18203555 & 4528.51 &  91.89840 & 435.1021 & 75.40829 & 0.6058977\\\\\n",
       "\t4 & 26/11/2021 00:03 & 29999988 & 18020441 & 4533.54 &  91.04711 & 378.7140 & 83.79399 & 0.6006816\\\\\n",
       "\t5 & 26/11/2021 00:04 & 30014633 & 15731356 & 4534.97 & 108.14141 & 535.5103 & 96.35271 & 0.5241229\\\\\n",
       "\t6 & 26/11/2021 00:05 & 29992655 & 19835067 & 4535.31 & 108.76125 & 343.8862 & 96.11979 & 0.6613308\\\\\n",
       "\\end{tabular}\n"
      ],
      "text/markdown": [
       "\n",
       "A data.frame: 6 × 8\n",
       "\n",
       "| <!--/--> | Date &lt;chr&gt; | gas_limit &lt;dbl&gt; | gas_used &lt;dbl&gt; | Open &lt;dbl&gt; | avg_gas_price &lt;dbl&gt; | max_gas_price &lt;dbl&gt; | min_gas_price &lt;dbl&gt; | block_utilisation &lt;dbl&gt; |\n",
       "|---|---|---|---|---|---|---|---|---|\n",
       "| 1 | 26/11/2021 00:00 | 29992673 | 13471634 | 4524.48 |  96.87954 | 340.1478 | 81.68553 | 0.4491642 |\n",
       "| 2 | 26/11/2021 00:01 | 29999991 | 15168195 | 4529.90 | 100.55549 | 391.8277 | 82.40792 | 0.5056066 |\n",
       "| 3 | 26/11/2021 00:02 | 30043943 | 18203555 | 4528.51 |  91.89840 | 435.1021 | 75.40829 | 0.6058977 |\n",
       "| 4 | 26/11/2021 00:03 | 29999988 | 18020441 | 4533.54 |  91.04711 | 378.7140 | 83.79399 | 0.6006816 |\n",
       "| 5 | 26/11/2021 00:04 | 30014633 | 15731356 | 4534.97 | 108.14141 | 535.5103 | 96.35271 | 0.5241229 |\n",
       "| 6 | 26/11/2021 00:05 | 29992655 | 19835067 | 4535.31 | 108.76125 | 343.8862 | 96.11979 | 0.6613308 |\n",
       "\n"
      ],
      "text/plain": [
       "  Date             gas_limit gas_used Open    avg_gas_price max_gas_price\n",
       "1 26/11/2021 00:00 29992673  13471634 4524.48  96.87954     340.1478     \n",
       "2 26/11/2021 00:01 29999991  15168195 4529.90 100.55549     391.8277     \n",
       "3 26/11/2021 00:02 30043943  18203555 4528.51  91.89840     435.1021     \n",
       "4 26/11/2021 00:03 29999988  18020441 4533.54  91.04711     378.7140     \n",
       "5 26/11/2021 00:04 30014633  15731356 4534.97 108.14141     535.5103     \n",
       "6 26/11/2021 00:05 29992655  19835067 4535.31 108.76125     343.8862     \n",
       "  min_gas_price block_utilisation\n",
       "1 81.68553      0.4491642        \n",
       "2 82.40792      0.5056066        \n",
       "3 75.40829      0.6058977        \n",
       "4 83.79399      0.6006816        \n",
       "5 96.35271      0.5241229        \n",
       "6 96.11979      0.6613308        "
      ]
     },
     "metadata": {},
     "output_type": "display_data"
    }
   ],
   "source": [
    "head(Data)"
   ]
  },
  {
   "cell_type": "code",
   "execution_count": 25,
   "id": "c73d805e",
   "metadata": {},
   "outputs": [
    {
     "ename": "ERROR",
     "evalue": "Error in cbind(Date, gas_limit): object 'Date' not found\n",
     "output_type": "error",
     "traceback": [
      "Error in cbind(Date, gas_limit): object 'Date' not found\nTraceback:\n",
      "1. cbind(Date, gas_limit)"
     ]
    }
   ],
   "source": [
    "gas_limit = cbind(Date, gas_limit)\n",
    "gas_used = cbind(Date, gas_used)\n",
    "Open = cbind(Date, Open)\n",
    "min_gas_price = cbind(Date, min_gas_price)\n",
    "avg_gas_price = cbind(Date, avg_gas_price)\n",
    "max_gas_price = cbind(Date, max_gas_price)\n",
    "block_utilisation = cbind(Date, block_utilisation)"
   ]
  },
  {
   "cell_type": "code",
   "execution_count": null,
   "id": "860be808",
   "metadata": {},
   "outputs": [],
   "source": []
  }
 ],
 "metadata": {
  "kernelspec": {
   "display_name": "R",
   "language": "R",
   "name": "ir"
  },
  "language_info": {
   "codemirror_mode": "r",
   "file_extension": ".r",
   "mimetype": "text/x-r-source",
   "name": "R",
   "pygments_lexer": "r",
   "version": "4.1.2"
  }
 },
 "nbformat": 4,
 "nbformat_minor": 5
}
