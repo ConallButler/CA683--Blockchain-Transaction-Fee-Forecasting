{
 "cells": [
  {
   "cell_type": "markdown",
   "id": "30c78619",
   "metadata": {},
   "source": [
    "Below method was attempted, however the first line of each csv would not line break properly in the new csv; there were ~ 150 rows with only, of which only 11 had data past the first row. Concatenating csvs manually demmed faster than debugging in this case\n",
    "\n",
    "https://www.freecodecamp.org/news/how-to-combine-multiple-csv-files-with-8-lines-of-code-265183e0854/"
   ]
  },
  {
   "cell_type": "code",
   "execution_count": 16,
   "id": "1e2b2736",
   "metadata": {
    "scrolled": true
   },
   "outputs": [],
   "source": [
    "import os\n",
    "import glob\n",
    "import pandas as pd\n"
   ]
  },
  {
   "cell_type": "code",
   "execution_count": 41,
   "id": "a73331d2",
   "metadata": {},
   "outputs": [],
   "source": [
    "df1 = pd.read_csv (r\"C:\\Users\\conal\\Desktop\\MCM\\Practicum\\data\\ETH\\ETHUSDT-1m-2021-01.csv\", header=None)\n",
    "df2 = pd.read_csv (r\"C:\\Users\\conal\\Desktop\\MCM\\Practicum\\data\\ETH\\ETHUSDT-1m-2021-02.csv\", header=None)\n",
    "df3 = pd.read_csv (r\"C:\\Users\\conal\\Desktop\\MCM\\Practicum\\data\\ETH\\ETHUSDT-1m-2021-03.csv\", header=None)\n",
    "df4 = pd.read_csv (r\"C:\\Users\\conal\\Desktop\\MCM\\Practicum\\data\\ETH\\ETHUSDT-1m-2021-04.csv\", header=None)\n",
    "df5 = pd.read_csv (r\"C:\\Users\\conal\\Desktop\\MCM\\Practicum\\data\\ETH\\ETHUSDT-1m-2021-05.csv\", header=None)\n",
    "df6 = pd.read_csv (r\"C:\\Users\\conal\\Desktop\\MCM\\Practicum\\data\\ETH\\ETHUSDT-1m-2021-06.csv\", header=None)\n",
    "df7 = pd.read_csv (r\"C:\\Users\\conal\\Desktop\\MCM\\Practicum\\data\\ETH\\ETHUSDT-1m-2021-07.csv\", header=None)\n",
    "df8 = pd.read_csv (r\"C:\\Users\\conal\\Desktop\\MCM\\Practicum\\data\\ETH\\ETHUSDT-1m-2021-08.csv\", header=None)\n",
    "df9 = pd.read_csv (r\"C:\\Users\\conal\\Desktop\\MCM\\Practicum\\data\\ETH\\ETHUSDT-1m-2021-09.csv\", header=None)\n",
    "df10 = pd.read_csv (r\"C:\\Users\\conal\\Desktop\\MCM\\Practicum\\data\\ETH\\ETHUSDT-1m-2021-10.csv\", header=None)\n",
    "df11 = pd.read_csv (r\"C:\\Users\\conal\\Desktop\\MCM\\Practicum\\data\\ETH\\ETHUSDT-1m-2021-11.csv\", header=None)\n",
    "df12 = pd.read_csv (r\"C:\\Users\\conal\\Desktop\\MCM\\Practicum\\data\\ETH\\ETHUSDT-1m-2021-12.csv\", header=None)\n",
    "df13 = pd.read_csv (r\"C:\\Users\\conal\\Desktop\\MCM\\Practicum\\data\\ETH\\ETHUSDT-1m-2022-01.csv\", header=None)\n",
    "df14 = pd.read_csv (r\"C:\\Users\\conal\\Desktop\\MCM\\Practicum\\data\\ETH\\ETHUSDT-1m-2022-02.csv\", header=None)"
   ]
  },
  {
   "cell_type": "code",
   "execution_count": 42,
   "id": "1fa1814b",
   "metadata": {},
   "outputs": [],
   "source": [
    "merged = pd.concat([df1, df2, df3, df4, df5, df6, df7, df8, df9, df10, df11, df12, df13, df14])"
   ]
  },
  {
   "cell_type": "code",
   "execution_count": 43,
   "id": "3e7775d0",
   "metadata": {},
   "outputs": [
    {
     "data": {
      "text/html": [
       "<div>\n",
       "<style scoped>\n",
       "    .dataframe tbody tr th:only-of-type {\n",
       "        vertical-align: middle;\n",
       "    }\n",
       "\n",
       "    .dataframe tbody tr th {\n",
       "        vertical-align: top;\n",
       "    }\n",
       "\n",
       "    .dataframe thead th {\n",
       "        text-align: right;\n",
       "    }\n",
       "</style>\n",
       "<table border=\"1\" class=\"dataframe\">\n",
       "  <thead>\n",
       "    <tr style=\"text-align: right;\">\n",
       "      <th></th>\n",
       "      <th>0</th>\n",
       "      <th>1</th>\n",
       "      <th>2</th>\n",
       "      <th>3</th>\n",
       "      <th>4</th>\n",
       "      <th>5</th>\n",
       "      <th>6</th>\n",
       "      <th>7</th>\n",
       "      <th>8</th>\n",
       "      <th>9</th>\n",
       "      <th>10</th>\n",
       "      <th>11</th>\n",
       "    </tr>\n",
       "  </thead>\n",
       "  <tbody>\n",
       "    <tr>\n",
       "      <th>0</th>\n",
       "      <td>1609459200000</td>\n",
       "      <td>736.42</td>\n",
       "      <td>737.09</td>\n",
       "      <td>735.94</td>\n",
       "      <td>737.02</td>\n",
       "      <td>647.71994</td>\n",
       "      <td>1609459259999</td>\n",
       "      <td>476877.876291</td>\n",
       "      <td>359</td>\n",
       "      <td>484.87834</td>\n",
       "      <td>356959.311632</td>\n",
       "      <td>0</td>\n",
       "    </tr>\n",
       "    <tr>\n",
       "      <th>1</th>\n",
       "      <td>1609459260000</td>\n",
       "      <td>737.12</td>\n",
       "      <td>739.00</td>\n",
       "      <td>737.06</td>\n",
       "      <td>738.74</td>\n",
       "      <td>1122.95415</td>\n",
       "      <td>1609459319999</td>\n",
       "      <td>828662.134054</td>\n",
       "      <td>643</td>\n",
       "      <td>801.45291</td>\n",
       "      <td>591231.725025</td>\n",
       "      <td>0</td>\n",
       "    </tr>\n",
       "    <tr>\n",
       "      <th>2</th>\n",
       "      <td>1609459320000</td>\n",
       "      <td>738.78</td>\n",
       "      <td>738.81</td>\n",
       "      <td>737.35</td>\n",
       "      <td>737.82</td>\n",
       "      <td>418.49987</td>\n",
       "      <td>1609459379999</td>\n",
       "      <td>308922.657830</td>\n",
       "      <td>283</td>\n",
       "      <td>202.66306</td>\n",
       "      <td>149569.394165</td>\n",
       "      <td>0</td>\n",
       "    </tr>\n",
       "    <tr>\n",
       "      <th>3</th>\n",
       "      <td>1609459380000</td>\n",
       "      <td>737.74</td>\n",
       "      <td>738.20</td>\n",
       "      <td>737.28</td>\n",
       "      <td>737.43</td>\n",
       "      <td>305.98424</td>\n",
       "      <td>1609459439999</td>\n",
       "      <td>225752.744573</td>\n",
       "      <td>251</td>\n",
       "      <td>235.36847</td>\n",
       "      <td>173656.181372</td>\n",
       "      <td>0</td>\n",
       "    </tr>\n",
       "    <tr>\n",
       "      <th>4</th>\n",
       "      <td>1609459440000</td>\n",
       "      <td>737.38</td>\n",
       "      <td>737.80</td>\n",
       "      <td>736.80</td>\n",
       "      <td>736.89</td>\n",
       "      <td>350.36312</td>\n",
       "      <td>1609459499999</td>\n",
       "      <td>258306.222210</td>\n",
       "      <td>277</td>\n",
       "      <td>217.56157</td>\n",
       "      <td>160412.714708</td>\n",
       "      <td>0</td>\n",
       "    </tr>\n",
       "  </tbody>\n",
       "</table>\n",
       "</div>"
      ],
      "text/plain": [
       "              0       1       2       3       4           5              6   \\\n",
       "0  1609459200000  736.42  737.09  735.94  737.02   647.71994  1609459259999   \n",
       "1  1609459260000  737.12  739.00  737.06  738.74  1122.95415  1609459319999   \n",
       "2  1609459320000  738.78  738.81  737.35  737.82   418.49987  1609459379999   \n",
       "3  1609459380000  737.74  738.20  737.28  737.43   305.98424  1609459439999   \n",
       "4  1609459440000  737.38  737.80  736.80  736.89   350.36312  1609459499999   \n",
       "\n",
       "              7    8          9              10  11  \n",
       "0  476877.876291  359  484.87834  356959.311632   0  \n",
       "1  828662.134054  643  801.45291  591231.725025   0  \n",
       "2  308922.657830  283  202.66306  149569.394165   0  \n",
       "3  225752.744573  251  235.36847  173656.181372   0  \n",
       "4  258306.222210  277  217.56157  160412.714708   0  "
      ]
     },
     "execution_count": 43,
     "metadata": {},
     "output_type": "execute_result"
    }
   ],
   "source": [
    "merged.head()"
   ]
  },
  {
   "cell_type": "code",
   "execution_count": null,
   "id": "898a73f7",
   "metadata": {},
   "outputs": [],
   "source": [
    "merged.to_csv(r'C:\\Users\\conal\\Desktop\\MCM\\Practicum\\data\\ETH\\eth_price_data_2021-01-01_2022-03-02.csv', sep=',')"
   ]
  }
 ],
 "metadata": {
  "kernelspec": {
   "display_name": "Python 3 (ipykernel)",
   "language": "python",
   "name": "python3"
  },
  "language_info": {
   "codemirror_mode": {
    "name": "ipython",
    "version": 3
   },
   "file_extension": ".py",
   "mimetype": "text/x-python",
   "name": "python",
   "nbconvert_exporter": "python",
   "pygments_lexer": "ipython3",
   "version": "3.9.7"
  }
 },
 "nbformat": 4,
 "nbformat_minor": 5
}
